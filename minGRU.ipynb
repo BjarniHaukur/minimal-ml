{
 "cells": [
  {
   "cell_type": "markdown",
   "metadata": {},
   "source": [
    "# <b>Were RNNs All We Needed?</b>\n",
    "[https://arxiv.org/pdf/2410.01201](https://arxiv.org/pdf/2410.01201)\n",
    "\n",
    "Traditional RNN architectures like GRUs and LSTMs have been widely used for sequence modeling due to their ability to handle temporal dependencies. However, these models come with significant drawbacks. Training requires **backpropagation through time (BPTT)**, which is computationally intensive and limits parallelization. Additionally, they are prone to **vanishing** and **exploding gradient** issues, especially when processing long sequences.\n",
    "\n",
    "The **minGRU** addresses these limitations. It removes the need for BPTT by eliminating hidden state dependencies in its gates, enabling **parallelized training**. This leads to faster training times and improved scalability for longer sequences. \n"
   ]
  },
  {
   "cell_type": "code",
   "execution_count": 1,
   "metadata": {},
   "outputs": [],
   "source": [
    "%load_ext autoreload\n",
    "%autoreload 2\n",
    "\n",
    "from typing import Optional\n",
    "\n",
    "import torch\n",
    "from torch import nn\n",
    "from torch import Tensor as T\n",
    "from torch.nn import functional as F\n",
    "from torch.profiler import profile, ProfilerActivity"
   ]
  },
  {
   "cell_type": "markdown",
   "metadata": {},
   "source": [
    "## First, the normal GRU\n",
    "All 3 gates and their 6 corresponding weights matrices and bias terms can be processed at the same time via chunking.\n",
    "This is not only more efficient, but also equivalent to the way a GRU is usually defined.\n",
    "\n",
    "This implementation is equivalent to the PyTorch GRU except for bidirectionality, which is omitted for aesthetic reasons."
   ]
  },
  {
   "cell_type": "code",
   "execution_count": 2,
   "metadata": {},
   "outputs": [
    {
     "data": {
      "text/plain": [
       "(torch.Size([5, 3, 20]), torch.Size([1, 5, 20]))"
      ]
     },
     "execution_count": 2,
     "metadata": {},
     "output_type": "execute_result"
    }
   ],
   "source": [
    "class GRUCell(nn.Module):\n",
    "    def __init__(self, input_size:int, hidden_size:int):\n",
    "        super(GRUCell, self).__init__()\n",
    "        # here we perform all the operations on the input in one go, more efficient\n",
    "        self.W_i = nn.Parameter(torch.empty(input_size, hidden_size * 3))\n",
    "        self.b_i = nn.Parameter(torch.empty(hidden_size * 3))\n",
    "        self.W_h = nn.Parameter(torch.empty(hidden_size, hidden_size * 3))\n",
    "        self.b_h = nn.Parameter(torch.empty(hidden_size * 3))\n",
    "\n",
    "        nn.init.xavier_normal_(self.W_i), nn.init.zeros_(self.b_i)\n",
    "        nn.init.xavier_normal_(self.W_h), nn.init.zeros_(self.b_h)\n",
    "\n",
    "    def forward(self, x:T, h:T)->T:\n",
    "        i_r, i_z, i_n = (x @ self.W_i + self.b_i).chunk(3, dim=-1)\n",
    "        h_r, h_z, h_n = (h @ self.W_h + self.b_h).chunk(3, dim=-1)\n",
    "        # reset gate, update gate\n",
    "        r, z = torch.sigmoid(i_r + h_r), torch.sigmoid(i_z + h_z)\n",
    "        # candidate hidden state\n",
    "        h_tilde = torch.tanh(i_n + r * h_n)\n",
    "        # update hidden state\n",
    "        return z * h + (1 - z) * h_tilde\n",
    "    \n",
    "# Equivalent to the PyTorch GRU except for bidirectionality\n",
    "class GRU(nn.Module):\n",
    "    def __init__(self, input_size:int, hidden_size:int, n_layers:int=1):\n",
    "        super(GRU, self).__init__()\n",
    "        self.input_size, self.hidden_size, self.n_layers = input_size, hidden_size, n_layers\n",
    "\n",
    "        self.gru_cells = nn.ModuleList([\n",
    "            GRUCell(input_size if i==0 else hidden_size, hidden_size) for i in range(n_layers)\n",
    "        ])\n",
    "\n",
    "    def forward(self, x:T, h_0:Optional[T]=None)->tuple[T, T]:\n",
    "        B, L, _ = x.shape\n",
    "\n",
    "        if h_0 is None: h_0 = torch.zeros(self.n_layers, B, self.hidden_size, device=x.device)\n",
    "\n",
    "        h_t = [h for h in h_0] # avoid in-place operations\n",
    "\n",
    "        output = []\n",
    "        for t in range(L):\n",
    "            for i, cell in enumerate(self.gru_cells):\n",
    "                h_t[i] = cell(x[:, t] if i==0 else h_t[i - 1], h_t[i]) # stacked layers receive the output of the previous layer\n",
    "                \n",
    "            output.append(h_t[-1])\n",
    "\n",
    "        return torch.stack(output, dim=1), torch.stack(h_t, dim=0)\n",
    "    \n",
    "gru = GRU(input_size=10, hidden_size=20, n_layers=1)\n",
    "x, h = gru(torch.randn(5, 3, 10))\n",
    "x.shape, h.shape"
   ]
  },
  {
   "cell_type": "markdown",
   "metadata": {},
   "source": [
    "We can assure ourselves that our implementation is correct by comparing it to PyTorch's GRU.\n",
    "\n",
    "First we copy over the weights and then we see whether both the forward pass and the backward pass are the same."
   ]
  },
  {
   "cell_type": "code",
   "execution_count": 3,
   "metadata": {},
   "outputs": [],
   "source": [
    "import numpy as np\n",
    "\n",
    "def copy_weights_to_torch_rnn(gru, torch_gru):\n",
    "    for i in range(gru.n_layers):\n",
    "        getattr(torch_gru, 'weight_ih_l' + str(i)).data.copy_(gru.gru_cells[i].W_i.data.T)\n",
    "        getattr(torch_gru, 'weight_hh_l' + str(i)).data.copy_(gru.gru_cells[i].W_h.data.T)\n",
    "        getattr(torch_gru, 'bias_ih_l' + str(i)).data.copy_(gru.gru_cells[i].b_i.data)\n",
    "        getattr(torch_gru, 'bias_hh_l' + str(i)).data.copy_(gru.gru_cells[i].b_h.data)\n",
    "\n",
    "torch_gru = nn.GRU(10, 20, 1)\n",
    "copy_weights_to_torch_rnn(gru, torch_gru)\n",
    "\n",
    "x = torch.randn(5, 3, 10)\n",
    "h0 = torch.randn(1, 5, 20)  # normally zero, but for testing purposes\n",
    "out, h = gru(x, h0)\n",
    "out_torch, h_torch = torch_gru(x.transpose(0, 1), h0)  # PyTorch implementation expects (seq_len, batch, input_size)\n",
    "\n",
    "np.testing.assert_allclose(out.detach().numpy(), out_torch.detach().numpy().transpose(1, 0, 2), atol=1e-3)\n",
    "np.testing.assert_allclose(h.detach().numpy(), h_torch.detach().numpy(), atol=1e-3)\n",
    "\n",
    "out.mean().backward()\n",
    "out_torch.mean().backward()\n",
    "\n",
    "np.testing.assert_allclose(gru.gru_cells[0].W_i.grad.data.cpu().detach().numpy().T, torch_gru.weight_ih_l0.grad.data.cpu().detach().numpy(), atol=1e-3)\n",
    "np.testing.assert_allclose(gru.gru_cells[0].W_h.grad.data.cpu().detach().numpy().T, torch_gru.weight_hh_l0.grad.data.cpu().detach().numpy(), atol=1e-3)\n",
    "np.testing.assert_allclose(gru.gru_cells[0].b_i.grad.data.cpu().detach().numpy(), torch_gru.bias_ih_l0.grad.data.cpu().detach().numpy(), atol=1e-3)\n",
    "np.testing.assert_allclose(gru.gru_cells[0].b_h.grad.data.cpu().detach().numpy(), torch_gru.bias_hh_l0.grad.data.cpu().detach().numpy(), atol=1e-3)\n"
   ]
  },
  {
   "cell_type": "markdown",
   "metadata": {},
   "source": [
    "Here we see the total CPU wall time of the model along with useful metrics like how often certain kernels are executed and how much memory is being used."
   ]
  },
  {
   "cell_type": "code",
   "execution_count": 6,
   "metadata": {},
   "outputs": [
    {
     "name": "stdout",
     "output_type": "stream",
     "text": [
      "-----------------------  ------------  ------------  ------------  ------------  ------------  ------------  ------------  ------------  \n",
      "                   Name    Self CPU %      Self CPU   CPU total %     CPU total  CPU time avg       CPU Mem  Self CPU Mem    # of Calls  \n",
      "-----------------------  ------------  ------------  ------------  ------------  ------------  ------------  ------------  ------------  \n",
      "              aten::add        19.66%       7.313ms        19.66%       7.313ms       9.522us       3.12 Mb       3.12 Mb           768  \n",
      "           aten::matmul         1.74%     648.448us        26.09%       9.705ms      37.911us       1.88 Mb           0 b           256  \n",
      "               aten::mm        24.01%       8.933ms        24.35%       9.057ms      35.378us       1.88 Mb       1.88 Mb           256  \n",
      "              aten::mul         8.28%       3.082ms         8.28%       3.082ms       8.025us     960.00 Kb     960.00 Kb           384  \n",
      "          aten::sigmoid         5.23%       1.947ms         5.23%       1.947ms       7.605us     640.00 Kb     640.00 Kb           256  \n",
      "            aten::stack         0.23%      86.249us         0.98%     363.704us     181.852us     322.50 Kb           0 b             2  \n",
      "              aten::cat         0.71%     263.825us         0.74%     273.625us     136.813us     322.50 Kb     322.50 Kb             2  \n",
      "             aten::tanh         4.68%       1.739ms         4.68%       1.739ms      13.588us     320.00 Kb     320.00 Kb           128  \n",
      "             aten::rsub         2.63%     978.745us        10.57%       3.934ms      30.732us     320.00 Kb           0 b           128  \n",
      "              aten::sub         3.14%       1.169ms         7.94%       2.955ms      23.085us     320.00 Kb     319.50 Kb           128  \n",
      "-----------------------  ------------  ------------  ------------  ------------  ------------  ------------  ------------  ------------  \n",
      "Self CPU time total: 37.201ms\n",
      "\n"
     ]
    }
   ],
   "source": [
    "with profile(activities=[ProfilerActivity.CPU], record_shapes=True, profile_memory=True) as prof:\n",
    "    output = gru(torch.randn(32, 128, 10))\n",
    "\n",
    "print(prof.key_averages().table(sort_by=\"cpu_memory_usage\", row_limit=10))"
   ]
  },
  {
   "cell_type": "markdown",
   "metadata": {},
   "source": [
    "## Then, the minGRU\n",
    "\n",
    "The minGRU has two modes of operation: parallel and sequential.\n",
    "\n",
    "### Parallel mode\n",
    "Called by the default PyTorch `forward` method. Processes the entire sequence at once via the parallel scan operation.\n",
    "\n",
    "### Sequential mode\n",
    "Reintroduces the sequential nature of the GRU to attain O(1) inference time."
   ]
  },
  {
   "cell_type": "code",
   "execution_count": 7,
   "metadata": {},
   "outputs": [
    {
     "data": {
      "text/plain": [
       "torch.Size([5, 3, 20])"
      ]
     },
     "execution_count": 7,
     "metadata": {},
     "output_type": "execute_result"
    }
   ],
   "source": [
    "# Parallel scan for log-space computation, enables parallelization of the sequential operations\n",
    "def paralell_scan(log_coefs:T, log_values:T)->T:\n",
    "    a_star = F.pad(torch.cumsum(log_coefs, dim=1), (0, 0, 1, 0))\n",
    "    log_h0_plus_b_star = torch.logcumsumexp(log_values - a_star, dim=1)\n",
    "    log_h = a_star + log_h0_plus_b_star\n",
    "    return torch.exp(log_h)[:, 1:]\n",
    "\n",
    "# Ensures the candidate hidden state is positive and stabilizes range\n",
    "def stabilize_candidate(x):\n",
    "    return torch.where(x >= 0, x + 0.5, torch.sigmoid(x))\n",
    "\n",
    "# Logarithmic transformation for positive candidate hidden state with stability in log-space\n",
    "def stabilize_log_candidate(x):\n",
    "    return torch.where(x >= 0, (F.relu(x) + 0.5).log(), -F.softplus(-x))\n",
    "\n",
    "class minGRUCell(nn.Module):\n",
    "    def __init__(self, input_size:int, hidden_size:int):\n",
    "        super(minGRUCell, self).__init__()\n",
    "        self.hidden_size = hidden_size\n",
    "\n",
    "        self.W = nn.Parameter(torch.empty(input_size, hidden_size * 2))\n",
    "        self.b = nn.Parameter(torch.empty(hidden_size * 2))\n",
    "\n",
    "        nn.init.xavier_normal_(self.W), nn.init.zeros_(self.b)\n",
    "\n",
    "    def forward(self, x:T)->T:  # the paralell mode\n",
    "        B, L, D_in = x.shape\n",
    "        k, h_tilde = (x @ self.W + self.b).chunk(2, dim=-1)\n",
    "        log_z = - F.softplus(-k)\n",
    "        log_coefs = -F.softplus(k)\n",
    "        log_h0 = stabilize_log_candidate(torch.zeros(B, 1, self.hidden_size, device=x.device))  # 1 since h_0 is only the initial point in the sequence\n",
    "        log_h_tilde = stabilize_log_candidate(h_tilde)\n",
    "        return paralell_scan(log_coefs, torch.cat([log_h0, log_z + log_h_tilde], dim=1))\n",
    "\n",
    "    @torch.no_grad()\n",
    "    def inference(self, x:T, h:T)->T:  # the sequential mode\n",
    "        z, h_tilde = (x @ self.W + self.b).chunk(2, dim=-1)\n",
    "        z = torch.sigmoid(z)\n",
    "        h_tilde = stabilize_candidate(h_tilde)\n",
    "        return (1 - z) * h + z * h_tilde\n",
    "\n",
    "\n",
    "class minGRU(nn.Module):\n",
    "    def __init__(self, input_size:int, hidden_size:int, n_layers:int=1):\n",
    "        super(minGRU, self).__init__()\n",
    "        self.input_size, self.hidden_size, self.n_layers = input_size, hidden_size, n_layers\n",
    "\n",
    "        self.min_gru_cells = nn.ModuleList([\n",
    "            minGRUCell(input_size if i==0 else hidden_size, hidden_size) for i in range(n_layers)\n",
    "        ])\n",
    "\n",
    "    def forward(self, x:T)->T:  # the parallel mode\n",
    "        output = None\n",
    "        for i, cell in enumerate(self.min_gru_cells):\n",
    "            output = cell(x if i==0 else output)  # the first layer takes the input, the rest take the output of the previous layer\n",
    "        return output\n",
    "    \n",
    "    @torch.no_grad()\n",
    "    def inference(self, x:T, h_0:Optional[T]=None)->T:  # the sequential mode\n",
    "        B, L, _ = x.shape\n",
    "\n",
    "        if h_0 is None: h_0 = torch.zeros(self.n_layers, B, self.hidden_size, device=x.device)\n",
    "\n",
    "        h_t = [h for h in h_0]\n",
    "\n",
    "        output = []\n",
    "        for t in range(L):\n",
    "            for i, cell in enumerate(self.min_gru_cells):\n",
    "                h_t[i] = cell.inference(x[:, t] if i==0 else output[i - 1], h_t[i])\n",
    "            output.append(h_t[-1])\n",
    "\n",
    "        return torch.stack(output, dim=1), torch.stack(h_t, dim=0)\n",
    "\n",
    "\n",
    "mingru = minGRU(input_size=10, hidden_size=20, n_layers=1)\n",
    "x = mingru(torch.randn(5, 3, 10))\n",
    "x.shape"
   ]
  },
  {
   "cell_type": "markdown",
   "metadata": {},
   "source": [
    "If we compare this to the profile of the normal GRU, we see that the minGRU is much faster and uses less memory.\n",
    "\n",
    "It is worthwhile to note the difference in the `# of Calls` column. This exemplifies the difference between the two modes of operation, not having to repeat operations for each time step.\n"
   ]
  },
  {
   "cell_type": "code",
   "execution_count": 8,
   "metadata": {},
   "outputs": [
    {
     "name": "stdout",
     "output_type": "stream",
     "text": [
      "-------------------------  ------------  ------------  ------------  ------------  ------------  ------------  ------------  ------------  \n",
      "                     Name    Self CPU %      Self CPU   CPU total %     CPU total  CPU time avg       CPU Mem  Self CPU Mem    # of Calls  \n",
      "-------------------------  ------------  ------------  ------------  ------------  ------------  ------------  ------------  ------------  \n",
      "                aten::add         7.59%     317.213us         8.10%     338.413us      67.683us       1.57 Mb       1.57 Mb             5  \n",
      "                aten::neg         4.56%     190.426us         4.56%     190.426us      27.204us       1.57 Mb       1.57 Mb             7  \n",
      "           aten::softplus        17.86%     746.175us        17.86%     746.175us     186.544us     962.50 Kb     962.50 Kb             4  \n",
      "              aten::empty         0.90%      37.540us         0.90%      37.540us       6.257us     807.50 Kb     807.50 Kb             6  \n",
      "             aten::matmul         0.57%      23.699us        11.05%     461.741us     461.741us     640.00 Kb           0 b             1  \n",
      "                 aten::mm         9.83%     410.752us         9.86%     411.892us     411.892us     640.00 Kb     640.00 Kb             1  \n",
      "               aten::relu         0.41%      17.178us         1.20%      49.948us      24.974us     322.50 Kb           0 b             2  \n",
      "          aten::clamp_min         0.78%      32.770us         0.78%      32.770us      16.385us     322.50 Kb     322.50 Kb             2  \n",
      "                aten::log         1.98%      82.508us         1.98%      82.508us      41.254us     322.50 Kb     322.50 Kb             2  \n",
      "              aten::where         3.52%     147.156us         3.62%     151.146us      75.573us     322.50 Kb     322.50 Kb             2  \n",
      "-------------------------  ------------  ------------  ------------  ------------  ------------  ------------  ------------  ------------  \n",
      "Self CPU time total: 4.177ms\n",
      "\n"
     ]
    }
   ],
   "source": [
    "with profile(activities=[ProfilerActivity.CPU], record_shapes=True, profile_memory=True) as prof:\n",
    "    output = mingru(torch.randn(32, 128, 10))\n",
    "\n",
    "print(prof.key_averages().table(sort_by=\"cpu_memory_usage\", row_limit=10))"
   ]
  },
  {
   "cell_type": "markdown",
   "metadata": {},
   "source": [
    "If we compare the time it takes to perform a backward pass, we see that the minGRU is half an order of magnitude faster."
   ]
  },
  {
   "cell_type": "code",
   "execution_count": 9,
   "metadata": {},
   "outputs": [
    {
     "name": "stdout",
     "output_type": "stream",
     "text": [
      "68.5 ms ± 4.3 ms per loop (mean ± std. dev. of 10 runs, 10 loops each)\n",
      "8.9 ms ± 402 μs per loop (mean ± std. dev. of 10 runs, 10 loops each)\n"
     ]
    }
   ],
   "source": [
    "%timeit -n 10 -r 10 gru(torch.randn(32, 128, 10))[0].mean().backward()  # [0] since the original GRU's forward returns a tuple\n",
    "%timeit -n 10 -r 10 mingru(torch.randn(32, 128, 10)).mean().backward()"
   ]
  },
  {
   "cell_type": "markdown",
   "metadata": {},
   "source": [
    "## Now, in application\n",
    "\n",
    "We will be training both models on a simple text generation task."
   ]
  },
  {
   "cell_type": "code",
   "execution_count": 10,
   "metadata": {},
   "outputs": [
    {
     "data": {
      "text/plain": [
       "'To be, or not to be, that is the question: Whether ’tis nobler in the mind to suffer The slings and '"
      ]
     },
     "execution_count": 10,
     "metadata": {},
     "output_type": "execute_result"
    }
   ],
   "source": [
    "import re\n",
    "from urllib import request\n",
    "\n",
    "hamlet = request.urlopen(\"https://www.gutenberg.org/files/1524/1524-0.txt\").read().decode('utf-8')\n",
    "hamlet = re.sub('[\\ufeff\\r]', '', hamlet) # replace \\ufeff\\r with ''\n",
    "hamlet = re.sub('[\\n]', ' ', hamlet) # replace newline with space\n",
    "example_start = hamlet.find(\"To be, or not to be,\")\n",
    "hamlet[example_start:example_start+100]"
   ]
  },
  {
   "cell_type": "markdown",
   "metadata": {},
   "source": [
    "For brevity's sake, we will do character-level model without a **tokenizer**. A discussion on tokenization (in particular Byte-Pair Encoding) can be found in the [BPE notebook](bpe_tokenizer.ipynb) in this repository."
   ]
  },
  {
   "cell_type": "code",
   "execution_count": 11,
   "metadata": {},
   "outputs": [],
   "source": [
    "chr_to_ids = {c:i for i,c in enumerate(set(hamlet))}\n",
    "ids_to_chr = {i:c for c,i in chr_to_ids.items()}"
   ]
  },
  {
   "cell_type": "code",
   "execution_count": 12,
   "metadata": {},
   "outputs": [],
   "source": [
    "from torch.utils.data import DataLoader, TensorDataset\n",
    "\n",
    "SEQ_LEN = 256\n",
    "hamlet_tensor = torch.tensor([chr_to_ids[c] for c in hamlet], dtype=torch.long)\n",
    "hamlet_tensor = hamlet_tensor.unfold(0, SEQ_LEN, SEQ_LEN)  # unfold into len(hamlet) // SEQ_LEN, SEQ_LEN tensor\n",
    "\n",
    "dataset = TensorDataset(hamlet_tensor)\n",
    "dataloader = DataLoader(dataset, batch_size=32, shuffle=True)"
   ]
  },
  {
   "cell_type": "markdown",
   "metadata": {},
   "source": [
    "The code below defines the training procedure for a single epoch of character-level language modeling"
   ]
  },
  {
   "cell_type": "code",
   "execution_count": 13,
   "metadata": {},
   "outputs": [],
   "source": [
    "from tqdm import tqdm\n",
    "from matplotlib import pyplot as plt\n",
    "from itertools import cycle\n",
    "\n",
    "BATCH_SIZE = 32\n",
    "DEVICE = torch.device('cuda' if torch.cuda.is_available() else 'cpu')\n",
    "\n",
    "def train_model(model:nn.Module, model_name:str, n_epochs:int=10):\n",
    "    model = model.to(DEVICE)\n",
    "    optimizer = torch.optim.Adam(model.parameters(), lr=1e-3)\n",
    "    criterion = nn.CrossEntropyLoss()\n",
    "    losses = []\n",
    "\n",
    "    n_steps = len(dataloader) * n_epochs\n",
    "    cycle_dataloader = cycle(dataloader)  # make the dataloader loop\n",
    "\n",
    "    model.train()\n",
    "    for _ in tqdm(range(n_steps), desc=f\"Training {model_name}\"):\n",
    "        batch = next(cycle_dataloader)[0].to(DEVICE)  # batch was a list of length 1 with the batch tensor\n",
    "\n",
    "        output = model(batch[:, :-1])  # input is everything except the last character\n",
    "\n",
    "        loss = criterion(output.view(-1, len(chr_to_ids)), batch[:, 1:].reshape(-1))  # target is everything except the first character\n",
    "\n",
    "        optimizer.zero_grad()\n",
    "        loss.backward()\n",
    "        optimizer.step()\n",
    "\n",
    "        losses.append(loss.item())\n",
    "\n",
    "    return model, losses"
   ]
  },
  {
   "cell_type": "markdown",
   "metadata": {},
   "source": [
    "Now we are ready to train the models. For the first test we will configure the models to have the same input / hidden sizes. This is not a fair comparison since minGRU has fewer parameters."
   ]
  },
  {
   "cell_type": "code",
   "execution_count": 14,
   "metadata": {},
   "outputs": [],
   "source": [
    "def count_parameters(model:nn.Module)->int:\n",
    "    return sum(p.numel() for p in model.parameters() if p.requires_grad)"
   ]
  },
  {
   "cell_type": "code",
   "execution_count": 15,
   "metadata": {},
   "outputs": [
    {
     "name": "stderr",
     "output_type": "stream",
     "text": [
      "Training GRU: 100%|██████████| 250/250 [01:44<00:00,  2.38it/s]\n",
      "Training minGRU: 100%|██████████| 250/250 [00:02<00:00, 91.66it/s]\n"
     ]
    },
    {
     "name": "stdout",
     "output_type": "stream",
     "text": [
      "GRU has 1,044,443M parameters and minGRU has 190,427M parameters, or 5.48x more.\n"
     ]
    },
    {
     "data": {
      "image/png": "[encoded data removed]",
      "text/plain": [
       "<Figure size 640x480 with 1 Axes>"
      ]
     },
     "metadata": {},
     "output_type": "display_data"
    }
   ],
   "source": [
    "class SelectFirst(nn.Module):  # a nasty hack to circumvent the fact that GRU returns a tuple\n",
    "    def forward(self, x): return x[0]\n",
    "\n",
    "gru = nn.Sequential(\n",
    "    nn.Embedding(len(chr_to_ids), 128),\n",
    "    GRU(input_size=128, hidden_size=512, n_layers=1),\n",
    "    SelectFirst(),\n",
    "    nn.Linear(512, len(chr_to_ids))\n",
    ")\n",
    "mingru = nn.Sequential(\n",
    "    nn.Embedding(len(chr_to_ids), 128),\n",
    "    minGRU(input_size=128, hidden_size=512, n_layers=1),\n",
    "    nn.Linear(512, len(chr_to_ids))\n",
    ")\n",
    "\n",
    "gru, gru_losses = train_model(gru, \"GRU\")\n",
    "mingru, mingru_losses = train_model(mingru, \"minGRU\")\n",
    "\n",
    "print(f\"GRU has {count_parameters(gru):,}M parameters and minGRU has {count_parameters(mingru):,}M parameters, or {count_parameters(gru) / count_parameters(mingru):.2f}x more.\")\n",
    "\n",
    "plt.title(\"Training loss, same input / hidden size\")\n",
    "plt.plot(gru_losses, label='GRU')\n",
    "plt.plot(mingru_losses, label='minGRU')\n",
    "plt.legend()\n",
    "plt.show()"
   ]
  },
  {
   "cell_type": "code",
   "execution_count": 16,
   "metadata": {},
   "outputs": [
    {
     "name": "stdout",
     "output_type": "stream",
     "text": [
      "GRU has 986,112 parameters and minGRU has 1,050,624 parameters, or 0.94x more.\n"
     ]
    }
   ],
   "source": [
    "gru = GRU(input_size=128, hidden_size=512, n_layers=1)\n",
    "mingru = minGRU(input_size=512, hidden_size=1024, n_layers=1)  # fairer to align parameter counts without the language modeling head / tail\n",
    "\n",
    "print(f\"GRU has {count_parameters(gru):,} parameters and minGRU has {count_parameters(mingru):,} parameters, or {count_parameters(gru) / count_parameters(mingru):.2f}x more.\")"
   ]
  },
  {
   "cell_type": "code",
   "execution_count": 18,
   "metadata": {},
   "outputs": [
    {
     "name": "stdout",
     "output_type": "stream",
     "text": [
      "GRU has 986,112M parameters and minGRU has 1,190,491M parameters, or 0.83x more.\n"
     ]
    },
    {
     "name": "stderr",
     "output_type": "stream",
     "text": [
      "Training minGRU: 100%|██████████| 250/250 [00:05<00:00, 48.82it/s]\n"
     ]
    },
    {
     "data": {
      "image/png": "[encoded data removed]",
      "text/plain": [
       "<Figure size 640x480 with 1 Axes>"
      ]
     },
     "metadata": {},
     "output_type": "display_data"
    }
   ],
   "source": [
    "mingru_bigger = nn.Sequential(\n",
    "    nn.Embedding(len(chr_to_ids), 512),\n",
    "    minGRU(input_size=512, hidden_size=1024, n_layers=1),\n",
    "    nn.Linear(1024, len(chr_to_ids))\n",
    ")\n",
    "\n",
    "print(f\"GRU has {count_parameters(gru):,}M parameters and minGRU has {count_parameters(mingru_bigger):,}M parameters, or {count_parameters(gru) / count_parameters(mingru_bigger):.2f}x more.\")\n",
    "\n",
    "mingru_bigger, mingru_bigger_losses = train_model(mingru_bigger, \"minGRU\")\n",
    "\n",
    "plt.title(\"Training loss, same number of parameters\")\n",
    "plt.plot(gru_losses, label='GRU')\n",
    "plt.plot(mingru_bigger_losses, label='minGRU')\n",
    "plt.legend()\n",
    "plt.show()\n"
   ]
  }
 ],
 "metadata": {
  "kernelspec": {
   "display_name": ".venv",
   "language": "python",
   "name": "python3"
  },
  "language_info": {
   "codemirror_mode": {
    "name": "ipython",
    "version": 3
   },
   "file_extension": ".py",
   "mimetype": "text/x-python",
   "name": "python",
   "nbconvert_exporter": "python",
   "pygments_lexer": "ipython3",
   "version": "3.12.7"
  }
 },
 "nbformat": 4,
 "nbformat_minor": 2
}
