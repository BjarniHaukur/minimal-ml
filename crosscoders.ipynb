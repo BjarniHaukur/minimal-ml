{
 "cells": [
  {
   "cell_type": "markdown",
   "metadata": {},
   "source": [
    "# Crosscoders\n",
    "\n",
    "Attempting to recreate the SAE model Anthropic wrote about recently.\n",
    "\n",
    "Its a SAE which is layer and model agnostic.\n",
    "\n",
    "I'm not sure about the model agnostic part, but I have an idea about layer the layer agnostic part.\n",
    "\n",
    "### **Note**: There is a more advanced version of this notebook on the *it-coding-crosscoder* branch. I found it to veer off the \"minimal-ml\" path, so I'm keeping this notebook as a more basic version."
   ]
  },
  {
   "cell_type": "code",
   "execution_count": 1,
   "metadata": {},
   "outputs": [],
   "source": [
    "import torch\n",
    "import torch.nn as nn\n",
    "import torch.nn.functional as F\n",
    "from torch.optim import Adam\n",
    "from torch.utils.data import DataLoader\n",
    "\n",
    "from transformers import AutoTokenizer, AutoModelForCausalLM\n",
    "\n",
    "from datasets import load_dataset"
   ]
  },
  {
   "cell_type": "code",
   "execution_count": 2,
   "metadata": {},
   "outputs": [
    {
     "name": "stderr",
     "output_type": "stream",
     "text": [
      "/Users/bjarnihaukurbjarnason/Documents/Projects/minimal-ml/.venv/lib/python3.12/site-packages/transformers/pytorch_utils.py:333: UserWarning: To copy construct from a tensor, it is recommended to use sourceTensor.clone().detach() or sourceTensor.clone().detach().requires_grad_(True), rather than torch.tensor(sourceTensor).\n",
      "  test_elements = torch.tensor(test_elements)\n",
      "The attention mask is not set and cannot be inferred from input because pad token is same as eos token. As a consequence, you may observe unexpected behavior. Please pass your input's `attention_mask` to obtain reliable results.\n"
     ]
    },
    {
     "name": "stdout",
     "output_type": "stream",
     "text": [
      "print(\"Hello World\")\n",
      "print(\"Hello World\")\n",
      "print(\"Hello World\")\n",
      "print(\"Hello World\")\n",
      "print(\"Hello\n"
     ]
    }
   ],
   "source": [
    "DEVICE = \"mps\"\n",
    "\n",
    "tokenizer = AutoTokenizer.from_pretrained(\"Qwen/Qwen2.5-Coder-0.5B\")\n",
    "model = AutoModelForCausalLM.from_pretrained(\"Qwen/Qwen2.5-Coder-0.5B\").to(DEVICE)\n",
    "model.eval()\n",
    "\n",
    "tokens = tokenizer.encode(\"print(\\\"Hello\", return_tensors=\"pt\").to(DEVICE)\n",
    "generation = model.generate(tokens, max_new_tokens=20, pad_token_id=tokenizer.pad_token_id)\n",
    "print(tokenizer.decode(generation[0], skip_special_tokens=True))"
   ]
  },
  {
   "cell_type": "markdown",
   "metadata": {},
   "source": [
    "We can very simply get the hidden states by setting output_hidden_states=True flag."
   ]
  },
  {
   "cell_type": "code",
   "execution_count": 3,
   "metadata": {},
   "outputs": [
    {
     "data": {
      "text/plain": [
       "(25, torch.Size([1, 3, 896]))"
      ]
     },
     "execution_count": 3,
     "metadata": {},
     "output_type": "execute_result"
    }
   ],
   "source": [
    "out = model(tokens, output_hidden_states=True)\n",
    "\n",
    "# train SAE on these\n",
    "len(out.hidden_states), out.hidden_states[0].shape"
   ]
  },
  {
   "cell_type": "markdown",
   "metadata": {},
   "source": [
    "and we can register hooks to modify the activations as we please."
   ]
  },
  {
   "cell_type": "code",
   "execution_count": 4,
   "metadata": {},
   "outputs": [
    {
     "name": "stdout",
     "output_type": "stream",
     "text": [
      "print(\"Hello-o-- andIt it))))\n",
      "print(\"Hello World\")\n",
      "\n"
     ]
    }
   ],
   "source": [
    "layer = model.model.layers[0].mlp.up_proj\n",
    "\n",
    "hook = layer.register_forward_hook(lambda module, input, output: output * 0)\n",
    "\n",
    "generation = model.generate(tokens, max_new_tokens=10, pad_token_id=tokenizer.eos_token_id)\n",
    "print(tokenizer.decode(generation[0], skip_special_tokens=True))\n",
    "\n",
    "hook.remove()\n",
    "\n",
    "generation = model.generate(tokens, max_new_tokens=2, pad_token_id=tokenizer.eos_token_id)\n",
    "print(tokenizer.decode(generation[0], skip_special_tokens=True))"
   ]
  },
  {
   "cell_type": "code",
   "execution_count": 5,
   "metadata": {},
   "outputs": [],
   "source": [
    "N_LAYERS = model.config.num_hidden_layers\n",
    "HIDDEN_SIZE = model.config.hidden_size"
   ]
  },
  {
   "cell_type": "code",
   "execution_count": 6,
   "metadata": {},
   "outputs": [
    {
     "name": "stderr",
     "output_type": "stream",
     "text": [
      "huggingface/tokenizers: The current process just got forked, after parallelism has already been used. Disabling parallelism to avoid deadlocks...\n",
      "To disable this warning, you can either:\n",
      "\t- Avoid using `tokenizers` before the fork if possible\n",
      "\t- Explicitly set the environment variable TOKENIZERS_PARALLELISM=(true | false)\n"
     ]
    },
    {
     "data": {
      "text/plain": [
       "(25000, 2500)"
      ]
     },
     "execution_count": 6,
     "metadata": {},
     "output_type": "execute_result"
    }
   ],
   "source": [
    "train_ds = load_dataset(\"imdb\", split=\"train\")\n",
    "val_ds = load_dataset(\"imdb\", split=\"test\").shuffle(seed=42).select(range(len(train_ds)//10))\n",
    "\n",
    "len(train_ds), len(val_ds)"
   ]
  },
  {
   "cell_type": "markdown",
   "metadata": {},
   "source": [
    "To inform the SAE of which layer it is being applied to, we encode the layer position into the activations via a sinusoidal positional encoding."
   ]
  },
  {
   "cell_type": "code",
   "execution_count": 7,
   "metadata": {},
   "outputs": [],
   "source": [
    "import math\n",
    "\n",
    "\n",
    "class SinusoidalPositionalEncoding(nn.Module):\n",
    "    def __init__(self, hidden_size, max_len):\n",
    "        super().__init__()\n",
    "        self.hidden_size = hidden_size\n",
    "        self.max_len = max_len\n",
    "        \n",
    "        position = torch.arange(max_len).unsqueeze(1)\n",
    "        div_term = torch.exp(torch.arange(0, hidden_size, 2) * (-math.log(10000.0) / hidden_size))\n",
    "        \n",
    "        pe = torch.zeros(max_len, hidden_size)\n",
    "        pe[:, 0::2] = torch.sin(position * div_term)\n",
    "        pe[:, 1::2] = torch.cos(position * div_term)\n",
    "        \n",
    "        self.register_buffer('pe', pe)\n",
    "\n",
    "    def forward(self, x, pos):\n",
    "        return x + self.pe[pos]\n",
    "\n",
    "pos_enc = SinusoidalPositionalEncoding(HIDDEN_SIZE, N_LAYERS).to(DEVICE)"
   ]
  },
  {
   "cell_type": "markdown",
   "metadata": {},
   "source": [
    "The sparse autoencoder itself is quite simple. It's a traditional autoencoder, but with a twist: instead of 'compressing' the input through a bottleneck, it's overcomplete - meaning it has a larger hidden size than the input size.\n",
    "\n",
    "There are different ways of achieving sparsity in these activations. One popular formulation uses a top_k activation function to ensure only the k most important features remain active, while others methods directly optimize for sparsity through various loss terms.\n",
    "\n",
    "The model is trained to reconstruct its input from these sparse activations using reconstruction loss. We can also evaluate its effectiveness by measuring \"recovered\" loss - essentially comparing the next-token prediction accuracy (via negative log-likelihood) both before and after applying the SAE intervention. This helps us understand how well the SAE preserves the important information from the original representations."
   ]
  },
  {
   "cell_type": "code",
   "execution_count": 8,
   "metadata": {},
   "outputs": [
    {
     "data": {
      "text/plain": [
       "torch.Size([3, 896])"
      ]
     },
     "execution_count": 8,
     "metadata": {},
     "output_type": "execute_result"
    }
   ],
   "source": [
    "K = 5\n",
    "SAE_HIDDEN_SIZE = HIDDEN_SIZE * 2\n",
    "\n",
    "class TopKSAE(nn.Module):\n",
    "    def __init__(self, input_size, hidden_size, n_layers, top_k):\n",
    "        super().__init__()\n",
    "        self.input_size, self.hidden_size, self.n_layers, self.top_k = input_size, hidden_size, n_layers, top_k\n",
    "        \n",
    "        self.pos_enc = SinusoidalPositionalEncoding(input_size, n_layers)\n",
    "        self.encoder = nn.Linear(input_size, hidden_size)\n",
    "        self.decoder = nn.Linear(hidden_size, input_size)\n",
    "        \n",
    "    def encode(self, x, pos):\n",
    "        x = self.pos_enc(x, pos)\n",
    "        x = self.encoder(x)\n",
    "        top_k = torch.topk(x, k=self.top_k)\n",
    "        return top_k.indices, top_k.values\n",
    "    \n",
    "    def decode(self, indices, values):\n",
    "        sparse = torch.zeros(indices.shape[0], self.hidden_size).to(indices.device)\n",
    "        sparse.scatter_(1, indices, values)\n",
    "        return self.decoder(sparse)\n",
    "\n",
    "    def forward(self, x, pos):\n",
    "        indices, values = self.encode(x, pos)\n",
    "        return self.decode(indices, values)\n",
    "    \n",
    "\n",
    "sae = TopKSAE(HIDDEN_SIZE, SAE_HIDDEN_SIZE, N_LAYERS, K).to(DEVICE)\n",
    "activations = out.hidden_states[0].reshape(-1, HIDDEN_SIZE)\n",
    "positions = torch.tensor([0] * len(activations)).to(DEVICE)\n",
    "sae(activations, positions).shape\n"
   ]
  },
  {
   "cell_type": "markdown",
   "metadata": {},
   "source": [
    "Now to train\n",
    "\n",
    "Firstly, I dislike the habit people have of doing an entire training epoch before validating (especially since datasets can be huge). So I more often than not do the following"
   ]
  },
  {
   "cell_type": "code",
   "execution_count": 9,
   "metadata": {},
   "outputs": [],
   "source": [
    "EPOCHS = 1\n",
    "BATCH_SIZE = 8\n",
    "MAX_SEQ_LEN = 64\n",
    "\n",
    "def cycle(dl):\n",
    "    while True: yield from dl\n",
    "    \n",
    "def collate_fn(batch):\n",
    "    tokenized = [tokenizer.encode(item[\"text\"], return_tensors=\"pt\")[0] for item in batch]\n",
    "    tokenized = [seq[:MAX_SEQ_LEN] for seq in tokenized]\n",
    "    input_ids = nn.utils.rnn.pad_sequence(tokenized, batch_first=True, padding_value=tokenizer.pad_token_id)\n",
    "    B, L = input_ids.shape\n",
    "    \n",
    "    return {\n",
    "        \"input_ids\": input_ids,\n",
    "        \"attention_mask\": torch.tril(torch.ones(B, 1, L, L)).float() # 1 and float for CUDA compatibility\n",
    "    }\n",
    "\n",
    "train_loader = DataLoader(train_ds, batch_size=BATCH_SIZE, collate_fn=collate_fn)\n",
    "val_loader = DataLoader(val_ds, batch_size=BATCH_SIZE, collate_fn=collate_fn)\n",
    "\n",
    "\n",
    "N_STEPS_PER_TRAIN_EPOCH = len(train_loader)\n",
    "N_STEPS_PER_VAL_EPOCH = len(val_loader)\n",
    "\n",
    "INTERLEAVE_EVERY = 100\n",
    "N_VALIDATION_STEPS = N_STEPS_PER_VAL_EPOCH // (N_STEPS_PER_TRAIN_EPOCH // INTERLEAVE_EVERY)\n",
    "\n",
    "train_iter = cycle(train_loader)\n",
    "val_iter = cycle(val_loader)"
   ]
  },
  {
   "cell_type": "markdown",
   "metadata": {},
   "source": [
    "Secondly, it feels almost wasteful to only use one random layer per item.\n",
    "\n",
    "But perhaps using multiple layers per position would actually hurt training.\n",
    "\n",
    "Adjacent layers process the same token through successive transformations (and has skip connections), which creates highly correlated features. This correlation is perhaps stronger than the relationship between different positions in the sequence. Using multiple layers per position would likely reduce our batch diversity, as we'd be training on variations of the same underlying features rather than truly independent samples."
   ]
  },
  {
   "cell_type": "code",
   "execution_count": 10,
   "metadata": {},
   "outputs": [
    {
     "name": "stderr",
     "output_type": "stream",
     "text": [
      "Training: 100%|██████████| 3125/3125 [14:43<00:00,  3.54it/s, Train Loss=0.3420, Val Loss=0.3865]\n"
     ]
    }
   ],
   "source": [
    "from tqdm import tqdm\n",
    "\n",
    "optim = Adam(sae.parameters(), lr=3e-4, weight_decay=1e-4)\n",
    "\n",
    "train_loss, val_loss = float(\"inf\"), float(\"inf\")\n",
    "train_losses, val_losses = [], []\n",
    "\n",
    "def sae_step(batch):\n",
    "    B, L = batch[\"input_ids\"].shape\n",
    "    with torch.no_grad():\n",
    "        out = model(batch[\"input_ids\"].to(DEVICE), attention_mask=batch[\"attention_mask\"].to(DEVICE), output_hidden_states=True)\n",
    "\n",
    "    # Generate random layer for each position in the batch/sequence\n",
    "    random_layers = torch.randint(0, N_LAYERS, (B * L,)).to(DEVICE)\n",
    "    \n",
    "    # Gather hidden states from random layers for each position\n",
    "    all_hidden = torch.stack(out.hidden_states)  # [n_layers, batch_size, seq_len, hidden_size]\n",
    "    all_hidden = all_hidden.permute(1, 2, 0, 3)  # [batch_size, seq_len, n_layers, hidden_size]\n",
    "    \n",
    "    # Create indices for gathering\n",
    "    batch_indices = torch.arange(B).repeat_interleave(L)\n",
    "    seq_indices = torch.arange(L).repeat(B)\n",
    "    \n",
    "    # Gather the hidden states using the random layers\n",
    "    inputs = all_hidden[batch_indices, seq_indices, random_layers]  # [batch_size*seq_len, hidden_size]\n",
    "    \n",
    "    reconstructed = sae(inputs, random_layers)\n",
    "    \n",
    "    return F.mse_loss(reconstructed, inputs)\n",
    "\n",
    "\n",
    "step_iter = tqdm(range(EPOCHS * N_STEPS_PER_TRAIN_EPOCH), desc=\"Training\")\n",
    "for step in step_iter:\n",
    "    batch = next(train_iter)\n",
    "    \n",
    "    loss = sae_step(batch)\n",
    "    \n",
    "    optim.zero_grad()\n",
    "    loss.backward()\n",
    "    optim.step()\n",
    "    \n",
    "    train_losses.append(loss.item())\n",
    "    train_loss = loss.item()\n",
    "    \n",
    "    step_iter.set_postfix({\"Train Loss\": f\"{train_loss:.4f}\", \"Val Loss\": f\"{val_loss:.4f}\"})\n",
    "    \n",
    "    if step % INTERLEAVE_EVERY == 0:\n",
    "        interleaved_losses = []\n",
    "        for _ in range(N_VALIDATION_STEPS):\n",
    "            batch = next(val_iter)\n",
    "            with torch.no_grad():\n",
    "                loss = sae_step(batch)\n",
    "                interleaved_losses.append(loss.item())\n",
    "                \n",
    "                val_loss = loss.item()\n",
    "                \n",
    "                step_iter.set_postfix({\"Train Loss\": f\"{train_loss:.4f}\", \"Val Loss\": f\"{val_loss:.4f}\"})\n",
    "\n",
    "        val_loss = sum(interleaved_losses) / len(interleaved_losses)\n",
    "        val_losses.append(val_loss)\n"
   ]
  },
  {
   "cell_type": "code",
   "execution_count": 11,
   "metadata": {},
   "outputs": [
    {
     "data": {
      "image/png": "[encoded data removed]",
      "text/plain": [
       "<Figure size 1000x600 with 1 Axes>"
      ]
     },
     "metadata": {},
     "output_type": "display_data"
    }
   ],
   "source": [
    "from matplotlib import pyplot as plt\n",
    "\n",
    "train_steps = range(len(train_losses))\n",
    "val_steps = range(0, len(train_losses), INTERLEAVE_EVERY)[:len(val_losses)]\n",
    "\n",
    "plt.figure(figsize=(10, 6))\n",
    "plt.plot(train_steps, train_losses, label='Train Loss', alpha=0.5)\n",
    "plt.plot(val_steps, val_losses, label='Validation Loss', linewidth=2)\n",
    "plt.xlabel('Training Steps')\n",
    "plt.ylabel('Loss')\n",
    "plt.legend()\n",
    "plt.grid(True)\n",
    "plt.show()"
   ]
  },
  {
   "cell_type": "markdown",
   "metadata": {},
   "source": [
    "Still trending downwards, only trained this for 15-20 minutes on my mac. "
   ]
  },
  {
   "cell_type": "markdown",
   "metadata": {},
   "source": [
    "Now we can try to see whether the SAE is picking up on something interesting.\n",
    "\n",
    "Additionally, we can check if there is a difference between positive and negative reviews."
   ]
  },
  {
   "cell_type": "code",
   "execution_count": 12,
   "metadata": {},
   "outputs": [
    {
     "data": {
      "text/plain": [
       "(58, 42)"
      ]
     },
     "execution_count": 12,
     "metadata": {},
     "output_type": "execute_result"
    }
   ],
   "source": [
    "subset = val_ds.shuffle(seed=42).select(range(100))\n",
    "positives = [x[\"text\"] for x in subset if x[\"label\"] == 1]\n",
    "negatives = [x[\"text\"] for x in subset if x[\"label\"] == 0]\n",
    "\n",
    "positives = [tokenizer.encode(x, return_tensors=\"pt\") for x in positives]\n",
    "negatives = [tokenizer.encode(x, return_tensors=\"pt\") for x in negatives]\n",
    "\n",
    "len(positives), len(negatives)"
   ]
  },
  {
   "cell_type": "code",
   "execution_count": 13,
   "metadata": {},
   "outputs": [
    {
     "name": "stderr",
     "output_type": "stream",
     "text": [
      "100%|██████████| 58/58 [00:30<00:00,  1.88it/s]\n",
      "100%|██████████| 42/42 [00:30<00:00,  1.38it/s]\n"
     ]
    }
   ],
   "source": [
    "LAYER = model.config.num_hidden_layers // 2  # maybe the middle is interesting\n",
    "\n",
    "with torch.no_grad():\n",
    "    positive_activations = [model(x.to(DEVICE), output_hidden_states=True).hidden_states[LAYER].reshape(-1, HIDDEN_SIZE) for x in tqdm(positives)]\n",
    "    negative_activations = [model(x.to(DEVICE), output_hidden_states=True).hidden_states[LAYER].reshape(-1, HIDDEN_SIZE) for x in tqdm(negatives)]\n",
    "\n",
    "    positive_activations = torch.cat(positive_activations, dim=0)\n",
    "    negative_activations = torch.cat(negative_activations, dim=0)\n",
    "    \n",
    "    positive_positions = torch.tensor([LAYER] * len(positive_activations)).to(DEVICE)\n",
    "    negative_positions = torch.tensor([LAYER] * len(negative_activations)).to(DEVICE)\n",
    "    \n",
    "    positive_indices, positive_values = sae.encode(positive_activations, positive_positions)\n",
    "    negative_indices, negative_values = sae.encode(negative_activations, negative_positions)\n"
   ]
  },
  {
   "cell_type": "code",
   "execution_count": 14,
   "metadata": {},
   "outputs": [
    {
     "data": {
      "text/plain": [
       "tensor([1650,  780,  628,  ..., 1789, 1790, 1791], device='mps:0')"
      ]
     },
     "execution_count": 14,
     "metadata": {},
     "output_type": "execute_result"
    }
   ],
   "source": [
    "positive_counts = torch.bincount(positive_indices.flatten(), minlength=SAE_HIDDEN_SIZE)\n",
    "negative_counts = torch.bincount(negative_indices.flatten(), minlength=SAE_HIDDEN_SIZE)\n",
    "\n",
    "sorted_indices = torch.sort(positive_counts + negative_counts, descending=True).indices\n",
    "\n",
    "sorted_indices"
   ]
  },
  {
   "cell_type": "code",
   "execution_count": 15,
   "metadata": {},
   "outputs": [],
   "source": [
    "def highlight_feature_activations(text, feature_idx, model, sae, tokenizer, device=\"mps\"):\n",
    "    RESET = \"\\033[0m\"\n",
    "    def get_color(value):\n",
    "        normalized = max(0.0, min(1.0, math.log(value + 1e-5)))\n",
    "        \n",
    "        text_red = int(30 + 225 * normalized)  # increased range (30-255)\n",
    "        \n",
    "        bg_red = 255\n",
    "        bg_green = bg_blue = int(255 - (80 * normalized))  # doubled the reduction (255-175)\n",
    "        \n",
    "        return f\"\\033[48;2;{bg_red};{bg_green};{bg_blue}m\\033[38;2;{text_red};0;0m\"\n",
    "    \n",
    "    # Tokenize and get model outputs\n",
    "    tokens = tokenizer.encode(text, return_tensors=\"pt\").to(device)\n",
    "    with torch.no_grad():\n",
    "        outputs = model(tokens, output_hidden_states=True)\n",
    "        hidden_states = outputs.hidden_states[LAYER]\n",
    "        hidden_states = hidden_states.reshape(-1, model.config.hidden_size)\n",
    "        positions = torch.tensor([LAYER] * len(hidden_states)).to(DEVICE)\n",
    "        indices, values = sae.encode(hidden_states, positions)\n",
    "        \n",
    "        # Create feature mask\n",
    "        feature_mask = (indices == feature_idx).any(dim=1)\n",
    "        feature_values = torch.zeros_like(feature_mask, dtype=torch.float)\n",
    "        for i, (idx, val) in enumerate(zip(indices, values)):\n",
    "            if feature_idx in idx:\n",
    "                feature_values[i] = val[idx == feature_idx].max()\n",
    "    \n",
    "    # Decode tokens and apply colors\n",
    "    tokens = tokens[0].cpu().numpy()\n",
    "    decoded = []\n",
    "    for i, token in enumerate(tokens):\n",
    "        word = tokenizer.decode([token])\n",
    "        if feature_mask[i]:\n",
    "            color = get_color(feature_values[i].item())\n",
    "            decoded.append(f\"{color}{word}{RESET}\")\n",
    "        else:\n",
    "            decoded.append(word)\n",
    "    \n",
    "    return \"\".join(decoded)\n",
    "\n",
    "def highlight_feature(text, feature_idx, model, sae, tokenizer, device=\"mps\"):\n",
    "    example_text = tokenizer.decode(text[0], skip_special_tokens=True)\n",
    "    colored_text = highlight_feature_activations(example_text, feature_idx, model, sae, tokenizer)\n",
    "    print(colored_text)"
   ]
  },
  {
   "cell_type": "markdown",
   "metadata": {},
   "source": [
    "Now we can at last highlight the features.\n",
    "\n",
    "The most common activations appear to \"overfire\" in this small example we have done. "
   ]
  },
  {
   "cell_type": "code",
   "execution_count": 16,
   "metadata": {},
   "outputs": [
    {
     "name": "stdout",
     "output_type": "stream",
     "text": [
      "I\u001b[48;2;255;175;175m\u001b[38;2;255;0;0m saw\u001b[0m\u001b[48;2;255;175;175m\u001b[38;2;255;0;0m a\u001b[0m\u001b[48;2;255;175;175m\u001b[38;2;255;0;0m test\u001b[0m\u001b[48;2;255;175;175m\u001b[38;2;255;0;0m screening\u001b[0m\u001b[48;2;255;175;175m\u001b[38;2;255;0;0m of\u001b[0m\u001b[48;2;255;175;175m\u001b[38;2;255;0;0m Bl\u001b[0m\u001b[48;2;255;175;175m\u001b[38;2;255;0;0murred\u001b[0m\u001b[48;2;255;175;175m\u001b[38;2;255;0;0m recently\u001b[0m\u001b[48;2;255;175;175m\u001b[38;2;255;0;0m,\u001b[0m\u001b[48;2;255;175;175m\u001b[38;2;255;0;0m and\u001b[0m\u001b[48;2;255;175;175m\u001b[38;2;255;0;0m I\u001b[0m\u001b[48;2;255;175;175m\u001b[38;2;255;0;0m am\u001b[0m\u001b[48;2;255;175;175m\u001b[38;2;255;0;0m surprised\u001b[0m\u001b[48;2;255;175;175m\u001b[38;2;255;0;0m to\u001b[0m\u001b[48;2;255;175;175m\u001b[38;2;255;0;0m say\u001b[0m\u001b[48;2;255;175;175m\u001b[38;2;255;0;0m that\u001b[0m\u001b[48;2;255;175;175m\u001b[38;2;255;0;0m it\u001b[0m\u001b[48;2;255;175;175m\u001b[38;2;255;0;0m was\u001b[0m\u001b[48;2;255;175;175m\u001b[38;2;255;0;0m actually\u001b[0m\u001b[48;2;255;175;175m\u001b[38;2;255;0;0m pretty\u001b[0m\u001b[48;2;255;175;175m\u001b[38;2;255;0;0m good\u001b[0m\u001b[48;2;255;175;175m\u001b[38;2;255;0;0m!\u001b[0m\u001b[48;2;255;175;175m\u001b[38;2;255;0;0m Its\u001b[0m\u001b[48;2;255;175;175m\u001b[38;2;255;0;0m a\u001b[0m\u001b[48;2;255;175;175m\u001b[38;2;255;0;0m film\u001b[0m\u001b[48;2;255;175;175m\u001b[38;2;255;0;0m about\u001b[0m\u001b[48;2;255;175;175m\u001b[38;2;255;0;0m different\u001b[0m\u001b[48;2;255;175;175m\u001b[38;2;255;0;0m groups\u001b[0m\u001b[48;2;255;175;175m\u001b[38;2;255;0;0m of\u001b[0m\u001b[48;2;255;175;175m\u001b[38;2;255;0;0m kids\u001b[0m\u001b[48;2;255;175;175m\u001b[38;2;255;0;0m,\u001b[0m\u001b[48;2;255;175;175m\u001b[38;2;255;0;0m your\u001b[0m\u001b[48;2;255;175;175m\u001b[38;2;255;0;0m hill\u001b[0m\u001b[48;2;255;175;175m\u001b[38;2;255;0;0mbill\u001b[0m\u001b[48;2;255;175;175m\u001b[38;2;255;0;0mies\u001b[0m\u001b[48;2;255;175;175m\u001b[38;2;255;0;0m,\u001b[0m\u001b[48;2;255;175;175m\u001b[38;2;255;0;0m your\u001b[0m\u001b[48;2;255;175;175m\u001b[38;2;255;0;0m rich\u001b[0m\u001b[48;2;255;175;175m\u001b[38;2;255;0;0m sn\u001b[0m\u001b[48;2;255;175;175m\u001b[38;2;255;0;0mobs\u001b[0m\u001b[48;2;255;175;175m\u001b[38;2;255;0;0m,\u001b[0m\u001b[48;2;255;175;175m\u001b[38;2;255;0;0m your\u001b[0m\u001b[48;2;255;175;175m\u001b[38;2;255;0;0m typical\u001b[0m\u001b[48;2;255;175;175m\u001b[38;2;255;0;0m teenage\u001b[0m\u001b[48;2;255;175;175m\u001b[38;2;255;0;0m couple\u001b[0m\u001b[48;2;255;175;175m\u001b[38;2;255;0;0m,\u001b[0m\u001b[48;2;255;175;175m\u001b[38;2;255;0;0m plus\u001b[0m\u001b[48;2;255;175;175m\u001b[38;2;255;0;0m two\u001b[0m\u001b[48;2;255;175;175m\u001b[38;2;255;0;0m geek\u001b[0m\u001b[48;2;255;175;175m\u001b[38;2;255;0;0my\u001b[0m\u001b[48;2;255;175;175m\u001b[38;2;255;0;0m guys\u001b[0m\u001b[48;2;255;175;175m\u001b[38;2;255;0;0m and\u001b[0m\u001b[48;2;255;175;175m\u001b[38;2;255;0;0m one\u001b[0m\u001b[48;2;255;175;175m\u001b[38;2;255;0;0m post\u001b[0m\u001b[48;2;255;175;175m\u001b[38;2;255;0;0m hipp\u001b[0m\u001b[48;2;255;175;175m\u001b[38;2;255;0;0mie\u001b[0m\u001b[48;2;255;175;175m\u001b[38;2;255;0;0m babe\u001b[0m\u001b[48;2;255;175;175m\u001b[38;2;255;0;0m.\u001b[0m\u001b[48;2;255;175;175m\u001b[38;2;255;0;0m Together\u001b[0m\u001b[48;2;255;175;175m\u001b[38;2;255;0;0m,\u001b[0m\u001b[48;2;255;175;175m\u001b[38;2;255;0;0m but\u001b[0m\u001b[48;2;255;175;175m\u001b[38;2;255;0;0m as\u001b[0m\u001b[48;2;255;175;175m\u001b[38;2;255;0;0m separate\u001b[0m\u001b[48;2;255;175;175m\u001b[38;2;255;0;0m story\u001b[0m\u001b[48;2;255;175;175m\u001b[38;2;255;0;0mlines\u001b[0m\u001b[48;2;255;175;175m\u001b[38;2;255;0;0m,\u001b[0m\u001b[48;2;255;175;175m\u001b[38;2;255;0;0m each\u001b[0m\u001b[48;2;255;175;175m\u001b[38;2;255;0;0m group\u001b[0m\u001b[48;2;255;175;175m\u001b[38;2;255;0;0m is\u001b[0m\u001b[48;2;255;175;175m\u001b[38;2;255;0;0m travelling\u001b[0m\u001b[48;2;255;175;175m\u001b[38;2;255;0;0m to\u001b[0m\u001b[48;2;255;175;175m\u001b[38;2;255;0;0m the\u001b[0m\u001b[48;2;255;175;175m\u001b[38;2;255;0;0m Gold\u001b[0m\u001b[48;2;255;175;175m\u001b[38;2;255;0;0m Coast\u001b[0m\u001b[48;2;255;175;175m\u001b[38;2;255;0;0m for\u001b[0m\u001b[48;2;255;175;175m\u001b[38;2;255;0;0m School\u001b[0m\u001b[48;2;255;175;175m\u001b[38;2;255;0;0mies\u001b[0m\u001b[48;2;255;175;175m\u001b[38;2;255;0;0m Week\u001b[0m\u001b[48;2;255;175;175m\u001b[38;2;255;0;0m.\u001b[0m\u001b[48;2;255;175;175m\u001b[38;2;255;0;0m Australia\u001b[0m\u001b[48;2;255;175;175m\u001b[38;2;255;0;0m has\u001b[0m\u001b[48;2;255;175;175m\u001b[38;2;255;0;0m never\u001b[0m\u001b[48;2;255;175;175m\u001b[38;2;255;0;0m had\u001b[0m\u001b[48;2;255;175;175m\u001b[38;2;255;0;0m any\u001b[0m\u001b[48;2;255;175;175m\u001b[38;2;255;0;0m problems\u001b[0m\u001b[48;2;255;175;175m\u001b[38;2;255;0;0m writing\u001b[0m\u001b[48;2;255;175;175m\u001b[38;2;255;0;0m comedy\u001b[0m\u001b[48;2;255;175;175m\u001b[38;2;255;0;0m and\u001b[0m\u001b[48;2;255;175;175m\u001b[38;2;255;0;0m Australia\u001b[0m\u001b[48;2;255;175;175m\u001b[38;2;255;0;0m is\u001b[0m\u001b[48;2;255;175;175m\u001b[38;2;255;0;0m never\u001b[0m\u001b[48;2;255;175;175m\u001b[38;2;255;0;0m short\u001b[0m\u001b[48;2;255;175;175m\u001b[38;2;255;0;0m or\u001b[0m\u001b[48;2;255;175;175m\u001b[38;2;255;0;0m actors\u001b[0m\u001b[48;2;255;175;175m\u001b[38;2;255;0;0m who\u001b[0m\u001b[48;2;255;175;175m\u001b[38;2;255;0;0m can\u001b[0m\u001b[48;2;255;175;175m\u001b[38;2;255;0;0m play\u001b[0m\u001b[48;2;255;175;175m\u001b[38;2;255;0;0m comedy\u001b[0m\u001b[48;2;255;175;175m\u001b[38;2;255;0;0m with\u001b[0m\u001b[48;2;255;175;175m\u001b[38;2;255;0;0m subt\u001b[0m\u001b[48;2;255;175;175m\u001b[38;2;255;0;0mlet\u001b[0m\u001b[48;2;255;175;175m\u001b[38;2;255;0;0my\u001b[0m\u001b[48;2;255;175;175m\u001b[38;2;255;0;0m and\u001b[0m\u001b[48;2;255;175;175m\u001b[38;2;255;0;0m just\u001b[0m\u001b[48;2;255;175;175m\u001b[38;2;255;0;0m the\u001b[0m\u001b[48;2;255;175;175m\u001b[38;2;255;0;0m right\u001b[0m\u001b[48;2;255;175;175m\u001b[38;2;255;0;0m amount\u001b[0m\u001b[48;2;255;175;175m\u001b[38;2;255;0;0m on\u001b[0m\u001b[48;2;255;175;175m\u001b[38;2;255;0;0m qu\u001b[0m\u001b[48;2;255;175;175m\u001b[38;2;255;0;0mirk\u001b[0m\u001b[48;2;255;175;175m\u001b[38;2;255;0;0miness\u001b[0m\u001b[48;2;255;175;175m\u001b[38;2;255;0;0m.\u001b[0m\u001b[48;2;255;175;175m\u001b[38;2;255;0;0m The\u001b[0m\u001b[48;2;255;175;175m\u001b[38;2;255;0;0m cast\u001b[0m\u001b[48;2;255;175;175m\u001b[38;2;255;0;0m is\u001b[0m\u001b[48;2;255;175;175m\u001b[38;2;255;0;0m full\u001b[0m\u001b[48;2;255;175;175m\u001b[38;2;255;0;0m of\u001b[0m\u001b[48;2;255;175;175m\u001b[38;2;255;0;0m stellar\u001b[0m\u001b[48;2;255;175;175m\u001b[38;2;255;0;0m Aussie\u001b[0m\u001b[48;2;255;175;175m\u001b[38;2;255;0;0m actors\u001b[0m\u001b[48;2;255;175;175m\u001b[38;2;255;0;0m with\u001b[0m\u001b[48;2;255;175;175m\u001b[38;2;255;0;0m enormous\u001b[0m\u001b[48;2;255;175;175m\u001b[38;2;255;0;0m talent\u001b[0m\u001b[48;2;255;175;175m\u001b[38;2;255;0;0m and\u001b[0m\u001b[48;2;255;175;175m\u001b[38;2;255;0;0m loads\u001b[0m\u001b[48;2;255;175;175m\u001b[38;2;255;0;0m of\u001b[0m\u001b[48;2;255;175;175m\u001b[38;2;255;0;0m screen\u001b[0m\u001b[48;2;255;175;175m\u001b[38;2;255;0;0m presence\u001b[0m\u001b[48;2;255;175;175m\u001b[38;2;255;0;0m.\u001b[0m\u001b[48;2;255;175;175m\u001b[38;2;255;0;0m Keep\u001b[0m\u001b[48;2;255;175;175m\u001b[38;2;255;0;0m your\u001b[0m\u001b[48;2;255;175;175m\u001b[38;2;255;0;0m eyes\u001b[0m\u001b[48;2;255;175;175m\u001b[38;2;255;0;0m on\u001b[0m\u001b[48;2;255;175;175m\u001b[38;2;255;0;0m Craig\u001b[0m\u001b[48;2;255;175;175m\u001b[38;2;255;0;0m Hor\u001b[0m\u001b[48;2;255;175;175m\u001b[38;2;255;0;0mner\u001b[0m\u001b[48;2;255;175;175m\u001b[38;2;255;0;0m,\u001b[0m\u001b[48;2;255;175;175m\u001b[38;2;255;0;0m a\u001b[0m\u001b[48;2;255;175;175m\u001b[38;2;255;0;0m young\u001b[0m\u001b[48;2;255;175;175m\u001b[38;2;255;0;0m graduate\u001b[0m\u001b[48;2;255;175;175m\u001b[38;2;255;0;0m,\u001b[0m\u001b[48;2;255;175;175m\u001b[38;2;255;0;0m who\u001b[0m\u001b[48;2;255;175;175m\u001b[38;2;255;0;0m's\u001b[0m\u001b[48;2;255;175;175m\u001b[38;2;255;0;0m optimism\u001b[0m\u001b[48;2;255;175;175m\u001b[38;2;255;0;0m for\u001b[0m\u001b[48;2;255;175;175m\u001b[38;2;255;0;0m a\u001b[0m\u001b[48;2;255;175;175m\u001b[38;2;255;0;0m week\u001b[0m\u001b[48;2;255;175;175m\u001b[38;2;255;0;0m long\u001b[0m\u001b[48;2;255;175;175m\u001b[38;2;255;0;0m party\u001b[0m\u001b[48;2;255;175;175m\u001b[38;2;255;0;0m gets\u001b[0m\u001b[48;2;255;175;175m\u001b[38;2;255;0;0m lost\u001b[0m\u001b[48;2;255;175;175m\u001b[38;2;255;0;0m in\u001b[0m\u001b[48;2;255;175;175m\u001b[38;2;255;0;0m his\u001b[0m\u001b[48;2;255;175;175m\u001b[38;2;255;0;0m friends\u001b[0m\u001b[48;2;255;175;175m\u001b[38;2;255;0;0m sh\u001b[0m\u001b[48;2;255;175;175m\u001b[38;2;255;0;0menan\u001b[0m\u001b[48;2;255;175;175m\u001b[38;2;255;0;0migans\u001b[0m\u001b[48;2;255;175;175m\u001b[38;2;255;0;0m.\u001b[0m\u001b[48;2;255;175;175m\u001b[38;2;255;0;0m Travis\u001b[0m\u001b[48;2;255;175;175m\u001b[38;2;255;0;0m C\u001b[0m\u001b[48;2;255;175;175m\u001b[38;2;255;0;0motten\u001b[0m\u001b[48;2;255;175;175m\u001b[38;2;255;0;0m and\u001b[0m\u001b[48;2;255;175;175m\u001b[38;2;255;0;0m Mark\u001b[0m\u001b[48;2;255;175;175m\u001b[38;2;255;0;0m Priest\u001b[0m\u001b[48;2;255;175;175m\u001b[38;2;255;0;0mly\u001b[0m\u001b[48;2;255;175;175m\u001b[38;2;255;0;0m,\u001b[0m\u001b[48;2;255;175;175m\u001b[38;2;255;0;0m who\u001b[0m\u001b[48;2;255;175;175m\u001b[38;2;255;0;0m successfully\u001b[0m\u001b[48;2;255;175;175m\u001b[38;2;255;0;0m tackle\u001b[0m\u001b[48;2;255;175;175m\u001b[38;2;255;0;0m some\u001b[0m\u001b[48;2;255;175;175m\u001b[38;2;255;0;0m tricky\u001b[0m\u001b[48;2;255;175;175m\u001b[38;2;255;0;0m physical\u001b[0m\u001b[48;2;255;175;175m\u001b[38;2;255;0;0m comedy\u001b[0m\u001b[48;2;255;175;175m\u001b[38;2;255;0;0m as\u001b[0m\u001b[48;2;255;175;175m\u001b[38;2;255;0;0m two\u001b[0m\u001b[48;2;255;175;175m\u001b[38;2;255;0;0m bum\u001b[0m\u001b[48;2;255;175;175m\u001b[38;2;255;0;0mmed\u001b[0m\u001b[48;2;255;175;175m\u001b[38;2;255;0;0m out\u001b[0m\u001b[48;2;255;175;175m\u001b[38;2;255;0;0m bog\u001b[0m\u001b[48;2;255;175;175m\u001b[38;2;255;0;0mans\u001b[0m\u001b[48;2;255;175;175m\u001b[38;2;255;0;0m and\u001b[0m\u001b[48;2;255;175;175m\u001b[38;2;255;0;0m Jessica\u001b[0m\u001b[48;2;255;175;175m\u001b[38;2;255;0;0m G\u001b[0m\u001b[48;2;255;175;175m\u001b[38;2;255;0;0mower\u001b[0m\u001b[48;2;255;175;175m\u001b[38;2;255;0;0m as\u001b[0m\u001b[48;2;255;175;175m\u001b[38;2;255;0;0m a\u001b[0m\u001b[48;2;255;175;175m\u001b[38;2;255;0;0m cut\u001b[0m\u001b[48;2;255;175;175m\u001b[38;2;255;0;0mie\u001b[0m\u001b[48;2;255;175;175m\u001b[38;2;255;0;0m but\u001b[0m\u001b[48;2;255;175;175m\u001b[38;2;255;0;0m confused\u001b[0m\u001b[48;2;255;175;175m\u001b[38;2;255;0;0m teen\u001b[0m\u001b[48;2;255;175;175m\u001b[38;2;255;0;0m angst\u001b[0m\u001b[48;2;255;175;175m\u001b[38;2;255;0;0ming\u001b[0m\u001b[48;2;255;175;175m\u001b[38;2;255;0;0m about\u001b[0m\u001b[48;2;255;175;175m\u001b[38;2;255;0;0m love\u001b[0m\u001b[48;2;255;175;175m\u001b[38;2;255;0;0m.\u001b[0m\u001b[48;2;255;175;175m\u001b[38;2;255;0;0m Ver\u001b[0m\u001b[48;2;255;175;175m\u001b[38;2;255;0;0mon\u001b[0m\u001b[48;2;255;175;175m\u001b[38;2;255;0;0mika\u001b[0m\u001b[48;2;255;175;175m\u001b[38;2;255;0;0m Sy\u001b[0m\u001b[48;2;255;175;175m\u001b[38;2;255;0;0mw\u001b[0m\u001b[48;2;255;175;175m\u001b[38;2;255;0;0mak\u001b[0m\u001b[48;2;255;175;175m\u001b[38;2;255;0;0m makes\u001b[0m\u001b[48;2;255;175;175m\u001b[38;2;255;0;0m her\u001b[0m\u001b[48;2;255;175;175m\u001b[38;2;255;0;0m film\u001b[0m\u001b[48;2;255;175;175m\u001b[38;2;255;0;0m debut\u001b[0m\u001b[48;2;255;175;175m\u001b[38;2;255;0;0m as\u001b[0m\u001b[48;2;255;175;175m\u001b[38;2;255;0;0m every\u001b[0m\u001b[48;2;255;175;175m\u001b[38;2;255;0;0m adolescent\u001b[0m\u001b[48;2;255;175;175m\u001b[38;2;255;0;0m boys\u001b[0m\u001b[48;2;255;175;175m\u001b[38;2;255;0;0m dream\u001b[0m\u001b[48;2;255;175;175m\u001b[38;2;255;0;0m girl\u001b[0m\u001b[48;2;255;175;175m\u001b[38;2;255;0;0m,\u001b[0m\u001b[48;2;255;175;175m\u001b[38;2;255;0;0m and\u001b[0m\u001b[48;2;255;175;175m\u001b[38;2;255;0;0m holds\u001b[0m\u001b[48;2;255;175;175m\u001b[38;2;255;0;0m her\u001b[0m\u001b[48;2;255;175;175m\u001b[38;2;255;0;0m own\u001b[0m\u001b[48;2;255;175;175m\u001b[38;2;255;0;0m amongst\u001b[0m\u001b[48;2;255;175;175m\u001b[38;2;255;0;0m an\u001b[0m\u001b[48;2;255;175;175m\u001b[38;2;255;0;0m array\u001b[0m\u001b[48;2;255;175;175m\u001b[38;2;255;0;0m of\u001b[0m\u001b[48;2;255;175;175m\u001b[38;2;255;0;0m considerably\u001b[0m\u001b[48;2;255;175;175m\u001b[38;2;255;0;0m more\u001b[0m\u001b[48;2;255;175;175m\u001b[38;2;255;0;0m experienced\u001b[0m\u001b[48;2;255;175;175m\u001b[38;2;255;0;0m performers\u001b[0m\u001b[48;2;255;175;175m\u001b[38;2;255;0;0m.\u001b[0m\u001b[48;2;255;175;175m\u001b[38;2;255;0;0m Look\u001b[0m\u001b[48;2;255;175;175m\u001b[38;2;255;0;0m out\u001b[0m\u001b[48;2;255;175;175m\u001b[38;2;255;0;0m for\u001b[0m\u001b[48;2;255;175;175m\u001b[38;2;255;0;0m Matthew\u001b[0m\u001b[48;2;255;175;175m\u001b[38;2;255;0;0m Newton\u001b[0m\u001b[48;2;255;175;175m\u001b[38;2;255;0;0m,\u001b[0m\u001b[48;2;255;175;175m\u001b[38;2;255;0;0m clever\u001b[0m\u001b[48;2;255;175;175m\u001b[38;2;255;0;0mly\u001b[0m\u001b[48;2;255;175;175m\u001b[38;2;255;0;0m cast\u001b[0m\u001b[48;2;255;175;175m\u001b[38;2;255;0;0m as\u001b[0m\u001b[48;2;255;175;175m\u001b[38;2;255;0;0m a\u001b[0m\u001b[48;2;255;175;175m\u001b[38;2;255;0;0m se\u001b[0m\u001b[48;2;255;175;175m\u001b[38;2;255;0;0medy\u001b[0m\u001b[48;2;255;175;175m\u001b[38;2;255;0;0m lim\u001b[0m\u001b[48;2;255;175;175m\u001b[38;2;255;0;0mo\u001b[0m\u001b[48;2;255;175;175m\u001b[38;2;255;0;0m driver\u001b[0m\u001b[48;2;255;175;175m\u001b[38;2;255;0;0m.\u001b[0m\u001b[48;2;255;175;175m\u001b[38;2;255;0;0m Fantastic\u001b[0m\u001b[48;2;255;175;175m\u001b[38;2;255;0;0m Aussie\u001b[0m\n",
      "I\u001b[48;2;255;175;175m\u001b[38;2;255;0;0m just\u001b[0m\u001b[48;2;255;175;175m\u001b[38;2;255;0;0m saw\u001b[0m\u001b[48;2;255;175;175m\u001b[38;2;255;0;0m this\u001b[0m\u001b[48;2;255;175;175m\u001b[38;2;255;0;0m at\u001b[0m\u001b[48;2;255;175;175m\u001b[38;2;255;0;0m the\u001b[0m\u001b[48;2;255;175;175m\u001b[38;2;255;0;0m Castro\u001b[0m\u001b[48;2;255;175;175m\u001b[38;2;255;0;0m Theatre\u001b[0m\u001b[48;2;255;175;175m\u001b[38;2;255;0;0m in\u001b[0m\u001b[48;2;255;175;175m\u001b[38;2;255;0;0m San\u001b[0m\u001b[48;2;255;175;175m\u001b[38;2;255;0;0m Francisco\u001b[0m\u001b[48;2;255;175;175m\u001b[38;2;255;0;0m and\u001b[0m\u001b[48;2;255;175;175m\u001b[38;2;255;0;0m had\u001b[0m\u001b[48;2;255;175;175m\u001b[38;2;255;0;0m trouble\u001b[0m\u001b[48;2;255;175;175m\u001b[38;2;255;0;0m staying\u001b[0m\u001b[48;2;255;175;175m\u001b[38;2;255;0;0m awake\u001b[0m\u001b[48;2;255;175;175m\u001b[38;2;255;0;0m during\u001b[0m\u001b[48;2;255;175;175m\u001b[38;2;255;0;0m this\u001b[0m\u001b[48;2;255;175;175m\u001b[38;2;255;0;0m incredibly\u001b[0m\u001b[48;2;255;175;175m\u001b[38;2;255;0;0m repetitive\u001b[0m\u001b[48;2;255;175;175m\u001b[38;2;255;0;0m,\u001b[0m\u001b[48;2;255;175;175m\u001b[38;2;255;0;0m un\u001b[0m\u001b[48;2;255;175;175m\u001b[38;2;255;0;0men\u001b[0m\u001b[48;2;255;175;175m\u001b[38;2;255;0;0mlight\u001b[0m\u001b[48;2;255;175;175m\u001b[38;2;255;0;0mening\u001b[0m\u001b[48;2;255;175;175m\u001b[38;2;255;0;0m little\u001b[0m\u001b[48;2;255;175;175m\u001b[38;2;255;0;0m film\u001b[0m\u001b[48;2;255;175;175m\u001b[38;2;255;0;0m.\u001b[0m\u001b[48;2;255;175;175m\u001b[38;2;255;0;0m It\u001b[0m\u001b[48;2;255;175;175m\u001b[38;2;255;0;0m is\u001b[0m\u001b[48;2;255;175;175m\u001b[38;2;255;0;0m a\u001b[0m\u001b[48;2;255;175;175m\u001b[38;2;255;0;0m \u001b[0m\u001b[48;2;255;175;175m\u001b[38;2;255;0;0m7\u001b[0m\u001b[48;2;255;175;175m\u001b[38;2;255;0;0m5\u001b[0m\u001b[48;2;255;175;175m\u001b[38;2;255;0;0m minutes\u001b[0m\u001b[48;2;255;175;175m\u001b[38;2;255;0;0m film\u001b[0m\u001b[48;2;255;175;175m\u001b[38;2;255;0;0m that\u001b[0m\u001b[48;2;255;175;175m\u001b[38;2;255;0;0m felt\u001b[0m\u001b[48;2;255;175;175m\u001b[38;2;255;0;0m like\u001b[0m\u001b[48;2;255;175;175m\u001b[38;2;255;0;0m \u001b[0m\u001b[48;2;255;175;175m\u001b[38;2;255;0;0m1\u001b[0m\u001b[48;2;255;175;175m\u001b[38;2;255;0;0m7\u001b[0m\u001b[48;2;255;175;175m\u001b[38;2;255;0;0m5\u001b[0m\u001b[48;2;255;175;175m\u001b[38;2;255;0;0m minutes\u001b[0m\u001b[48;2;255;175;175m\u001b[38;2;255;0;0m and\u001b[0m\u001b[48;2;255;175;175m\u001b[38;2;255;0;0m has\u001b[0m\u001b[48;2;255;175;175m\u001b[38;2;255;0;0m about\u001b[0m\u001b[48;2;255;175;175m\u001b[38;2;255;0;0m \u001b[0m\u001b[48;2;255;175;175m\u001b[38;2;255;0;0m2\u001b[0m\u001b[48;2;255;175;175m\u001b[38;2;255;0;0m0\u001b[0m\u001b[48;2;255;175;175m\u001b[38;2;255;0;0m minutes\u001b[0m\u001b[48;2;255;175;175m\u001b[38;2;255;0;0m of\u001b[0m\u001b[48;2;255;175;175m\u001b[38;2;255;0;0m modest\u001b[0m\u001b[48;2;255;175;175m\u001b[38;2;255;0;0mly\u001b[0m\u001b[48;2;255;175;175m\u001b[38;2;255;0;0m engaging\u001b[0m\u001b[48;2;255;175;175m\u001b[38;2;255;0;0m material\u001b[0m\u001b[48;2;255;175;175m\u001b[38;2;255;0;0m.\u001b[0m\u001b[48;2;255;175;175m\u001b[38;2;255;0;0m It\u001b[0m\u001b[48;2;255;175;175m\u001b[38;2;255;0;0m's\u001b[0m\u001b[48;2;255;175;175m\u001b[38;2;255;0;0m not\u001b[0m\u001b[48;2;255;175;175m\u001b[38;2;255;0;0m bad\u001b[0m\u001b[48;2;255;175;175m\u001b[38;2;255;0;0m in\u001b[0m\u001b[48;2;255;175;175m\u001b[38;2;255;0;0m any\u001b[0m\u001b[48;2;255;175;175m\u001b[38;2;255;0;0m offensive\u001b[0m\u001b[48;2;255;175;175m\u001b[38;2;255;0;0m way\u001b[0m\u001b[48;2;255;175;175m\u001b[38;2;255;0;0m,\u001b[0m\u001b[48;2;255;175;175m\u001b[38;2;255;0;0m it\u001b[0m\u001b[48;2;255;175;175m\u001b[38;2;255;0;0m just\u001b[0m\u001b[48;2;255;175;175m\u001b[38;2;255;0;0m repeats\u001b[0m\u001b[48;2;255;175;175m\u001b[38;2;255;0;0m things\u001b[0m\u001b[48;2;255;175;175m\u001b[38;2;255;0;0m that\u001b[0m\u001b[48;2;255;175;175m\u001b[38;2;255;0;0m have\u001b[0m\u001b[48;2;255;175;175m\u001b[38;2;255;0;0m been\u001b[0m\u001b[48;2;255;175;175m\u001b[38;2;255;0;0m said\u001b[0m\u001b[48;2;255;175;175m\u001b[38;2;255;0;0m many\u001b[0m\u001b[48;2;255;175;175m\u001b[38;2;255;0;0m,\u001b[0m\u001b[48;2;255;175;175m\u001b[38;2;255;0;0m many\u001b[0m\u001b[48;2;255;175;175m\u001b[38;2;255;0;0m times\u001b[0m\u001b[48;2;255;175;175m\u001b[38;2;255;0;0m over\u001b[0m\u001b[48;2;255;175;175m\u001b[38;2;255;0;0m and\u001b[0m\u001b[48;2;255;175;175m\u001b[38;2;255;0;0m more\u001b[0m\u001b[48;2;255;175;175m\u001b[38;2;255;0;0m interesting\u001b[0m\u001b[48;2;255;175;175m\u001b[38;2;255;0;0mly\u001b[0m\u001b[48;2;255;175;175m\u001b[38;2;255;0;0m and\u001b[0m\u001b[48;2;255;175;175m\u001b[38;2;255;0;0m provoc\u001b[0m\u001b[48;2;255;175;175m\u001b[38;2;255;0;0matively\u001b[0m\u001b[48;2;255;175;175m\u001b[38;2;255;0;0m.\u001b[0m\u001b[48;2;255;175;175m\u001b[38;2;255;0;0m With\u001b[0m\u001b[48;2;255;175;175m\u001b[38;2;255;0;0m only\u001b[0m\u001b[48;2;255;175;175m\u001b[38;2;255;0;0m a\u001b[0m\u001b[48;2;255;175;175m\u001b[38;2;255;0;0m couple\u001b[0m\u001b[48;2;255;175;175m\u001b[38;2;255;0;0m of\u001b[0m\u001b[48;2;255;175;175m\u001b[38;2;255;0;0m exceptions\u001b[0m\u001b[48;2;255;175;175m\u001b[38;2;255;0;0m,\u001b[0m\u001b[48;2;255;175;175m\u001b[38;2;255;0;0m the\u001b[0m\u001b[48;2;255;175;175m\u001b[38;2;255;0;0m interviews\u001b[0m\u001b[48;2;255;175;175m\u001b[38;2;255;0;0m drone\u001b[0m\u001b[48;2;255;175;175m\u001b[38;2;255;0;0m on\u001b[0m\u001b[48;2;255;175;175m\u001b[38;2;255;0;0m and\u001b[0m\u001b[48;2;255;175;175m\u001b[38;2;255;0;0m on\u001b[0m\u001b[48;2;255;175;175m\u001b[38;2;255;0;0m and\u001b[0m\u001b[48;2;255;175;175m\u001b[38;2;255;0;0m on\u001b[0m\u001b[48;2;255;175;175m\u001b[38;2;255;0;0m,\u001b[0m\u001b[48;2;255;175;175m\u001b[38;2;255;0;0m making\u001b[0m\u001b[48;2;255;175;175m\u001b[38;2;255;0;0m little\u001b[0m\u001b[48;2;255;175;175m\u001b[38;2;255;0;0m emotional\u001b[0m\u001b[48;2;255;175;175m\u001b[38;2;255;0;0m contact\u001b[0m\u001b[48;2;255;175;175m\u001b[38;2;255;0;0m or\u001b[0m\u001b[48;2;255;175;175m\u001b[38;2;255;0;0m context\u001b[0m\u001b[48;2;255;175;175m\u001b[38;2;255;0;0m to\u001b[0m\u001b[48;2;255;175;175m\u001b[38;2;255;0;0m the\u001b[0m\u001b[48;2;255;175;175m\u001b[38;2;255;0;0m whole\u001b[0m\u001b[48;2;255;175;175m\u001b[38;2;255;0;0m topic\u001b[0m\u001b[48;2;255;175;175m\u001b[38;2;255;0;0m.\u001b[0m\u001b[48;2;255;175;175m\u001b[38;2;255;0;0m It\u001b[0m\u001b[48;2;255;175;175m\u001b[38;2;255;0;0m's\u001b[0m\u001b[48;2;255;175;175m\u001b[38;2;255;0;0m more\u001b[0m\u001b[48;2;255;175;175m\u001b[38;2;255;0;0m like\u001b[0m\u001b[48;2;255;175;175m\u001b[38;2;255;0;0m a\u001b[0m\u001b[48;2;255;175;175m\u001b[38;2;255;0;0m \"\u001b[0m\u001b[48;2;255;175;175m\u001b[38;2;255;0;0mhow\u001b[0m\u001b[48;2;255;175;175m\u001b[38;2;255;0;0m to\u001b[0m\u001b[48;2;255;175;175m\u001b[38;2;255;0;0m\"\u001b[0m\u001b[48;2;255;175;175m\u001b[38;2;255;0;0m guide\u001b[0m\u001b[48;2;255;175;175m\u001b[38;2;255;0;0m for\u001b[0m\u001b[48;2;255;175;175m\u001b[38;2;255;0;0m something\u001b[0m\u001b[48;2;255;175;175m\u001b[38;2;255;0;0m that\u001b[0m\u001b[48;2;255;175;175m\u001b[38;2;255;0;0m can\u001b[0m\u001b[48;2;255;175;175m\u001b[38;2;255;0;0m't\u001b[0m\u001b[48;2;255;175;175m\u001b[38;2;255;0;0m be\u001b[0m\u001b[48;2;255;175;175m\u001b[38;2;255;0;0m done\u001b[0m\u001b[48;2;255;175;175m\u001b[38;2;255;0;0m anymore\u001b[0m\u001b[48;2;255;175;175m\u001b[38;2;255;0;0m.\u001b[0m\u001b[48;2;255;175;175m\u001b[38;2;255;0;0m I\u001b[0m\u001b[48;2;255;175;175m\u001b[38;2;255;0;0m was\u001b[0m\u001b[48;2;255;175;175m\u001b[38;2;255;0;0m alive\u001b[0m\u001b[48;2;255;175;175m\u001b[38;2;255;0;0m during\u001b[0m\u001b[48;2;255;175;175m\u001b[38;2;255;0;0m the\u001b[0m\u001b[48;2;255;175;175m\u001b[38;2;255;0;0m era\u001b[0m\u001b[48;2;255;175;175m\u001b[38;2;255;0;0m but\u001b[0m\u001b[48;2;255;175;175m\u001b[38;2;255;0;0m felt\u001b[0m\u001b[48;2;255;175;175m\u001b[38;2;255;0;0m little\u001b[0m\u001b[48;2;255;175;175m\u001b[38;2;255;0;0m connection\u001b[0m\u001b[48;2;255;175;175m\u001b[38;2;255;0;0m or\u001b[0m\u001b[48;2;255;175;175m\u001b[38;2;255;0;0m nostalgia\u001b[0m\u001b[48;2;255;175;175m\u001b[38;2;255;0;0m for\u001b[0m\u001b[48;2;255;175;175m\u001b[38;2;255;0;0m what\u001b[0m\u001b[48;2;255;175;175m\u001b[38;2;255;0;0m was\u001b[0m\u001b[48;2;255;175;175m\u001b[38;2;255;0;0m presented\u001b[0m\u001b[48;2;255;175;175m\u001b[38;2;255;0;0m.\u001b[0m\n"
     ]
    }
   ],
   "source": [
    "highlight_feature(positives[1], sorted_indices[0], model, sae, tokenizer)\n",
    "highlight_feature(negatives[1], sorted_indices[0], model, sae, tokenizer)"
   ]
  },
  {
    "cell_type": "markdown",
    "metadata": {},
    "source": [
     "Some features I have naively labelled"
    ]
   },
   {
    "cell_type": "markdown",
    "metadata": {},
    "source": [
     "\"Referring to someone or something\" feature"
    ]
   },
   {
    "cell_type": "code",
    "execution_count": 182,
    "metadata": {},
    "outputs": [
     {
      "name": "stdout",
      "output_type": "stream",
      "text": [
       "I\u001b[48;2;255;175;175m\u001b[38;2;255;0;0m was\u001b[0m\u001b[48;2;255;184;184m\u001b[38;2;227;0;0m truly\u001b[0m and wonderfully surprised at \"O' Brother, Where Art Thou?\" The video store\u001b[48;2;255;175;175m\u001b[38;2;255;0;0m was\u001b[0m out of all the movies I\u001b[48;2;255;175;175m\u001b[38;2;255;0;0m was\u001b[0m planning on renting,\u001b[48;2;255;198;198m\u001b[38;2;190;0;0m so\u001b[0m\u001b[48;2;255;183;183m\u001b[38;2;230;0;0m then\u001b[0m\u001b[48;2;255;175;175m\u001b[38;2;255;0;0m I\u001b[0m\u001b[48;2;255;175;175m\u001b[38;2;255;0;0m came\u001b[0m across this.\u001b[48;2;255;175;175m\u001b[38;2;255;0;0m I\u001b[0m\u001b[48;2;255;175;175m\u001b[38;2;255;0;0m came\u001b[0m home\u001b[48;2;255;175;175m\u001b[38;2;255;0;0m and\u001b[0m\u001b[48;2;255;180;180m\u001b[38;2;239;0;0m as\u001b[0m\u001b[48;2;255;175;175m\u001b[38;2;255;0;0m I\u001b[0m watched\u001b[48;2;255;175;175m\u001b[38;2;255;0;0m I\u001b[0m\u001b[48;2;255;175;175m\u001b[38;2;255;0;0m became\u001b[0m engrossed\u001b[48;2;255;175;175m\u001b[38;2;255;0;0m and\u001b[0m\u001b[48;2;255;175;175m\u001b[38;2;255;0;0m found\u001b[0m\u001b[48;2;255;175;175m\u001b[38;2;255;0;0m myself\u001b[0m laughing out loud. The Coen's\u001b[48;2;255;175;175m\u001b[38;2;255;0;0m have\u001b[0m\u001b[48;2;255;195;195m\u001b[38;2;197;0;0m made\u001b[0m a magnificiant film again.\u001b[48;2;255;192;192m\u001b[38;2;205;0;0m But\u001b[0m\u001b[48;2;255;175;175m\u001b[38;2;255;0;0m I\u001b[0m think the first time you watch this movie,\u001b[48;2;255;178;178m\u001b[38;2;244;0;0m you\u001b[0m\u001b[48;2;255;175;175m\u001b[38;2;255;0;0m get\u001b[0m to know the characters. The second time,\u001b[48;2;255;216;216m\u001b[38;2;138;0;0m now\u001b[0m that\u001b[48;2;255;185;185m\u001b[38;2;225;0;0m you\u001b[0m know them,\u001b[48;2;255;182;182m\u001b[38;2;234;0;0m you\u001b[0m laugh sooo hard it could hurt you.\u001b[48;2;255;175;175m\u001b[38;2;255;0;0m I\u001b[0m strongly would reccomend ANYONE seeing this because\u001b[48;2;255;205;205m\u001b[38;2;170;0;0m if\u001b[0m\u001b[48;2;255;180;180m\u001b[38;2;239;0;0m you\u001b[0m\u001b[48;2;255;175;175m\u001b[38;2;255;0;0m are\u001b[0m\u001b[48;2;255;175;175m\u001b[38;2;255;0;0m not\u001b[0m, you\u001b[48;2;255;175;175m\u001b[38;2;255;0;0m are\u001b[0m truly missing a film gem for the ages. 10/10\n",
       "Don't pay any attention to the rave reviews of this film here. It\u001b[48;2;255;175;175m\u001b[38;2;255;0;0m is\u001b[0m the worst Van Damme film and one of the worst of any sort I\u001b[48;2;255;175;175m\u001b[38;2;255;0;0m have\u001b[0m\u001b[48;2;255;175;175m\u001b[38;2;255;0;0m ever\u001b[0m seen. It would appeal to somebody with no depth whatever who requires nothing more than gunfire and explosions to\u001b[48;2;255;198;198m\u001b[38;2;187;0;0m be\u001b[0m entertained.<br /><br />Seeing that this\u001b[48;2;255;175;175m\u001b[38;2;255;0;0m is\u001b[0m directed by Peter Hyams it\u001b[48;2;255;175;175m\u001b[38;2;255;0;0m has\u001b[0m\u001b[48;2;255;212;212m\u001b[38;2;148;0;0m made\u001b[0m\u001b[48;2;255;175;175m\u001b[38;2;255;0;0m me\u001b[0m realise that Peter\u001b[48;2;255;175;175m\u001b[38;2;255;0;0m has\u001b[0m no talent as a director,\u001b[48;2;255;200;200m\u001b[38;2;183;0;0m but\u001b[0m\u001b[48;2;255;175;175m\u001b[38;2;255;0;0m is\u001b[0m very good at filming explosions and the like.\u001b[48;2;255;208;208m\u001b[38;2;161;0;0m However\u001b[0m, movies need other elements as well; for example, a story. This one\u001b[48;2;255;175;175m\u001b[38;2;255;0;0m didn\u001b[0m\u001b[48;2;255;182;182m\u001b[38;2;235;0;0m't\u001b[0m\u001b[48;2;255;175;175m\u001b[38;2;255;0;0m have\u001b[0m one.\u001b[48;2;255;201;201m\u001b[38;2;180;0;0m This\u001b[0m might explain the awfulness of some of Mr. Hyams' more recent films, hardly any better than this one, really.<br /><br />One\u001b[48;2;255;175;175m\u001b[38;2;255;0;0m can\u001b[0m\u001b[48;2;255;199;199m\u001b[38;2;186;0;0m't\u001b[0m help wondering how some people ever\u001b[48;2;255;175;175m\u001b[38;2;255;0;0m were\u001b[0m put behind a camera.\n"
      ]
     }
    ],
    "source": [
     "highlight_feature(positives[2], sorted_indices[8], model, sae, tokenizer)\n",
     "highlight_feature(negatives[2], sorted_indices[8], model, sae, tokenizer)"
    ]
   },
   {
    "cell_type": "markdown",
    "metadata": {},
    "source": [
     "\"End of sentence\" feature"
    ]
   },
   {
    "cell_type": "code",
    "execution_count": 183,
    "metadata": {},
    "outputs": [
     {
      "name": "stdout",
      "output_type": "stream",
      "text": [
       "After a very long time Marathi cinema has come with some good movie\u001b[48;2;255;175;175m\u001b[38;2;255;0;0m.This\u001b[0m movie is one of the best Marathi movies ever made\u001b[48;2;255;175;175m\u001b[38;2;255;0;0m.\u001b[0m It shows how a old grandfather tries to save his grandsons eye\u001b[48;2;255;175;175m\u001b[38;2;255;0;0m.\u001b[0m He tries everything that is possible in his hands to save the child's eye\u001b[48;2;255;175;175m\u001b[38;2;255;0;0m.\u001b[0m Doctor and a relative of his tries to help him in his attempt\u001b[48;2;255;175;175m\u001b[38;2;255;0;0m.<\u001b[0m\u001b[48;2;255;182;182m\u001b[38;2;234;0;0mbr\u001b[0m\u001b[48;2;255;214;214m\u001b[38;2;142;0;0m /><\u001b[0mbr\u001b[48;2;255;175;175m\u001b[38;2;255;0;0m />\u001b[0mThe acting by the grandfather, the boy and the doctor are simply superb\u001b[48;2;255;175;175m\u001b[38;2;255;0;0m.\u001b[0m They have shown true picture of a typical Marathi life\u001b[48;2;255;175;175m\u001b[38;2;255;0;0m.\u001b[0m Every bit of action has some meaning in it\u001b[48;2;255;175;175m\u001b[38;2;255;0;0m.\u001b[0m I would recommend to watch this movie, as initially I thought this one would be of documentary type but this was above my expectations\u001b[48;2;255;175;175m\u001b[38;2;255;0;0m.<\u001b[0m\u001b[48;2;255;175;175m\u001b[38;2;255;0;0mbr\u001b[0m\u001b[48;2;255;194;194m\u001b[38;2;199;0;0m /><\u001b[0m\u001b[48;2;255;175;175m\u001b[38;2;255;0;0mbr\u001b[0m\u001b[48;2;255;175;175m\u001b[38;2;255;0;0m />\u001b[0mThis film is really going to touch your hearts.I would expect more Marathi movies to come up with performances like this\u001b[48;2;255;175;175m\u001b[38;2;255;0;0m.\u001b[0m\n",
       "Porn legend Gregory Dark directs this cheesy horror flick that has Glen Jacobs (Kane from WWF/WWE/ whatever it calls itself nowadays\u001b[48;2;255;197;197m\u001b[38;2;193;0;0m)\u001b[0m in his cinematic debut\u001b[48;2;255;175;175m\u001b[38;2;255;0;0m.\u001b[0m He plays Jacob Goodknight, a blind serial killer who's forte is taking people's eyes out\u001b[48;2;255;175;175m\u001b[38;2;255;0;0m.\u001b[0m The plot, be it as it may, has a group of troubled youths cleaning up the historical hotel that GoodKnight resides in and subsequently being offed by him\u001b[48;2;255;175;175m\u001b[38;2;255;0;0m.\u001b[0m Hemmingway it's not\u001b[48;2;255;175;175m\u001b[38;2;255;0;0m.\u001b[0m Starts of as fun dopey B-movie, but soon gets too tedious to be enjoyable\u001b[48;2;255;175;175m\u001b[38;2;255;0;0m.\u001b[0m Glad I went in with pretty low expectations, but even those weren't met\u001b[48;2;255;175;175m\u001b[38;2;255;0;0m.\u001b[0m How can you have a porn king directing and still suffer from a lack of nudity\u001b[48;2;255;175;175m\u001b[38;2;255;0;0m???\u001b[0m for shame\u001b[48;2;255;175;175m\u001b[38;2;255;0;0m.<\u001b[0m\u001b[48;2;255;177;177m\u001b[38;2;248;0;0mbr\u001b[0m\u001b[48;2;255;211;211m\u001b[38;2;151;0;0m /><\u001b[0m\u001b[48;2;255;190;190m\u001b[38;2;212;0;0mbr\u001b[0m\u001b[48;2;255;175;175m\u001b[38;2;255;0;0m />\u001b[0mMy Grade: D-\u001b[48;2;255;193;193m\u001b[38;2;201;0;0m <\u001b[0m\u001b[48;2;255;190;190m\u001b[38;2;210;0;0mbr\u001b[0m\u001b[48;2;255;201;201m\u001b[38;2;179;0;0m /><\u001b[0m\u001b[48;2;255;194;194m\u001b[38;2;201;0;0mbr\u001b[0m\u001b[48;2;255;175;175m\u001b[38;2;255;0;0m />\u001b[0mEye Candy\u001b[48;2;255;175;175m\u001b[38;2;254;0;0m:\u001b[0m Samantha Noble bares her ass briefly\n"
      ]
     }
    ],
    "source": [
     "highlight_feature(positives[3], sorted_indices[10], model, sae, tokenizer)\n",
     "highlight_feature(negatives[3], sorted_indices[10], model, sae, tokenizer)"
    ]
   },
   {
    "cell_type": "markdown",
    "metadata": {},
    "source": [
     "The \"the\" feature"
    ]
   },
   {
    "cell_type": "code",
    "execution_count": 184,
    "metadata": {},
    "outputs": [
     {
      "name": "stdout",
      "output_type": "stream",
      "text": [
       "This is a really sad, and touching movie! It deals with\u001b[48;2;255;175;175m\u001b[38;2;255;0;0m the\u001b[0m subject of child abuse. It's really sad, but mostly a true story, because it happens everyday. Elijah Wood and Joseph Mazzello play\u001b[48;2;255;175;175m\u001b[38;2;255;0;0m the\u001b[0m two children or Lorraine Bracco, a single mother who just tries to make a home for them. While living with her parents, a man, who likes to be called \"\u001b[48;2;255;175;175m\u001b[38;2;255;0;0mThe\u001b[0m King\" comes into\u001b[48;2;255;175;175m\u001b[38;2;255;0;0m their\u001b[0m life. He hits\u001b[48;2;255;175;175m\u001b[38;2;255;0;0m the\u001b[0m youngest boy, Bobby, but\u001b[48;2;255;175;175m\u001b[38;2;255;0;0m the\u001b[0m two brothers vow not to tell\u001b[48;2;255;183;183m\u001b[38;2;231;0;0m their\u001b[0m mother. But finally she finds out, after\u001b[48;2;255;175;175m\u001b[38;2;255;0;0m the\u001b[0m Bobby is hurt badly.\u001b[48;2;255;175;175m\u001b[38;2;255;0;0m The\u001b[0m end kind of ruined it for me, because it is so totally unbelievable. But, except for that, I love\u001b[48;2;255;175;175m\u001b[38;2;255;0;0m the\u001b[0m movie.\n",
       "OK, it was a \"risky\" move to rent this flick, but I thought I had nothing to lose.Well, I was wrong. This is, next to \"Bloodsurf\",\u001b[48;2;255;175;175m\u001b[38;2;255;0;0m the\u001b[0m worst \"horrormovie\" I have ever seen. Crappy actors, crappy technical output, crappy story and so on.\u001b[48;2;255;175;175m\u001b[38;2;255;0;0m The\u001b[0m soundtrack though, isn't to bad. That is why I give it a 2 on\u001b[48;2;255;175;175m\u001b[38;2;255;0;0m the\u001b[0m vote and not just a 1. And of course\u001b[48;2;255;175;175m\u001b[38;2;255;0;0m the\u001b[0m cats are a positive surprise. By far\u001b[48;2;255;175;175m\u001b[38;2;255;0;0m the\u001b[0m superior actors in this movie..... Do not rent or buy it. Stay away from it and hope that this horrible, horrible film will vanish to some obscure existence and not become a \"cult classic\". It most definitely do not deserve any recognition.\n"
      ]
     }
    ],
    "source": [
     "highlight_feature(positives[4], sorted_indices[14], model, sae, tokenizer)\n",
     "highlight_feature(negatives[4], sorted_indices[14], model, sae, tokenizer)\n"
    ]
   },
   {
    "cell_type": "markdown",
    "metadata": {},
    "source": [
     "\"name\" feature"
    ]
   },
   {
    "cell_type": "code",
    "execution_count": 185,
    "metadata": {},
    "outputs": [
     {
      "name": "stdout",
      "output_type": "stream",
      "text": [
       "This was a great movie. Something not only for\u001b[48;2;255;180;180m\u001b[38;2;240;0;0m Black\u001b[0m History month but as a reminder of the goodness of people and the statement that it truly does take a village to raise a child. The performances by\u001b[48;2;255;175;175m\u001b[38;2;255;0;0m S\u001b[0m\u001b[48;2;255;175;175m\u001b[38;2;255;0;0m E\u001b[0m\u001b[48;2;255;175;175m\u001b[38;2;255;0;0mpt\u001b[0m\u001b[48;2;255;180;180m\u001b[38;2;239;0;0math\u001b[0m was outstanding.\u001b[48;2;255;175;175m\u001b[38;2;255;0;0m Mos\u001b[0m\u001b[48;2;255;175;175m\u001b[38;2;255;0;0m Def\u001b[0m and his singing was off the hook. Had to do a double take when I saw that was\u001b[48;2;255;175;175m\u001b[38;2;255;0;0m Rosie\u001b[0m\u001b[48;2;255;175;175m\u001b[38;2;255;0;0m Perez\u001b[0m there. But the supporting cast of actors and actresses made this worth watching. All the different stories they had was amazing. And how\u001b[48;2;255;192;192m\u001b[38;2;206;0;0m N\u001b[0m\u001b[48;2;255;175;175m\u001b[38;2;255;0;0manny\u001b[0m protected\u001b[48;2;255;175;175m\u001b[38;2;255;0;0m Jr\u001b[0m and literally everyone else that was in her presence. I can truly understand her being the matriarch of that time period and even more so how tired she was in helping everyone. Cant wait for it to come out on DVD. It would be a welcome addition to any movie library.\n",
       "These days, writers, directors and producers are relying more and more on the \"surprise\" ending. The old art of bringing a movie to closure, taking all of the information we have learned through out the movie and bringing it to a nice complete ending, has been lost. Now what we have is a movie that, no matter how complex, detailed, or frivolous, can be wrapped up in 5 minutes. It was all in his/her head. That explanation is the director's safety net. If all else fails, or if the writing wasn't that good, or if we ran out of money to complete the movie, we can always say \"it was all in his/her head\" and end the movie that way. The audience will buy it because, well, none of us are psychologists, and none of us are suffering from schizophrenia (not that we know about) so we take the story and believe it. After all, the mind is a powerful thing. Some movies have pulled it off. But those movies are the reason why we are getting more and more of these crap endings. Every director/writer now thinks they can pull it off because, well,\u001b[48;2;255;175;175m\u001b[38;2;255;0;0m Fight\u001b[0m\u001b[48;2;255;175;175m\u001b[38;2;255;0;0m Club\u001b[0m did it and it made a lot of money. So we get movies like\u001b[48;2;255;182;182m\u001b[38;2;233;0;0m The\u001b[0m\u001b[48;2;255;175;175m\u001b[38;2;252;0;0m Mach\u001b[0m\u001b[48;2;255;197;197m\u001b[38;2;192;0;0min\u001b[0m\u001b[48;2;255;186;186m\u001b[38;2;223;0;0mist\u001b[0m,\u001b[48;2;255;189;189m\u001b[38;2;213;0;0m Secret\u001b[0m Window,\u001b[48;2;255;180;180m\u001b[38;2;239;0;0m Identity\u001b[0m, and this movie (just to name a few).\n"
      ]
     }
    ],
    "source": [
     "highlight_feature(positives[5], sorted_indices[16], model, sae, tokenizer)\n",
     "highlight_feature(negatives[5], sorted_indices[16], model, sae, tokenizer)"
    ]
   },
   {
    "cell_type": "markdown",
    "metadata": {},
    "source": [
     "\"media\" feature?"
    ]
   },
   {
    "cell_type": "code",
    "execution_count": 186,
    "metadata": {},
    "outputs": [
     {
      "name": "stdout",
      "output_type": "stream",
      "text": [
       "If you're a fan of Turkish and Middle Eastern\u001b[48;2;255;175;175m\u001b[38;2;255;0;0m music\u001b[0m, you're in great luck. This\u001b[48;2;255;175;175m\u001b[38;2;255;0;0m film\u001b[0m is a\u001b[48;2;255;175;175m\u001b[38;2;255;0;0m documentary\u001b[0m of current\u001b[48;2;255;175;175m\u001b[38;2;255;0;0m music\u001b[0m in Istanbul, spanning the traditional to the modern. It's very good. You could not do better if you went to Istanbul yourself. We get\u001b[48;2;255;175;175m\u001b[38;2;255;0;0m interviews\u001b[0m with Orhan Gencebay, concert clips of modern\u001b[48;2;255;175;175m\u001b[38;2;255;0;0m musical\u001b[0m icons, a road show with a Romani (Gypsy) audience, Turkish Hip Hop (surprisingly very very good), and much much more. Some of the best female vocalists I've ever heard. A Kurdish woman singing in a hamam (steam bath) who will rip your heart out. Lots of social and political background. If this is your thing, you'll have a grand time. I could barely sit still in the\u001b[48;2;255;175;175m\u001b[38;2;255;0;0m theatre\u001b[0m.<br /><br />\u001b[48;2;255;175;175m\u001b[38;2;255;0;0mCD\u001b[0m soundtrack now available on amazon. Pricey.\n",
       "Teenager Tamara (Jenna Dewan) has it rough. She's ridiculed by all the popular \"kids\" for being shy,\u001b[48;2;255;190;190m\u001b[38;2;210;0;0m book\u001b[0mish, frumpy and because of her interest in witchcraft. All of the\u001b[48;2;255;175;175m\u001b[38;2;255;0;0m football\u001b[0m players and cheerleaders are especially angry at her for writing an article on steroid abuse for the school\u001b[48;2;255;175;175m\u001b[38;2;255;0;0m paper\u001b[0m. On top of this, her dad's a drunk, her mom's not around and she's secretly in love with her supportive English teacher (Matthew Marsden). The popular kids set up a cruel prank to humiliate her, accidentally kill her during a struggle, bury the body in the woods and make a pact to keep silent. To their shock, the very next day Tamara walks back into the classroom looking seductive and, uh, dressed to kill. Yep, back from the dead and ready for supernatural revenge against everyone involved. She also takes time out to make her sexually abusive pop eat a\u001b[48;2;255;175;175m\u001b[38;2;255;0;0m beer\u001b[0m\u001b[48;2;255;196;196m\u001b[38;2;193;0;0m bottle\u001b[0m and tries to seduce her English teacher away from his wife (Claudette Mink), a guidance counselor at the school\u001b[48;2;255;208;208m\u001b[38;2;159;0;0m.<\u001b[0mbr /><br />Acting and writing are strictly mediocre. You can also tell the people responsible for this have seen such\u001b[48;2;255;175;175m\u001b[38;2;255;0;0m movies\u001b[0m\u001b[48;2;255;200;200m\u001b[38;2;183;0;0m as\u001b[0m CARRIE (1\u001b[48;2;255;232;232m\u001b[38;2;93;0;0m9\u001b[0m76), HELLO MARY LOU: PROM NIGHT II (1987) and THE CRAFT (1996) because it borrows wholesale from all three of those superior\u001b[48;2;255;175;175m\u001b[38;2;255;0;0m films\u001b[0m. There's some gore (a guy cutting off his ear and tongue and then stabbing his eyeball probably being the best bit), a nasty vomiting\u001b[48;2;255;175;175m\u001b[38;2;255;0;0m scene\u001b[0m and a few campy/witty one-liners. Not an awful\u001b[48;2;255;175;175m\u001b[38;2;255;0;0m film\u001b[0m by any means, but not much originality went into it either.\n"
      ]
     }
    ],
    "source": [
     "highlight_feature(positives[6], sorted_indices[20], model, sae, tokenizer)\n",
     "highlight_feature(negatives[6], sorted_indices[20], model, sae, tokenizer)"
    ]
   },
   {
    "cell_type": "markdown",
    "metadata": {},
    "source": [
     "\"<'br' /><'br' />\" feature, for some reason it was not filtered out of the dataset"
    ]
   },
   {
    "cell_type": "code",
    "execution_count": 187,
    "metadata": {},
    "outputs": [
     {
      "name": "stdout",
      "output_type": "stream",
      "text": [
       "Dirty Harry goes to Atlanta is what Burt called this fantastic, first-rate detective thriller that borrows some of its plot from the venerable Dana Andrews movie \"Laura.\" Not only does Burt Reynolds star in this superb saga but he also helmed it and he doesn't make a single mistake either staging the action or with his casting of characters. Not a bad performance in the movie and Reynolds does an outstanding job of directing it. Henry Silva is truly icy as a hit-man\u001b[48;2;255;175;175m\u001b[38;2;255;0;0m.<\u001b[0m\u001b[48;2;255;175;175m\u001b[38;2;255;0;0mbr\u001b[0m\u001b[48;2;255;175;175m\u001b[38;2;255;0;0m /><\u001b[0m\u001b[48;2;255;186;186m\u001b[38;2;221;0;0mbr\u001b[0m />Detective Tom Sharky (Burt Reynolds) is on a narcotics case in underground Atlanta when everything goes wrong. He winds up chasing a suspect and shooting it out with the gunman on a bus. During the melee, an innocent bystander dies. John Woo's \"The Killer\" replicates this scene. Anyway, the Atlanta Police Department busts Burt down to Vice and he takes orders from a new boss, Frisco (Charles Durning of \"Oh, Brother, Where Art Thou?\") in the basement. Sharky winds up in a real cesspool of crime. Sharky and his fellow detectives Arch (Bernie Casey) and Papa (Brian Keith) set up surveillance on a high-priced call girl Dominoe (Rachel Ward of \"After Dark, My Sweet\")who has a luxurious apartment that she shares with another girl\u001b[48;2;255;175;175m\u001b[38;2;255;0;0m.<\u001b[0m\u001b[48;2;255;175;175m\u001b[38;2;255;0;0mbr\u001b[0m\u001b[48;2;255;175;175m\u001b[38;2;255;0;0m /><\u001b[0m\u001b[48;2;255;190;190m\u001b[38;2;212;0;0mbr\u001b[0m />Dominoe is seeing a local politician Hotchkins (Earl Holliman of \"Police Woman\") on the side who is campaigning for governor but the chief villain, Victor (Vittorio Gassman of \"The Dirty Game\") wants him to end the affair. Hotchkins is reluctant to accommodate Victor, so Victor has cocaine snorting Billy Score (Henry Silva of \"Wipeout\")terminate Dominoe. Billy blasts a hole the size of a twelve inch pizza in the door of Dominoe's apartment and kills her\u001b[48;2;255;175;175m\u001b[38;2;254;0;0m.<\u001b[0m\u001b[48;2;255;184;184m\u001b[38;2;228;0;0mbr\u001b[0m\u001b[48;2;255;175;175m\u001b[38;2;255;0;0m /><\u001b[0m\u001b[48;2;255;199;199m\u001b[38;2;185;0;0mbr\u001b[0m />Sharky has done the unthinkable. During the surveillance, he has grown fond of Dominoe to the point that he becomes hopelessly infatuated with her. Sharky's mission in life now is to bust Victor, but he learns that Victor has an informant inside the Atlanta Police Department. The plot really heats up when Sharky discovers later that Billy shot the wrong girl and that Dominoe is still alive! Sharky takes her into protective custody and things grow even more complicated. He assembles his \"Machine\" of the title to deal with Victor and his hoods\u001b[48;2;255;175;175m\u001b[38;2;255;0;0m.<\u001b[0m\u001b[48;2;255;187;187m\u001b[38;2;218;0;0mbr\u001b[0m\u001b[48;2;255;175;175m\u001b[38;2;255;0;0m /><\u001b[0m\u001b[48;2;255;202;202m\u001b[38;2;177;0;0mbr\u001b[0m />William Fraker's widescreen lensing of the action is immaculate. Unfortunately, this vastly underrated classic is available only as a full-frame film. Fraker definitely contributes to the atmosphere of the picture, especially during the mutilation scene on the boat when the villain's cut off one of Sharky's fingers. This is a rather gruesome scene\u001b[48;2;255;175;175m\u001b[38;2;255;0;0m.<\u001b[0m\u001b[48;2;255;187;187m\u001b[38;2;219;0;0mbr\u001b[0m\u001b[48;2;255;175;175m\u001b[38;2;255;0;0m /><\u001b[0m\u001b[48;2;255;204;204m\u001b[38;2;173;0;0mbr\u001b[0m />Burt never made a movie that surpassed \"Sharky's Machine.\"\n",
       "The story is: a turn-of-the-century troupe of actors, along with producers and theatre-owners, have very complicated relationships. A resident playwright has written a psychological drama. He wants to get a good production on stage, but can't unless he convinces a pariticular reviewer to revisit the production, and give a positive review. If his production does not go on, then the troupe will put on The Doll House, recently written by Ibsen. Many different relationships among the principals are explored; none of them interesting. But the involvement of the characters with one another lead to giving the play by the resident playwrght a second shot\u001b[48;2;255;175;175m\u001b[38;2;255;0;0m.<\u001b[0m\u001b[48;2;255;175;175m\u001b[38;2;255;0;0mbr\u001b[0m\u001b[48;2;255;175;175m\u001b[38;2;255;0;0m /><\u001b[0m\u001b[48;2;255;183;183m\u001b[38;2;230;0;0mbr\u001b[0m />This movie is purely an excuse for the director and his friends to get together and put on a movie. The story lines are incoherent to anyone who isn't a buddy of one of the stars. The only reason I didn't leave the theatre after about a half hour is that a fat lady was resting a full meal atop her stomach at the end of my row.\n"
      ]
     }
    ],
    "source": [
     "highlight_feature(positives[7], sorted_indices[22], model, sae, tokenizer)\n",
     "highlight_feature(negatives[7], sorted_indices[22], model, sae, tokenizer)"
    ]
   },
   {
    "cell_type": "markdown",
    "metadata": {},
    "source": [
     "\"counts of something\" feature"
    ]
   },
   {
    "cell_type": "code",
    "execution_count": 188,
    "metadata": {},
    "outputs": [
     {
      "name": "stdout",
      "output_type": "stream",
      "text": [
       "I'm \u001b[48;2;255;197;197m\u001b[38;2;191;0;0m1\u001b[0m5, usually not kids my age usually watch these old classic movies. But this is\u001b[48;2;255;175;175m\u001b[38;2;255;0;0m one\u001b[0m of my favorites. I was totally addicted after watching it for the first time. It's really good if u think about technology and movies back at that time, music is great, storyline is OK,choreography is great, must see it. I don't know why there's a prequel for this movie. Not\u001b[48;2;255;175;175m\u001b[38;2;255;0;0m many\u001b[0m people like this movie, but i love classic love movies, they're so much better than movies now! This movie will make you smile, cry and make you start dancing. The music is absolutely ear catching and beautiful. I haven't seen Dirty Dancing 2 Harvana Nights(prequel), prequel should have star the original actors, thats what i hate about prequels, they ruin the original.\u001b[48;2;255;215;215m\u001b[38;2;139;0;0m No\u001b[0m\u001b[48;2;255;187;187m\u001b[38;2;220;0;0m one\u001b[0m wants a prequel, they want a sequel.\u001b[48;2;255;175;175m\u001b[38;2;255;0;0m Many\u001b[0m people will agree that for a movie- the original, sequel and the \u001b[48;2;255;200;200m\u001b[38;2;182;0;0m3\u001b[0mrd\u001b[48;2;255;210;210m\u001b[38;2;156;0;0m one\u001b[0m is enough. Beyond that, people wont be bothered to watch it. Who remembers the movie about the St Benard Beethoven? I think there's \u001b[48;2;255;189;189m\u001b[38;2;213;0;0m5\u001b[0m movies altogether.\n",
       "A holiday on a boat, a married couple, an angry waiter and a shipwreck is the reason to this films beginning.<br /><br />I like boobs. No question about that. But when the main character allies with whoever happens to have the\u001b[48;2;255;193;193m\u001b[38;2;201;0;0m most\u001b[0m fish at the moment, mostly by having sex with them and playing the role of the constant victim, my anger just rises to a whole new level. Take\u001b[48;2;255;175;175m\u001b[38;2;255;0;0m two\u001b[0m guys (a husband and\u001b[48;2;255;181;181m\u001b[38;2;235;0;0m another\u001b[0m man), put a pure bombshell woman in the middle of them, ad a deserted island, subtract\u001b[48;2;255;206;206m\u001b[38;2;165;0;0m all\u001b[0m her moral issues, ad a\u001b[48;2;255;202;202m\u001b[38;2;177;0;0m whole\u001b[0m\u001b[48;2;255;205;205m\u001b[38;2;168;0;0m bunch\u001b[0m\u001b[48;2;255;209;209m\u001b[38;2;159;0;0m of\u001b[0m moral issues to the men and mix it in a big bowl of arguments, fish and a zippo lighter and you will come up with a\u001b[48;2;255;222;222m\u001b[38;2;120;0;0m piece\u001b[0m of junk movie like this. <br /><br />The acting is, I would say, good. There are\u001b[48;2;255;175;175m\u001b[38;2;255;0;0m some\u001b[0m bloopers but not\u001b[48;2;255;175;175m\u001b[38;2;255;0;0m many\u001b[0m as far as i could see. The\u001b[48;2;255;217;217m\u001b[38;2;136;0;0m main\u001b[0m female character makes me sick. This is due to her lack of moral values. The man with the\u001b[48;2;255;201;201m\u001b[38;2;181;0;0m most\u001b[0m fish get's her attention. Even though\u001b[48;2;255;175;175m\u001b[38;2;255;0;0m one\u001b[0m\u001b[48;2;255;180;180m\u001b[38;2;238;0;0m of\u001b[0m them is her husband, she sees\u001b[48;2;255;208;208m\u001b[38;2;162;0;0m no\u001b[0m problem with being unfaithful with (Manuel) the\u001b[48;2;255;175;175m\u001b[38;2;255;0;0m other\u001b[0m man because \"I must do it to survive\". How can you justify having sex with\u001b[48;2;255;186;186m\u001b[38;2;222;0;0m another\u001b[0m man for fish when your husband is 30feet away? And he won't even benefit from it? The female character has absolutely\u001b[48;2;255;204;204m\u001b[38;2;172;0;0m no\u001b[0m problems to justify anything that she does. If she doesen't get approval for her actions, she's a victim.<br /><br />I recommend everyone to see this movie. This is the kind of movie that will make just about everything else you see this year a pleasant movie experience.\n"
      ]
     }
    ],
    "source": [
     "highlight_feature(positives[8], sorted_indices[24], model, sae, tokenizer)\n",
     "highlight_feature(negatives[8], sorted_indices[24], model, sae, tokenizer)"
    ]
   },
   {
    "cell_type": "markdown",
    "metadata": {},
    "source": [
     "\"description of quality\" feature"
    ]
   },
   {
    "cell_type": "code",
    "execution_count": 189,
    "metadata": {},
    "outputs": [
     {
      "name": "stdout",
      "output_type": "stream",
      "text": [
       "Definitely a movie for people who ask only to be entertained and who do not over-think their movies. <br /><br />Lots of action, lots of\u001b[48;2;255;175;175m\u001b[38;2;255;0;0m great\u001b[0m dialogue (e.g. fun to quote), a little intrigue, and stuff blowing up all over the place. Samuel L Jackson and Geena Davis had\u001b[48;2;255;175;175m\u001b[38;2;255;0;0m great\u001b[0m chemistry. Violent, but not gory. The fact that the female part was the\u001b[48;2;255;175;175m\u001b[38;2;255;0;0m competent\u001b[0m action lead is a\u001b[48;2;255;178;178m\u001b[38;2;246;0;0m pleasant\u001b[0m turn-about.<br /><br />Have seen the movie more than a dozen times and still enjoy it enough to put it back in my favorite films rotation every 3 or 4 months. I initially rented the movie because Samuel L Jackson was in the film, but was caught up in the events surrounding Samantha's quest to regain her memory and have never looked back.<br /><br />All you cerebral folks out there -- suspend disbelief for once, take yourself a little less seriously -- you might actually enjoy yourselves!\n",
       "I was expecting a lot more of this film than what I actually got. The acting was just\u001b[48;2;255;175;175m\u001b[38;2;255;0;0m awful\u001b[0m from everyone and the story was far from impressive. It took a lot of something I don't to even follow what was going because it was so jumpy. An example of the acting is when Paxton's character, Vann, is upset the South Vietnamese colonel for so he throws some of the sand from the \"sand map\". It was impossible to get any idea of what he was feeling and his actions were robotic. To make things worse, I have no idea how I'm supposed to feel about Vann. He's obviously presented as the protagonist but as soon as he gets to Vietnam he starts an affair with an Vietnamese English teacher. The only thing the movie had going for it was that it wasn't particularly boring. I give it 4 stars out of 10.\n"
      ]
     }
    ],
    "source": [
     "highlight_feature(positives[9], sorted_indices[28], model, sae, tokenizer)\n",
     "highlight_feature(negatives[9], sorted_indices[28], model, sae, tokenizer)"
    ]
   },
   {
    "cell_type": "markdown",
    "metadata": {},
    "source": [
     "a \"a\" feature"
    ]
   },
   {
    "cell_type": "code",
    "execution_count": 190,
    "metadata": {},
    "outputs": [
     {
      "name": "stdout",
      "output_type": "stream",
      "text": [
       "If Hollywood had the wellbeing of the audience at heart we would see 20 films\u001b[48;2;255;175;175m\u001b[38;2;255;0;0m a\u001b[0m year with the kind of wholesome fortitude that is behind this film. There are several experiences of personal growth in this movie and while the characters ARE still very human even the lessons learned are not that greed will profit you, or do-unto-others-whatever-you-want-as-long-as-you-are-okay-with-it, no, this is what our sad, desensitized lives need, more sense... more love... more do-unto-others-as-you-would-have-done-unto-you... more HOPE. (thanks Ursula!) This movie has\u001b[48;2;255;175;175m\u001b[38;2;255;0;0m an\u001b[0m intelligent wit, not \"yo' mama\" cracks that run rampant in the so-called comedies. People need to feel good. This movie will make you feel good and possibly inspire you to better your life, and the lives of others. sidenote Every person counts in ticket sales. This is\u001b[48;2;255;175;175m\u001b[38;2;255;0;0m a\u001b[0m truly independent film. If you want more quality films you have to support them.\n",
       "Coming from Kiarostami, this art-house visual and sound exposition is\u001b[48;2;255;175;175m\u001b[38;2;255;0;0m a\u001b[0m surprise. For\u001b[48;2;255;175;175m\u001b[38;2;255;0;0m a\u001b[0m director known for his narratives and keen observation of humans, especially children, this excursion into minimalist cinematography begs for questions: Why did he do it? Was it to keep him busy during\u001b[48;2;255;175;175m\u001b[38;2;255;0;0m a\u001b[0m vacation at the shore? <br /><br />\"Five, 5 Long Takes\" consists of, you guessed it, five long takes. They are (the title names are my own and the times approximate): <br /><br />\"Driftwood and waves\". The camera stands nearly still looking at\u001b[48;2;255;175;175m\u001b[38;2;255;0;0m a\u001b[0m small piece of driftwood as it gets moved around by small waves splashing on\u001b[48;2;255;175;175m\u001b[38;2;255;0;0m a\u001b[0m beach. Ten minutes.<br /><br />\"Watching people on the boardwalk\". The camera stands still looking at the ocean horizon and\u001b[48;2;255;175;175m\u001b[38;2;255;0;0m a\u001b[0m boardwalk. People walk across the camera frame, their faces too far and blurry to make them interesting. Eleven minutes.<br /><br />\"Six dogs at the water's edge\". The camera stands still looking at the ocean horizon with\u001b[48;2;255;175;175m\u001b[38;2;255;0;0m a\u001b[0m sandy stretch of beach nearby. Far away at the water's edge, six dogs not doing much, just relaxing. Sixteen minutes.<br /><br />\"Ducks in line, gaggle of ducks\". The camera stands still looking at the ocean horizon near the water's edge. Dozen and dozen of ducks stream in single file from left to right. I assume that Kiarostami released them gradually. The last two ducks stop dead on their track and suddenly\u001b[48;2;255;175;175m\u001b[38;2;255;0;0m a\u001b[0m gaggle of ducks rolls quietly from right to left. I assume Kiarostami collected the ducks and re-released all at the same time. It is not the first time that he deals with the contrast between organized and disorganized behavior. Eight minutes.<br /><br />\"Frog symphony, oops, I mean cacophony, for\u001b[48;2;255;175;175m\u001b[38;2;255;0;0m a\u001b[0m stormy night\". The camera stands over\u001b[48;2;255;175;175m\u001b[38;2;255;0;0m a\u001b[0m pond at night. It's pitch black except for what appears to be the reflection of the moon on the undulating water. It is\u001b[48;2;255;175;175m\u001b[38;2;255;0;0m a\u001b[0m stormy night and clouds race to cover the moon. The screen goes dark. What remains for us is the cacophony of frogs, howling dogs and, eventually, morning roosters. Hit me on the head if this was done in\u001b[48;2;255;175;175m\u001b[38;2;255;0;0m a\u001b[0m single take. I saw this segment as\u001b[48;2;255;175;175m\u001b[38;2;255;0;0m a\u001b[0m sound composition put together in the editing room and accompanied by\u001b[48;2;255;175;175m\u001b[38;2;255;0;0m a\u001b[0m simple visualization. Twenty seven minutes! <br /><br />Except for the mildly amusing ducks, this exercise in minimalism left me cold.\u001b[48;2;255;175;175m\u001b[38;2;255;0;0m A\u001b[0m nonessential film for Kiarostami admirers.<br /><br />I thought I would rate \"Five\"\u001b[48;2;255;175;175m\u001b[38;2;255;0;0m a\u001b[0m five, but four is what it deserves.<br /><br />The film is dedicated to Yasujiru Ozu.\n"
      ]
     }
    ],
    "source": [
     "highlight_feature(positives[10], sorted_indices[30], model, sae, tokenizer)\n",
     "highlight_feature(negatives[10], sorted_indices[30], model, sae, tokenizer)\n"
    ]
   },
   {
    "cell_type": "markdown",
    "metadata": {},
    "source": [
     "This is the \"this/these/that/those\" feature"
    ]
   },
   {
    "cell_type": "code",
    "execution_count": 191,
    "metadata": {},
    "outputs": [
     {
      "name": "stdout",
      "output_type": "stream",
      "text": [
       "I was so happy to learn that Hari Om will finally be theatrically released in 2007. I saw\u001b[48;2;255;175;175m\u001b[38;2;255;0;0m this\u001b[0m film three years ago at the Vancouver International film Festival and have been waiting for it's release ever since so I could send everyone I know to see it. It's like taking a trip to India....colorful, magical, thought provoking. Aside from one rather strange Hollywood style auto rickshaw chase scene\u001b[48;2;255;175;175m\u001b[38;2;255;0;0m this\u001b[0m movie is very realistic.\u001b[48;2;255;175;175m\u001b[38;2;255;0;0m This\u001b[0m is not a Bollywood style song and dance movie but it does have drama and romance and humor. The interactions between the Indian taxi driver and the french tourist are a good reflection on the fundamental differences between Eastern and Western life styles and philosophy. The characters are a little broadly drawn but the acting was very good. Visually\u001b[48;2;255;175;175m\u001b[38;2;255;0;0m this\u001b[0m movie is a treat as you really do get a sense of what driving through Rajasthan is like...dreamlike. Sometimes it's hard to believe everything you are seeing and experiencing is real...the movie has that same quality. Great soundtrack too!\n",
       "In the early 00's, production companies had a short-lived craze for supernatural genre movies in France after \"The Crimson Rivers\" and \"Brotherhood of the Wolf\" turned out to be hits, so several movies were green-lit or saved from their \"direct-to-video\" fate. However, France, as opposed to the US, UK or Italy, has little tradition of fantasy B-movies and it turned out quickly that \"Samouraïs\", \"Bloody Mallory\" or the \"Crimson Rivers\" sequel were ill-advised attempts at recreating a kind of magic that had never existed in French cinema in the first place. As they flopped, producers have gone back to their usual fare: derivative farces or the umpteenth self-referential tribute to French New Wave by a former critic from \"Les Cahiers du cinéma\".<br /><br />\"Brocéliande\" could only have been green-lit during\u001b[48;2;255;175;175m\u001b[38;2;255;0;0m this\u001b[0m short window, as it serves no other discernible purpose. It's your by-the-book slasher movie mixed with vague mythological element and horror references and you'll find bimboesque female characters, a French University looking like a US campus and plot twists so lazy you don't even care because you had guessed it by yourself an hour before, even before the movie started.<br /><br />\u001b[48;2;255;180;180m\u001b[38;2;238;0;0mThese\u001b[0m elements make all the fun of a 70's or a 80's B-movie and you expect them in a 70's or 80's movie. However, we're not in the 80's anymore and nobody warned director Doug Headline, as\u001b[48;2;255;175;175m\u001b[38;2;255;0;0m this\u001b[0m tribute to the slasher movie genre is nothing more than a derivative slasher movie. Headline himself is no rookie and has been writing as a critic about\u001b[48;2;255;175;175m\u001b[38;2;255;0;0m this\u001b[0m\u001b[48;2;255;246;246m\u001b[38;2;54;0;0m kind\u001b[0m of pictures since the early 80's but as a first time director he shows a lack of skill and ambition that makes \"Brocéliande\" a bore.<br /><br />When you put together clichés from a movie subcategory and hand them to a skilled and inventive director such as Wes Craven or Quentin Tarantino, you get a \"Scream\" or a \"Death Proof\", movies that are imitations from old guilty pleasures but also magnify\u001b[48;2;255;206;206m\u001b[38;2;166;0;0m these\u001b[0m clichés and add a great deal to them.\u001b[48;2;255;189;189m\u001b[38;2;213;0;0m That\u001b[0m's called \"talent\" and\u001b[48;2;255;209;209m\u001b[38;2;158;0;0m that\u001b[0m's why you can't confuse\u001b[48;2;255;179;179m\u001b[38;2;241;0;0m these\u001b[0m recent movies with their original inspirations shot decades ago.<br /><br />\"Brocéliande\" takes the lazy path and only reproduces the worst elements from past movies (unfortunately for the male viewer, the gratuitous nudity is mostly missing). There are very strong similarities (presumably unintentional) between the plot of \"Brocéliande\" and the reviled \"Halloween 3: Season Of The Witch\", as both deal with supernatural Druidic evil rituals and some silly attempt at taking over the world on Halloween night. As even the plot of \"Halloween 3\" makes more sense than\u001b[48;2;255;175;175m\u001b[38;2;255;0;0m this\u001b[0m one, it means that something seriously wrong went with \"Brocéliande\".\n"
      ]
     }
    ],
    "source": [
     "highlight_feature(positives[11], sorted_indices[40], model, sae, tokenizer)\n",
     "highlight_feature(negatives[11], sorted_indices[40], model, sae, tokenizer)"
    ]
   }
  ],
  "metadata": {
   "kernelspec": {
    "display_name": ".venv",
    "language": "python",
    "name": "python3"
   },
   "language_info": {
    "codemirror_mode": {
     "name": "ipython",
     "version": 3
    },
    "file_extension": ".py",
    "mimetype": "text/x-python",
    "name": "python",
    "nbconvert_exporter": "python",
    "pygments_lexer": "ipython3",
    "version": "3.12.6"
   }
  },
  "nbformat": 4,
  "nbformat_minor": 2
 }
 