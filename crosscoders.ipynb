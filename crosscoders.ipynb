{
 "cells": [
  {
   "cell_type": "markdown",
   "metadata": {},
   "source": [
    "# Crosscoders\n",
    "Attempting to recreate the SAE model Anthropic wrote about recently.\n",
    "\n",
    "Its a SAE which is layer and model agnostic.\n",
    "\n",
    "I'm not sure about the model agnostic part, but I have an idea about layer the layer agnostic part."
   ]
  },
  {
   "cell_type": "code",
   "execution_count": 1,
   "metadata": {},
   "outputs": [],
   "source": [
    "import torch\n",
    "import torch.nn as nn\n",
    "import torch.nn.functional as F\n",
    "from torch.optim import Adam\n",
    "from torch.utils.data import DataLoader\n",
    "\n",
    "from transformers import AutoTokenizer, AutoModelForCausalLM\n",
    "\n",
    "from datasets import load_dataset"
   ]
  },
  {
   "cell_type": "code",
   "execution_count": 2,
   "metadata": {},
   "outputs": [
    {
     "name": "stderr",
     "output_type": "stream",
     "text": [
      "/Users/bjarnihaukurbjarnason/Documents/Projects/minimal-ml/.venv/lib/python3.12/site-packages/transformers/pytorch_utils.py:333: UserWarning: To copy construct from a tensor, it is recommended to use sourceTensor.clone().detach() or sourceTensor.clone().detach().requires_grad_(True), rather than torch.tensor(sourceTensor).\n",
      "  test_elements = torch.tensor(test_elements)\n",
      "The attention mask is not set and cannot be inferred from input because pad token is same as eos token. As a consequence, you may observe unexpected behavior. Please pass your input's `attention_mask` to obtain reliable results.\n"
     ]
    },
    {
     "name": "stdout",
     "output_type": "stream",
     "text": [
      "print(\"Hello World\")\n",
      "print(\"Hello World\")\n",
      "print(\"Hello World\")\n",
      "print(\"Hello World\")\n",
      "print(\"Hello\n"
     ]
    }
   ],
   "source": [
    "DEVICE = \"mps\"\n",
    "\n",
    "tokenizer = AutoTokenizer.from_pretrained(\"Qwen/Qwen2.5-Coder-0.5B\")\n",
    "model = AutoModelForCausalLM.from_pretrained(\"Qwen/Qwen2.5-Coder-0.5B\").to(DEVICE)\n",
    "model.eval()\n",
    "\n",
    "tokens = tokenizer.encode(\"print(\\\"Hello\", return_tensors=\"pt\").to(DEVICE)\n",
    "generation = model.generate(tokens, max_new_tokens=20, pad_token_id=tokenizer.eos_token_id)\n",
    "print(tokenizer.decode(generation[0], skip_special_tokens=True))"
   ]
  },
  {
   "cell_type": "markdown",
   "metadata": {},
   "source": [
    "We can very simply get the hidden states by setting output_hidden_states=True flag."
   ]
  },
  {
   "cell_type": "code",
   "execution_count": 3,
   "metadata": {},
   "outputs": [
    {
     "data": {
      "text/plain": [
       "(25, torch.Size([1, 3, 896]))"
      ]
     },
     "execution_count": 3,
     "metadata": {},
     "output_type": "execute_result"
    }
   ],
   "source": [
    "out = model(tokens, output_hidden_states=True)\n",
    "\n",
    "# train SAE on these\n",
    "len(out.hidden_states), out.hidden_states[0].shape\n"
   ]
  },
  {
   "cell_type": "markdown",
   "metadata": {},
   "source": [
    "and we can register hooks to modify the activations as we please."
   ]
  },
  {
   "cell_type": "code",
   "execution_count": 4,
   "metadata": {},
   "outputs": [
    {
     "name": "stdout",
     "output_type": "stream",
     "text": [
      "print(\"Hello-o-- andIt it))))))))))))))\n",
      "print(\"Hello World\")\n",
      "print(\"Hello World\")\n",
      "print(\"Hello World\")\n",
      "print(\"Hello World\")\n",
      "print(\"Hello\n"
     ]
    }
   ],
   "source": [
    "layer = model.model.layers[0].mlp.up_proj\n",
    "\n",
    "hook = layer.register_forward_hook(lambda module, input, output: output * 0)\n",
    "\n",
    "generation = model.generate(tokens, max_new_tokens=20, pad_token_id=tokenizer.eos_token_id)\n",
    "print(tokenizer.decode(generation[0], skip_special_tokens=True))\n",
    "\n",
    "hook.remove()\n",
    "\n",
    "generation = model.generate(tokens, max_new_tokens=20, pad_token_id=tokenizer.eos_token_id)\n",
    "print(tokenizer.decode(generation[0], skip_special_tokens=True))"
   ]
  },
  {
   "cell_type": "code",
   "execution_count": 5,
   "metadata": {},
   "outputs": [],
   "source": [
    "N_LAYERS = model.config.num_hidden_layers\n",
    "HIDDEN_SIZE = model.config.hidden_size"
   ]
  },
  {
   "cell_type": "code",
   "execution_count": 6,
   "metadata": {},
   "outputs": [
    {
     "name": "stderr",
     "output_type": "stream",
     "text": [
      "huggingface/tokenizers: The current process just got forked, after parallelism has already been used. Disabling parallelism to avoid deadlocks...\n",
      "To disable this warning, you can either:\n",
      "\t- Avoid using `tokenizers` before the fork if possible\n",
      "\t- Explicitly set the environment variable TOKENIZERS_PARALLELISM=(true | false)\n"
     ]
    },
    {
     "data": {
      "text/plain": [
       "(95000, 5000)"
      ]
     },
     "execution_count": 6,
     "metadata": {},
     "output_type": "execute_result"
    }
   ],
   "source": [
    "# these models are specifically trained on specific chat formats\n",
    "# the (system, user, assistant) format is just a fancy string in the end\n",
    "def format_to_chat(example):\n",
    "    messages = [\n",
    "        {\"role\": \"system\", \"content\": \"You are Qwen, a helpful coding assistant.\"},\n",
    "        {\"role\": \"user\", \"content\": example['prompt']},\n",
    "        {\"role\": \"assistant\", \"content\": example['response']}\n",
    "    ]\n",
    "    \n",
    "    chat_format = tokenizer.apply_chat_template(messages, tokenize=True)\n",
    "    return {\"chat_ids\": chat_format}\n",
    "\n",
    "\n",
    "train_ds = load_dataset(\"nampdn-ai/tiny-codes\", split=\"train\").shuffle(seed=42)\n",
    "# smaller for testing\n",
    "train_ds = train_ds.select(range(100000))\n",
    "train_ds = train_ds.map(format_to_chat, num_proc=8)\n",
    "\n",
    "val_ds = train_ds.take(len(train_ds) // 20)\n",
    "train_ds = train_ds.skip(len(train_ds) // 20)\n",
    "\n",
    "\n",
    "len(train_ds), len(val_ds)"
   ]
  },
  {
   "cell_type": "code",
   "execution_count": 7,
   "metadata": {},
   "outputs": [
    {
     "data": {
      "text/plain": [
       "torch.Size([411, 896])"
      ]
     },
     "execution_count": 7,
     "metadata": {},
     "output_type": "execute_result"
    }
   ],
   "source": [
    "x = torch.tensor(train_ds[0][\"chat_ids\"])[None].to(DEVICE) # add batch dimension\n",
    "attn = torch.tril(torch.ones(1, x.shape[1], x.shape[1])).bool().to(DEVICE)\n",
    "\n",
    "out = model(x, attention_mask=attn, output_hidden_states=True)\n",
    "\n",
    "out.hidden_states[0].reshape(-1, HIDDEN_SIZE).shape\n"
   ]
  },
  {
   "cell_type": "markdown",
   "metadata": {},
   "source": [
    "To inform the SAE of which layer it is being applied to, we encode the layer position into the activations via a sinusoidal positional encoding."
   ]
  },
  {
   "cell_type": "code",
   "execution_count": 8,
   "metadata": {},
   "outputs": [],
   "source": [
    "import math\n",
    "\n",
    "class SinusoidalPositionalEncoding(nn.Module):\n",
    "    def __init__(self, hidden_size, max_len):\n",
    "        super().__init__()\n",
    "        self.hidden_size = hidden_size\n",
    "        self.max_len = max_len\n",
    "        \n",
    "        position = torch.arange(max_len).unsqueeze(1)\n",
    "        div_term = torch.exp(torch.arange(0, hidden_size, 2) * (-math.log(10000.0) / hidden_size))\n",
    "        \n",
    "        pe = torch.zeros(max_len, hidden_size)\n",
    "        pe[:, 0::2] = torch.sin(position * div_term)\n",
    "        pe[:, 1::2] = torch.cos(position * div_term)\n",
    "        \n",
    "        self.register_buffer('pe', pe)\n",
    "\n",
    "    def forward(self, x, pos):\n",
    "        return x + self.pe[pos]"
   ]
  },
  {
   "cell_type": "markdown",
   "metadata": {},
   "source": [
    "The sparse autoencoder itself is quite simple. It's a traditional autoencoder, but with a twist: instead of 'compressing' the input through a bottleneck, it's overcomplete - meaning it has a larger hidden size than the input size.\n",
    "\n",
    "There are different ways of achieving sparsity in these activations. One popular formulation uses a top_k activation function to ensure only the k most important features remain active, while others methods directly optimize for sparsity through various loss terms.\n",
    "\n",
    "The model is trained to reconstruct its input from these sparse activations using reconstruction loss. We can also evaluate its effectiveness by measuring \"recovered\" loss - essentially comparing the next-token prediction accuracy (via negative log-likelihood) both before and after applying the SAE intervention. This helps us understand how well the SAE preserves the important information from the original representations."
   ]
  },
  {
   "cell_type": "code",
   "execution_count": 9,
   "metadata": {},
   "outputs": [
    {
     "data": {
      "text/plain": [
       "torch.Size([411, 896])"
      ]
     },
     "execution_count": 9,
     "metadata": {},
     "output_type": "execute_result"
    }
   ],
   "source": [
    "class TopKSAE(nn.Module):\n",
    "    def __init__(self, input_size, hidden_size, n_layers, top_k=5):\n",
    "        super().__init__()\n",
    "        self.input_size, self.hidden_size, self.n_layers, self.top_k = input_size, hidden_size, n_layers, top_k\n",
    "        \n",
    "        self.pos_enc = SinusoidalPositionalEncoding(input_size, max_len=n_layers)\n",
    "        self.encoder = nn.Linear(input_size, hidden_size)\n",
    "        self.decoder = nn.Linear(hidden_size, input_size)\n",
    "        \n",
    "    def encode(self, x, pos):\n",
    "        x = self.pos_enc(x, pos)\n",
    "        x = self.encoder(x)\n",
    "        top_k = torch.topk(x, k=self.top_k)\n",
    "        return top_k.indices, top_k.values\n",
    "    \n",
    "    def decode(self, indices, values):\n",
    "        sparse = torch.zeros(indices.shape[0], self.hidden_size).to(indices.device)\n",
    "        sparse.scatter_(1, indices, values)\n",
    "        return self.decoder(sparse)\n",
    "\n",
    "    def forward(self, x, pos):\n",
    "        indices, values = self.encode(x, pos)\n",
    "        return self.decode(indices, values)\n",
    "    \n",
    "\n",
    "sae = TopKSAE(HIDDEN_SIZE, HIDDEN_SIZE * 2, N_LAYERS).to(DEVICE)\n",
    "activations = out.hidden_states[0].reshape(-1, HIDDEN_SIZE)\n",
    "positions = torch.tensor([0] * len(activations))\n",
    "sae(activations, positions).shape"
   ]
  },
  {
   "cell_type": "markdown",
   "metadata": {},
   "source": [
    "I am borrowing an idea from diffusion models and will encode at which layer in the transformer model, the SAE is being applied to (in diffusion it would be the level of noise being on the image that it needs to denoise).\n",
    "\n",
    "Here I implement a sinusoidal positional encoding for the layers. One could also use learnable embeddings, but I fear that would \"divide\" the expressiveness of the SAE between these embeddings and the SAE itself. Using static Sinusoidal PE sounds like a better option."
   ]
  },
  {
   "cell_type": "markdown",
   "metadata": {},
   "source": [
    "Now to train\n",
    "\n",
    "Firstly, I dislike the habit people have of doing an entire training epoch before validating (especially since datasets can be huge). So I more often than not do the following"
   ]
  },
  {
   "cell_type": "code",
   "execution_count": 10,
   "metadata": {},
   "outputs": [],
   "source": [
    "EPOCHS = 2\n",
    "BATCH_SIZE = 16\n",
    "MAX_SEQ_LEN = 64\n",
    "\n",
    "\n",
    "def cycle(dl):\n",
    "    while True: yield from dl\n",
    "\n",
    "def collate_fn(batch):\n",
    "    input_ids = [torch.tensor(item[\"chat_ids\"][:MAX_SEQ_LEN]) for item in batch]\n",
    "    input_ids = nn.utils.rnn.pad_sequence(input_ids, batch_first=True)\n",
    "    B, L = input_ids.shape\n",
    "    \n",
    "    return {\n",
    "        \"input_ids\": input_ids,\n",
    "        \"attention_mask\": torch.tril(torch.ones(B, 1, L, L)).bool()\n",
    "    }\n",
    "\n",
    "train_loader = DataLoader(train_ds, batch_size=BATCH_SIZE, collate_fn=collate_fn)\n",
    "val_loader = DataLoader(val_ds, batch_size=BATCH_SIZE, collate_fn=collate_fn)\n",
    "\n",
    "\n",
    "N_STEPS_PER_TRAIN_EPOCH = len(train_loader)\n",
    "N_STEPS_PER_VAL_EPOCH = len(val_loader)\n",
    "\n",
    "# per epoch\n",
    "INTERLEAVE = 100\n",
    "INTERLEAVE_EVERY = N_STEPS_PER_TRAIN_EPOCH // INTERLEAVE\n",
    "N_VALIDATION_STEPS = N_STEPS_PER_VAL_EPOCH // INTERLEAVE\n",
    "\n",
    "SAVE_EVERY = 1000\n",
    "\n",
    "\n",
    "train_iter = cycle(train_loader)\n",
    "val_iter = cycle(val_loader)"
   ]
  },
  {
   "cell_type": "markdown",
   "metadata": {},
   "source": [
    "Secondly, it feels almost wasteful to only use one random layer per item.\n",
    "\n",
    "But perhaps using multiple layers per position would actually hurt training.\n",
    "\n",
    "Adjacent layers process the same token through successive transformations (and has skip connections), which creates highly correlated features. This correlation is perhaps stronger than the relationship between different positions in the sequence. Using multiple layers per position would likely reduce our batch diversity, as we'd be training on variations of the same underlying features rather than truly independent samples."
   ]
  },
  {
   "cell_type": "code",
   "execution_count": 12,
   "metadata": {},
   "outputs": [
    {
     "name": "stderr",
     "output_type": "stream",
     "text": [
      "Training:   0%|          | 0/11876 [00:00<?, ?it/s, Train Loss=10.4898, Val Loss=inf]\n"
     ]
    },
    {
     "ename": "KeyboardInterrupt",
     "evalue": "",
     "output_type": "error",
     "traceback": [
      "\u001b[0;31m---------------------------------------------------------------------------\u001b[0m",
      "\u001b[0;31mKeyboardInterrupt\u001b[0m                         Traceback (most recent call last)",
      "Cell \u001b[0;32mIn[12], line 51\u001b[0m\n\u001b[1;32m     49\u001b[0m \u001b[38;5;28;01mwith\u001b[39;00m torch\u001b[38;5;241m.\u001b[39mno_grad():\n\u001b[1;32m     50\u001b[0m     batch \u001b[38;5;241m=\u001b[39m \u001b[38;5;28mnext\u001b[39m(val_iter)\n\u001b[0;32m---> 51\u001b[0m     loss \u001b[38;5;241m=\u001b[39m \u001b[43msae_step\u001b[49m\u001b[43m(\u001b[49m\u001b[43mbatch\u001b[49m\u001b[43m)\u001b[49m\n\u001b[1;32m     52\u001b[0m     interleaved_losses\u001b[38;5;241m.\u001b[39mappend(loss\u001b[38;5;241m.\u001b[39mitem())\n\u001b[1;32m     54\u001b[0m     val_loss \u001b[38;5;241m=\u001b[39m loss\u001b[38;5;241m.\u001b[39mitem()\n",
      "Cell \u001b[0;32mIn[12], line 27\u001b[0m, in \u001b[0;36msae_step\u001b[0;34m(batch)\u001b[0m\n\u001b[1;32m     24\u001b[0m \u001b[38;5;66;03m# Gather the hidden states using the random layers\u001b[39;00m\n\u001b[1;32m     25\u001b[0m inputs \u001b[38;5;241m=\u001b[39m all_hidden[batch_indices, seq_indices, random_layers]  \u001b[38;5;66;03m# [batch_size*seq_len, hidden_size]\u001b[39;00m\n\u001b[0;32m---> 27\u001b[0m reconstructed \u001b[38;5;241m=\u001b[39m \u001b[43msae\u001b[49m\u001b[43m(\u001b[49m\u001b[43minputs\u001b[49m\u001b[43m,\u001b[49m\u001b[43m \u001b[49m\u001b[43mrandom_layers\u001b[49m\u001b[43m)\u001b[49m\n\u001b[1;32m     29\u001b[0m \u001b[38;5;28;01mreturn\u001b[39;00m F\u001b[38;5;241m.\u001b[39mmse_loss(reconstructed, inputs)\n",
      "File \u001b[0;32m~/Documents/Projects/minimal-ml/.venv/lib/python3.12/site-packages/torch/nn/modules/module.py:1528\u001b[0m, in \u001b[0;36mModule._wrapped_call_impl\u001b[0;34m(self, *args, **kwargs)\u001b[0m\n\u001b[1;32m   1525\u001b[0m             tracing_state\u001b[38;5;241m.\u001b[39mpop_scope()\n\u001b[1;32m   1526\u001b[0m     \u001b[38;5;28;01mreturn\u001b[39;00m result\n\u001b[0;32m-> 1528\u001b[0m \u001b[38;5;28;01mdef\u001b[39;00m \u001b[38;5;21m_wrapped_call_impl\u001b[39m(\u001b[38;5;28mself\u001b[39m, \u001b[38;5;241m*\u001b[39margs, \u001b[38;5;241m*\u001b[39m\u001b[38;5;241m*\u001b[39mkwargs):\n\u001b[1;32m   1529\u001b[0m     \u001b[38;5;28;01mif\u001b[39;00m \u001b[38;5;28mself\u001b[39m\u001b[38;5;241m.\u001b[39m_compiled_call_impl \u001b[38;5;129;01mis\u001b[39;00m \u001b[38;5;129;01mnot\u001b[39;00m \u001b[38;5;28;01mNone\u001b[39;00m:\n\u001b[1;32m   1530\u001b[0m         \u001b[38;5;28;01mreturn\u001b[39;00m \u001b[38;5;28mself\u001b[39m\u001b[38;5;241m.\u001b[39m_compiled_call_impl(\u001b[38;5;241m*\u001b[39margs, \u001b[38;5;241m*\u001b[39m\u001b[38;5;241m*\u001b[39mkwargs)  \u001b[38;5;66;03m# type: ignore[misc]\u001b[39;00m\n",
      "\u001b[0;31mKeyboardInterrupt\u001b[0m: "
     ]
    }
   ],
   "source": [
    "from tqdm import tqdm\n",
    "\n",
    "optim = Adam(sae.parameters(), lr=3e-4, weight_decay=1e-3)\n",
    "\n",
    "train_loss, val_loss = float(\"inf\"), float(\"inf\")\n",
    "train_losses, val_losses = [], []\n",
    "\n",
    "def sae_step(batch):\n",
    "    B, L = batch[\"input_ids\"].shape\n",
    "    with torch.no_grad():\n",
    "        out = model(batch[\"input_ids\"].to(DEVICE), attention_mask=batch[\"attention_mask\"].to(DEVICE), output_hidden_states=True)\n",
    "\n",
    "    # Generate random layer for each position in the batch/sequence\n",
    "    random_layers = torch.randint(0, N_LAYERS, (B * L,))\n",
    "    \n",
    "    # Gather hidden states from random layers for each position\n",
    "    all_hidden = torch.stack(out.hidden_states)  # [n_layers, batch_size, seq_len, hidden_size]\n",
    "    all_hidden = all_hidden.permute(1, 2, 0, 3)  # [batch_size, seq_len, n_layers, hidden_size]\n",
    "    \n",
    "    # Create indices for gathering\n",
    "    batch_indices = torch.arange(B).repeat_interleave(L)\n",
    "    seq_indices = torch.arange(L).repeat(B)\n",
    "    \n",
    "    # Gather the hidden states using the random layers\n",
    "    inputs = all_hidden[batch_indices, seq_indices, random_layers]  # [batch_size*seq_len, hidden_size]\n",
    "    \n",
    "    reconstructed = sae(inputs, random_layers)\n",
    "    \n",
    "    return F.mse_loss(reconstructed, inputs)\n",
    "\n",
    "step_iter = tqdm(range(EPOCHS * N_STEPS_PER_TRAIN_EPOCH), desc=\"Training\")\n",
    "for step in step_iter:\n",
    "    batch = next(train_iter)\n",
    "    \n",
    "    loss = sae_step(batch)\n",
    "    \n",
    "    optim.zero_grad()\n",
    "    loss.backward()\n",
    "    optim.step()\n",
    "    \n",
    "    train_losses.append(loss.item())\n",
    "    train_loss = loss.item()\n",
    "    \n",
    "    step_iter.set_postfix({\"Train Loss\": f\"{train_loss:.4f}\", \"Val Loss\": f\"{val_loss:.4f}\"})\n",
    "    \n",
    "    if step % INTERLEAVE_EVERY == 0:\n",
    "        interleaved_losses = []\n",
    "        for _ in range(N_VALIDATION_STEPS):\n",
    "            with torch.no_grad():\n",
    "                batch = next(val_iter)\n",
    "                loss = sae_step(batch)\n",
    "                interleaved_losses.append(loss.item())\n",
    "                \n",
    "                val_loss = loss.item()\n",
    "                \n",
    "                step_iter.set_postfix({\"Train Loss\": f\"{train_loss:.4f}\", \"Val Loss\": f\"{val_loss:.4f}\"})\n",
    "\n",
    "        val_loss = sum(interleaved_losses) / len(interleaved_losses)\n",
    "        val_losses.append(val_loss)\n",
    "        \n",
    "    if step % SAVE_EVERY == 0 and step > 0:\n",
    "        torch.save(sae.state_dict(), f\"sae_{step}.pth\")\n"
   ]
  },
  {
   "cell_type": "code",
   "execution_count": 24,
   "metadata": {},
   "outputs": [],
   "source": [
    "torch.save(sae.state_dict(), \"sae.pth\")"
   ]
  },
  {
   "cell_type": "code",
   "execution_count": 12,
   "metadata": {},
   "outputs": [
    {
     "data": {
      "image/png": "[encoded data removed]",
      "text/plain": [
       "<Figure size 1000x600 with 1 Axes>"
      ]
     },
     "metadata": {},
     "output_type": "display_data"
    }
   ],
   "source": [
    "from matplotlib import pyplot as plt\n",
    "plt.figure(figsize=(10, 6))\n",
    "plt.plot(range(len(train_losses)), train_losses, label='Train Loss', alpha=0.5)\n",
    "# Ensure validation points align with training points by using same length arrays\n",
    "val_steps = range(0, len(train_losses), INTERLEAVE_EVERY)\n",
    "val_losses_padded = val_losses + [val_losses[-1]] * (len(val_steps) - len(val_losses))\n",
    "plt.plot(val_steps, val_losses_padded, label='Validation Loss', linewidth=2)\n",
    "plt.xlabel('Training Steps')\n",
    "plt.ylabel('Loss')\n",
    "plt.legend()\n",
    "plt.grid(True)\n",
    "plt.show()"
   ]
  },
  {
   "cell_type": "markdown",
   "metadata": {},
   "source": [
    "Still trending downwards, only trained this for 20-30 minutes on my mac. "
   ]
  },
  {
   "cell_type": "markdown",
   "metadata": {},
   "source": [
    "Now we can try to see whether the SAE is picking up on something interesting."
   ]
  },
  {
   "cell_type": "code",
   "execution_count": 14,
   "metadata": {},
   "outputs": [],
   "source": [
    "subset = val_ds.shuffle(seed=42).select(range(100))\n",
    "subset = [torch.tensor(x[\"chat_ids\"])[None] for x in subset]"
   ]
  },
  {
   "cell_type": "code",
   "execution_count": 16,
   "metadata": {},
   "outputs": [],
   "source": [
    "LAYER = N_LAYERS // 2  # maybe the middle is interesting\n",
    "\n",
    "with torch.no_grad():\n",
    "    activations = [model(x.to(DEVICE), output_hidden_states=True).hidden_states[LAYER].reshape(-1, HIDDEN_SIZE) for x in tqdm(subset)]\n",
    "\n",
    "    activations = torch.cat(activations, dim=0)\n",
    "    positions = torch.tensor([LAYER] * len(activations))\n",
    "    \n",
    "    indices, values = sae.encode(activations, positions)\n"
   ]
  },
  {
   "cell_type": "code",
   "execution_count": 17,
   "metadata": {},
   "outputs": [
    {
     "data": {
      "text/plain": [
       "(tensor(13.4796, device='mps:0'),\n",
       " tensor(1119.9923, device='mps:0'),\n",
       " tensor(32.4044, device='mps:0'),\n",
       " tensor(48.9667, device='mps:0'))"
      ]
     },
     "execution_count": 17,
     "metadata": {},
     "output_type": "execute_result"
    }
   ],
   "source": [
    "values.min(), values.max(), values.mean(), values.std()"
   ]
  },
  {
   "cell_type": "code",
   "execution_count": 18,
   "metadata": {},
   "outputs": [],
   "source": [
    "counts = torch.bincount(indices.flatten(), minlength=HIDDEN_SIZE * 2)\n",
    "\n",
    "sorted_indices = torch.sort(counts, descending=True).indices\n"
   ]
  },
  {
   "cell_type": "code",
   "execution_count": 21,
   "metadata": {},
   "outputs": [],
   "source": [
    "def highlight_feature_activations(text, feature_idx, model, sae, tokenizer, device=\"mps\"):\n",
    "    RESET = \"\\033[0m\"\n",
    "    def get_color(value):\n",
    "        normalized = max(0.0, min(1.0, math.log(value + 1e-5)))\n",
    "        \n",
    "        text_red = int(30 + 225 * normalized)  # increased range (30-255)\n",
    "        \n",
    "        bg_red = 255\n",
    "        bg_green = bg_blue = int(255 - (80 * normalized))  # doubled the reduction (255-175)\n",
    "        \n",
    "        return f\"\\033[48;2;{bg_red};{bg_green};{bg_blue}m\\033[38;2;{text_red};0;0m\"\n",
    "    \n",
    "    # Tokenize and get model outputs\n",
    "    tokens = tokenizer.encode(text, return_tensors=\"pt\").to(device)\n",
    "    with torch.no_grad():\n",
    "        outputs = model(tokens, output_hidden_states=True)\n",
    "        activations = outputs.hidden_states[LAYER]\n",
    "        activations = activations.reshape(-1, model.config.hidden_size)\n",
    "        positions = torch.tensor([LAYER] * len(activations))\n",
    "        \n",
    "        indices, values = sae.encode(activations, positions)\n",
    "        \n",
    "        # Create feature mask\n",
    "        feature_mask = (indices == feature_idx).any(dim=1)\n",
    "        feature_values = torch.zeros_like(feature_mask, dtype=torch.float)\n",
    "        for i, (idx, val) in enumerate(zip(indices, values)):\n",
    "            if feature_idx in idx:\n",
    "                # Get top 5 values for this token\n",
    "                top5_mask = torch.zeros_like(val, dtype=torch.bool)\n",
    "                top5_indices = torch.topk(val, min(5, len(val))).indices\n",
    "                top5_mask[top5_indices] = True\n",
    "                \n",
    "                # Check if our feature is in top 5\n",
    "                if top5_mask[idx == feature_idx].any():\n",
    "                    feature_values[i] = val[idx == feature_idx].max()\n",
    "    \n",
    "    # Decode tokens and apply colors\n",
    "    tokens = tokens[0].cpu().numpy()\n",
    "    decoded = []\n",
    "    for i, token in enumerate(tokens):\n",
    "        word = tokenizer.decode([token])\n",
    "        if feature_values[i] > 0:  # Only highlight if it was in top 5\n",
    "            color = get_color(feature_values[i].item())\n",
    "            decoded.append(f\"{color}{word}{RESET}\")\n",
    "        else:\n",
    "            decoded.append(word)\n",
    "    \n",
    "    return \"\".join(decoded)\n",
    "\n",
    "def highlight_feature(text, feature_idx, model, sae, tokenizer, device=\"mps\"):\n",
    "    example_text = tokenizer.decode(text[0], skip_special_tokens=True)\n",
    "    colored_text = highlight_feature_activations(example_text, feature_idx, model, sae, tokenizer)\n",
    "    print(colored_text)"
   ]
  },
  {
   "cell_type": "markdown",
   "metadata": {},
   "source": [
    "Now we can at last highlight the features.\n",
    "\n",
    "The most common activations appear to \"overfire\" in this small example we have done. "
   ]
  },
  {
   "cell_type": "code",
   "execution_count": 22,
   "metadata": {},
   "outputs": [
    {
     "name": "stdout",
     "output_type": "stream",
     "text": [
      "system\u001b[48;2;255;175;175m\u001b[38;2;255;0;0m\n",
      "\u001b[0m\u001b[48;2;255;175;175m\u001b[38;2;255;0;0mYou\u001b[0m\u001b[48;2;255;175;175m\u001b[38;2;255;0;0m are\u001b[0m\u001b[48;2;255;175;175m\u001b[38;2;255;0;0m Q\u001b[0m\u001b[48;2;255;175;175m\u001b[38;2;255;0;0mwen\u001b[0m\u001b[48;2;255;175;175m\u001b[38;2;255;0;0m,\u001b[0m\u001b[48;2;255;175;175m\u001b[38;2;255;0;0m a\u001b[0m\u001b[48;2;255;175;175m\u001b[38;2;255;0;0m helpful\u001b[0m\u001b[48;2;255;175;175m\u001b[38;2;255;0;0m coding\u001b[0m\u001b[48;2;255;175;175m\u001b[38;2;255;0;0m assistant\u001b[0m\u001b[48;2;255;175;175m\u001b[38;2;255;0;0m.\n",
      "\u001b[0m\u001b[48;2;255;175;175m\u001b[38;2;255;0;0muser\u001b[0m\u001b[48;2;255;175;175m\u001b[38;2;255;0;0m\n",
      "\u001b[0m\u001b[48;2;255;175;175m\u001b[38;2;255;0;0mCreate\u001b[0m\u001b[48;2;255;175;175m\u001b[38;2;255;0;0m a\u001b[0m\u001b[48;2;255;175;175m\u001b[38;2;255;0;0m Rust\u001b[0m\u001b[48;2;255;175;175m\u001b[38;2;255;0;0m script\u001b[0m\u001b[48;2;255;175;175m\u001b[38;2;255;0;0m snippet\u001b[0m\u001b[48;2;255;175;175m\u001b[38;2;255;0;0m that\u001b[0m\u001b[48;2;255;175;175m\u001b[38;2;255;0;0m Checks\u001b[0m\u001b[48;2;255;175;175m\u001b[38;2;255;0;0m Low\u001b[0m\u001b[48;2;255;175;175m\u001b[38;2;255;0;0m Oral\u001b[0m\u001b[48;2;255;175;175m\u001b[38;2;255;0;0m health\u001b[0m\u001b[48;2;255;175;175m\u001b[38;2;255;0;0m habits\u001b[0m\u001b[48;2;255;175;175m\u001b[38;2;255;0;0m:\u001b[0m\u001b[48;2;255;175;175m\u001b[38;2;255;0;0m Healthy\u001b[0m\u001b[48;2;255;175;175m\u001b[38;2;255;0;0m Diet\u001b[0m\u001b[48;2;255;175;175m\u001b[38;2;255;0;0m for\u001b[0m\u001b[48;2;255;175;175m\u001b[38;2;255;0;0m Teeth\u001b[0m\u001b[48;2;255;175;175m\u001b[38;2;255;0;0m for\u001b[0m\u001b[48;2;255;175;175m\u001b[38;2;255;0;0m Analysis\u001b[0m\u001b[48;2;255;175;175m\u001b[38;2;255;0;0m for\u001b[0m\u001b[48;2;255;175;175m\u001b[38;2;255;0;0m Beginners\u001b[0m\u001b[48;2;255;175;175m\u001b[38;2;255;0;0m.\u001b[0m\u001b[48;2;255;175;175m\u001b[38;2;255;0;0m Use\u001b[0m\u001b[48;2;255;175;175m\u001b[38;2;255;0;0m if\u001b[0m\u001b[48;2;255;175;175m\u001b[38;2;255;0;0m/\u001b[0m\u001b[48;2;255;175;175m\u001b[38;2;255;0;0melse\u001b[0m\u001b[48;2;255;175;175m\u001b[38;2;255;0;0m or\u001b[0m\u001b[48;2;255;175;175m\u001b[38;2;255;0;0m switch\u001b[0m\u001b[48;2;255;175;175m\u001b[38;2;255;0;0m/c\u001b[0m\u001b[48;2;255;175;175m\u001b[38;2;255;0;0mase\u001b[0m\u001b[48;2;255;175;175m\u001b[38;2;255;0;0m statements\u001b[0m\u001b[48;2;255;175;175m\u001b[38;2;255;0;0m to\u001b[0m\u001b[48;2;255;175;175m\u001b[38;2;255;0;0m condition\u001b[0m\u001b[48;2;255;175;175m\u001b[38;2;255;0;0mally\u001b[0m\u001b[48;2;255;175;175m\u001b[38;2;255;0;0m perform\u001b[0m\u001b[48;2;255;175;175m\u001b[38;2;255;0;0m different\u001b[0m\u001b[48;2;255;175;175m\u001b[38;2;255;0;0m actions\u001b[0m\u001b[48;2;255;175;175m\u001b[38;2;255;0;0m based\u001b[0m\u001b[48;2;255;175;175m\u001b[38;2;255;0;0m on\u001b[0m\u001b[48;2;255;175;175m\u001b[38;2;255;0;0m the\u001b[0m\u001b[48;2;255;175;175m\u001b[38;2;255;0;0m Responsibility\u001b[0m\u001b[48;2;255;175;175m\u001b[38;2;255;0;0m.\u001b[0m\u001b[48;2;255;175;175m\u001b[38;2;255;0;0m Dry\u001b[0m\u001b[48;2;255;175;175m\u001b[38;2;255;0;0m-run\u001b[0m\u001b[48;2;255;175;175m\u001b[38;2;255;0;0m,\u001b[0m\u001b[48;2;255;175;175m\u001b[38;2;255;0;0m then\u001b[0m\u001b[48;2;255;175;175m\u001b[38;2;255;0;0m include\u001b[0m\u001b[48;2;255;175;175m\u001b[38;2;255;0;0m comments\u001b[0m\u001b[48;2;255;175;175m\u001b[38;2;255;0;0m that\u001b[0m\u001b[48;2;255;175;175m\u001b[38;2;255;0;0m outline\u001b[0m\u001b[48;2;255;175;175m\u001b[38;2;255;0;0m the\u001b[0m\u001b[48;2;255;175;175m\u001b[38;2;255;0;0m control\u001b[0m\u001b[48;2;255;175;175m\u001b[38;2;255;0;0m flow\u001b[0m\u001b[48;2;255;175;175m\u001b[38;2;255;0;0m and\u001b[0m\u001b[48;2;255;175;175m\u001b[38;2;255;0;0m how\u001b[0m\u001b[48;2;255;175;175m\u001b[38;2;255;0;0m you\u001b[0m\u001b[48;2;255;175;175m\u001b[38;2;255;0;0m handle\u001b[0m\u001b[48;2;255;175;175m\u001b[38;2;255;0;0m different\u001b[0m\u001b[48;2;255;175;175m\u001b[38;2;255;0;0m scenarios\u001b[0m\u001b[48;2;255;175;175m\u001b[38;2;255;0;0m.\n",
      "\u001b[0m\u001b[48;2;255;175;175m\u001b[38;2;255;0;0massistant\u001b[0m\u001b[48;2;255;175;175m\u001b[38;2;255;0;0m\n",
      "\u001b[0m\u001b[48;2;255;175;175m\u001b[38;2;255;0;0mHere\u001b[0m\u001b[48;2;255;175;175m\u001b[38;2;255;0;0m is\u001b[0m\u001b[48;2;255;175;175m\u001b[38;2;255;0;0m a\u001b[0m\u001b[48;2;255;175;175m\u001b[38;2;255;0;0m possible\u001b[0m\u001b[48;2;255;175;175m\u001b[38;2;255;0;0m implementation\u001b[0m\u001b[48;2;255;175;175m\u001b[38;2;255;0;0m of\u001b[0m\u001b[48;2;255;175;175m\u001b[38;2;255;0;0m this\u001b[0m\u001b[48;2;255;175;175m\u001b[38;2;255;0;0m functionality\u001b[0m\u001b[48;2;255;175;175m\u001b[38;2;255;0;0m in\u001b[0m\u001b[48;2;255;175;175m\u001b[38;2;255;0;0m Rust\u001b[0m\u001b[48;2;255;175;175m\u001b[38;2;255;0;0m:\n",
      "\u001b[0m\u001b[48;2;255;175;175m\u001b[38;2;255;0;0m```\u001b[0m\u001b[48;2;255;175;175m\u001b[38;2;255;0;0mrust\u001b[0m\u001b[48;2;255;175;175m\u001b[38;2;255;0;0m \n",
      "\u001b[0m\u001b[48;2;255;175;175m\u001b[38;2;255;0;0mfn\u001b[0m\u001b[48;2;255;175;175m\u001b[38;2;255;0;0m check\u001b[0m\u001b[48;2;255;175;175m\u001b[38;2;255;0;0m_low\u001b[0m\u001b[48;2;255;175;175m\u001b[38;2;255;0;0m_or\u001b[0m\u001b[48;2;255;175;175m\u001b[38;2;255;0;0mal\u001b[0m\u001b[48;2;255;175;175m\u001b[38;2;255;0;0m_health\u001b[0m\u001b[48;2;255;175;175m\u001b[38;2;255;0;0m(d\u001b[0m\u001b[48;2;255;175;175m\u001b[38;2;255;0;0miet\u001b[0m\u001b[48;2;255;175;175m\u001b[38;2;255;0;0m:\u001b[0m\u001b[48;2;255;175;175m\u001b[38;2;255;0;0m &\u001b[0m\u001b[48;2;255;175;175m\u001b[38;2;255;0;0mstr\u001b[0m\u001b[48;2;255;175;175m\u001b[38;2;255;0;0m)\u001b[0m\u001b[48;2;255;175;175m\u001b[38;2;255;0;0m ->\u001b[0m\u001b[48;2;255;175;175m\u001b[38;2;255;0;0m String\u001b[0m\u001b[48;2;255;175;175m\u001b[38;2;255;0;0m {\n",
      "\u001b[0m\u001b[48;2;255;175;175m\u001b[38;2;255;0;0m   \u001b[0m\u001b[48;2;255;175;175m\u001b[38;2;255;0;0m let\u001b[0m\u001b[48;2;255;175;175m\u001b[38;2;255;0;0m mut\u001b[0m\u001b[48;2;255;175;175m\u001b[38;2;255;0;0m result\u001b[0m\u001b[48;2;255;175;175m\u001b[38;2;255;0;0m =\u001b[0m\u001b[48;2;255;175;175m\u001b[38;2;255;0;0m \"\u001b[0m\u001b[48;2;255;175;175m\u001b[38;2;255;0;0mGood\u001b[0m\u001b[48;2;255;175;175m\u001b[38;2;255;0;0m job\u001b[0m\u001b[48;2;255;175;175m\u001b[38;2;255;0;0m!\u001b[0m\u001b[48;2;255;175;175m\u001b[38;2;255;0;0m Your\u001b[0m\u001b[48;2;255;175;175m\u001b[38;2;255;0;0m dietary\u001b[0m\u001b[48;2;255;175;175m\u001b[38;2;255;0;0m choices\u001b[0m\u001b[48;2;255;175;175m\u001b[38;2;255;0;0m seem\u001b[0m\u001b[48;2;255;175;175m\u001b[38;2;255;0;0m to\u001b[0m\u001b[48;2;255;175;175m\u001b[38;2;255;0;0m promote\u001b[0m\u001b[48;2;255;175;175m\u001b[38;2;255;0;0m good\u001b[0m\u001b[48;2;255;175;175m\u001b[38;2;255;0;0m oral\u001b[0m\u001b[48;2;255;175;175m\u001b[38;2;255;0;0m health\u001b[0m\u001b[48;2;255;175;175m\u001b[38;2;255;0;0m.\".\u001b[0m\u001b[48;2;255;175;175m\u001b[38;2;255;0;0mto\u001b[0m\u001b[48;2;255;175;175m\u001b[38;2;255;0;0m_string\u001b[0m\u001b[48;2;255;175;175m\u001b[38;2;255;0;0m();\n",
      "\n",
      "\u001b[0m\u001b[48;2;255;175;175m\u001b[38;2;255;0;0m   \u001b[0m\u001b[48;2;255;175;175m\u001b[38;2;255;0;0m match\u001b[0m\u001b[48;2;255;175;175m\u001b[38;2;255;0;0m diet\u001b[0m\u001b[48;2;255;175;175m\u001b[38;2;255;0;0m {\n",
      "\u001b[0m\u001b[48;2;255;175;175m\u001b[38;2;255;0;0m       \u001b[0m\u001b[48;2;255;175;175m\u001b[38;2;255;0;0m //\u001b[0m\u001b[48;2;255;175;175m\u001b[38;2;255;0;0m Case\u001b[0m\u001b[48;2;255;175;175m\u001b[38;2;255;0;0m \u001b[0m\u001b[48;2;255;175;175m\u001b[38;2;255;0;0m1\u001b[0m\u001b[48;2;255;175;175m\u001b[38;2;255;0;0m:\u001b[0m\u001b[48;2;255;175;175m\u001b[38;2;255;0;0m Un\u001b[0m\u001b[48;2;255;175;175m\u001b[38;2;255;0;0mhealthy\u001b[0m\u001b[48;2;255;175;175m\u001b[38;2;255;0;0m diet\u001b[0m\u001b[48;2;255;175;175m\u001b[38;2;255;0;0m\n",
      "\u001b[0m\u001b[48;2;255;175;175m\u001b[38;2;255;0;0m       \u001b[0m\u001b[48;2;255;175;175m\u001b[38;2;255;0;0m _\u001b[0m\u001b[48;2;255;175;175m\u001b[38;2;255;0;0m if\u001b[0m\u001b[48;2;255;175;175m\u001b[38;2;255;0;0m diet\u001b[0m\u001b[48;2;255;175;175m\u001b[38;2;255;0;0m ==\u001b[0m\u001b[48;2;255;175;175m\u001b[38;2;255;0;0m \"\u001b[0m\u001b[48;2;255;175;175m\u001b[38;2;255;0;0mj\u001b[0m\u001b[48;2;255;175;175m\u001b[38;2;255;0;0munk\u001b[0m\u001b[48;2;255;175;175m\u001b[38;2;255;0;0m food\u001b[0m\u001b[48;2;255;175;175m\u001b[38;2;255;0;0m\"\u001b[0m\u001b[48;2;255;175;175m\u001b[38;2;255;0;0m ||\u001b[0m\u001b[48;2;255;175;175m\u001b[38;2;255;0;0m diet\u001b[0m\u001b[48;2;255;175;175m\u001b[38;2;255;0;0m ==\u001b[0m\u001b[48;2;255;175;175m\u001b[38;2;255;0;0m \"\u001b[0m\u001b[48;2;255;175;175m\u001b[38;2;255;0;0mfast\u001b[0m\u001b[48;2;255;175;175m\u001b[38;2;255;0;0m food\u001b[0m\u001b[48;2;255;175;175m\u001b[38;2;255;0;0m\"\u001b[0m\u001b[48;2;255;175;175m\u001b[38;2;255;0;0m =>\u001b[0m\u001b[48;2;255;175;175m\u001b[38;2;255;0;0m {\n",
      "\u001b[0m\u001b[48;2;255;175;175m\u001b[38;2;255;0;0m           \u001b[0m\u001b[48;2;255;175;175m\u001b[38;2;255;0;0m result\u001b[0m\u001b[48;2;255;175;175m\u001b[38;2;255;0;0m =\u001b[0m\u001b[48;2;255;175;175m\u001b[38;2;255;0;0m format\u001b[0m\u001b[48;2;255;175;175m\u001b[38;2;255;0;0m!(\"\u001b[0m\u001b[48;2;255;175;175m\u001b[38;2;255;0;0m{}\u001b[0m\u001b[48;2;255;175;175m\u001b[38;2;255;0;0m However\u001b[0m\u001b[48;2;255;175;175m\u001b[38;2;255;0;0m,\u001b[0m\u001b[48;2;255;175;175m\u001b[38;2;255;0;0m eating\u001b[0m\u001b[48;2;255;175;175m\u001b[38;2;255;0;0m too\u001b[0m\u001b[48;2;255;175;175m\u001b[38;2;255;0;0m much\u001b[0m\u001b[48;2;255;175;175m\u001b[38;2;255;0;0m junk\u001b[0m\u001b[48;2;255;175;175m\u001b[38;2;255;0;0m food\u001b[0m\u001b[48;2;255;175;175m\u001b[38;2;255;0;0m can\u001b[0m\u001b[48;2;255;175;175m\u001b[38;2;255;0;0m lead\u001b[0m\u001b[48;2;255;175;175m\u001b[38;2;255;0;0m to\u001b[0m\u001b[48;2;255;175;175m\u001b[38;2;255;0;0m cav\u001b[0m\u001b[48;2;255;175;175m\u001b[38;2;255;0;0mities\u001b[0m\u001b[48;2;255;175;175m\u001b[38;2;255;0;0m and\u001b[0m\u001b[48;2;255;175;175m\u001b[38;2;255;0;0m other\u001b[0m\u001b[48;2;255;175;175m\u001b[38;2;255;0;0m dental\u001b[0m\u001b[48;2;255;175;175m\u001b[38;2;255;0;0m problems\u001b[0m\u001b[48;2;255;175;175m\u001b[38;2;255;0;0m.\",\u001b[0m\u001b[48;2;255;175;175m\u001b[38;2;255;0;0m result\u001b[0m\u001b[48;2;255;175;175m\u001b[38;2;255;0;0m);\n",
      "\u001b[0m\u001b[48;2;255;175;175m\u001b[38;2;255;0;0m       \u001b[0m\u001b[48;2;255;175;175m\u001b[38;2;255;0;0m }\n",
      "\n",
      "\u001b[0m\u001b[48;2;255;175;175m\u001b[38;2;255;0;0m       \u001b[0m\u001b[48;2;255;175;175m\u001b[38;2;255;0;0m //\u001b[0m\u001b[48;2;255;175;175m\u001b[38;2;255;0;0m Case\u001b[0m\u001b[48;2;255;175;175m\u001b[38;2;255;0;0m \u001b[0m\u001b[48;2;255;175;175m\u001b[38;2;255;0;0m2\u001b[0m\u001b[48;2;255;175;175m\u001b[38;2;255;0;0m:\u001b[0m\u001b[48;2;255;175;175m\u001b[38;2;255;0;0m Healthy\u001b[0m\u001b[48;2;255;175;175m\u001b[38;2;255;0;0m diet\u001b[0m\u001b[48;2;255;175;175m\u001b[38;2;255;0;0m\n",
      "\u001b[0m\u001b[48;2;255;175;175m\u001b[38;2;255;0;0m       \u001b[0m\u001b[48;2;255;175;175m\u001b[38;2;255;0;0m _\u001b[0m\u001b[48;2;255;175;175m\u001b[38;2;255;0;0m if\u001b[0m\u001b[48;2;255;175;175m\u001b[38;2;255;0;0m diet\u001b[0m\u001b[48;2;255;175;175m\u001b[38;2;255;0;0m ==\u001b[0m\u001b[48;2;255;175;175m\u001b[38;2;255;0;0m \"\u001b[0m\u001b[48;2;255;175;175m\u001b[38;2;255;0;0mveget\u001b[0m\u001b[48;2;255;175;175m\u001b[38;2;255;0;0mables\u001b[0m\u001b[48;2;255;175;175m\u001b[38;2;255;0;0m\"\u001b[0m\u001b[48;2;255;175;175m\u001b[38;2;255;0;0m ||\u001b[0m\u001b[48;2;255;175;175m\u001b[38;2;255;0;0m diet\u001b[0m\u001b[48;2;255;175;175m\u001b[38;2;255;0;0m ==\u001b[0m\u001b[48;2;255;175;175m\u001b[38;2;255;0;0m \"\u001b[0m\u001b[48;2;255;175;175m\u001b[38;2;255;0;0mfr\u001b[0m\u001b[48;2;255;175;175m\u001b[38;2;255;0;0muits\u001b[0m\u001b[48;2;255;175;175m\u001b[38;2;255;0;0m\"\u001b[0m\u001b[48;2;255;175;175m\u001b[38;2;255;0;0m =>\u001b[0m\u001b[48;2;255;175;175m\u001b[38;2;255;0;0m {\n",
      "\u001b[0m\u001b[48;2;255;175;175m\u001b[38;2;255;0;0m           \u001b[0m\u001b[48;2;255;175;175m\u001b[38;2;255;0;0m result\u001b[0m\u001b[48;2;255;175;175m\u001b[38;2;255;0;0m =\u001b[0m\u001b[48;2;255;175;175m\u001b[38;2;255;0;0m format\u001b[0m\u001b[48;2;255;175;175m\u001b[38;2;255;0;0m!(\"\u001b[0m\u001b[48;2;255;175;175m\u001b[38;2;255;0;0m{}\u001b[0m\u001b[48;2;255;175;175m\u001b[38;2;255;0;0m Keep\u001b[0m\u001b[48;2;255;175;175m\u001b[38;2;255;0;0m up\u001b[0m\u001b[48;2;255;175;175m\u001b[38;2;255;0;0m the\u001b[0m\u001b[48;2;255;175;175m\u001b[38;2;255;0;0m great\u001b[0m\u001b[48;2;255;175;175m\u001b[38;2;255;0;0m work\u001b[0m\u001b[48;2;255;175;175m\u001b[38;2;255;0;0m!\",\u001b[0m\u001b[48;2;255;175;175m\u001b[38;2;255;0;0m result\u001b[0m\u001b[48;2;255;175;175m\u001b[38;2;255;0;0m);\n",
      "\u001b[0m\u001b[48;2;255;175;175m\u001b[38;2;255;0;0m       \u001b[0m\u001b[48;2;255;175;175m\u001b[38;2;255;0;0m }\n",
      "\n",
      "\u001b[0m\u001b[48;2;255;175;175m\u001b[38;2;255;0;0m       \u001b[0m\u001b[48;2;255;175;175m\u001b[38;2;255;0;0m //\u001b[0m\u001b[48;2;255;175;175m\u001b[38;2;255;0;0m Default\u001b[0m\u001b[48;2;255;175;175m\u001b[38;2;255;0;0m case\u001b[0m\u001b[48;2;255;175;175m\u001b[38;2;255;0;0m (\u001b[0m\u001b[48;2;255;175;175m\u001b[38;2;255;0;0mif\u001b[0m\u001b[48;2;255;175;175m\u001b[38;2;255;0;0m none\u001b[0m\u001b[48;2;255;175;175m\u001b[38;2;255;0;0m of\u001b[0m\u001b[48;2;255;175;175m\u001b[38;2;255;0;0m the\u001b[0m\u001b[48;2;255;175;175m\u001b[38;2;255;0;0m above\u001b[0m\u001b[48;2;255;175;175m\u001b[38;2;255;0;0m cases\u001b[0m\u001b[48;2;255;175;175m\u001b[38;2;255;0;0m apply\u001b[0m\u001b[48;2;255;175;175m\u001b[38;2;255;0;0m):\u001b[0m\u001b[48;2;255;175;175m\u001b[38;2;255;0;0m Inform\u001b[0m\u001b[48;2;255;175;175m\u001b[38;2;255;0;0m user\u001b[0m\u001b[48;2;255;175;175m\u001b[38;2;255;0;0m about\u001b[0m\u001b[48;2;255;175;175m\u001b[38;2;255;0;0m healthy\u001b[0m\u001b[48;2;255;175;175m\u001b[38;2;255;0;0m diet\u001b[0m\u001b[48;2;255;175;175m\u001b[38;2;255;0;0m recommendations\u001b[0m\u001b[48;2;255;175;175m\u001b[38;2;255;0;0m\n",
      "\u001b[0m\u001b[48;2;255;175;175m\u001b[38;2;255;0;0m       \u001b[0m\u001b[48;2;255;175;175m\u001b[38;2;255;0;0m default\u001b[0m\u001b[48;2;255;175;175m\u001b[38;2;255;0;0m =>\u001b[0m\u001b[48;2;255;175;175m\u001b[38;2;255;0;0m {\n",
      "\u001b[0m\u001b[48;2;255;175;175m\u001b[38;2;255;0;0m           \u001b[0m\u001b[48;2;255;175;175m\u001b[38;2;255;0;0m result\u001b[0m\u001b[48;2;255;175;175m\u001b[38;2;255;0;0m =\u001b[0m\u001b[48;2;255;175;175m\u001b[38;2;255;0;0m format\u001b[0m\u001b[48;2;255;175;175m\u001b[38;2;255;0;0m!(\"\u001b[0m\u001b[48;2;255;175;175m\u001b[38;2;255;0;0m{}\u001b[0m\u001b[48;2;255;175;175m\u001b[38;2;255;0;0m Make\u001b[0m\u001b[48;2;255;175;175m\u001b[38;2;255;0;0m sure\u001b[0m\u001b[48;2;255;175;175m\u001b[38;2;255;0;0m to\u001b[0m\u001b[48;2;255;175;175m\u001b[38;2;255;0;0m incorporate\u001b[0m\u001b[48;2;255;175;175m\u001b[38;2;255;0;0m plenty\u001b[0m\u001b[48;2;255;175;175m\u001b[38;2;255;0;0m of\u001b[0m\u001b[48;2;255;175;175m\u001b[38;2;255;0;0m vegetables\u001b[0m\u001b[48;2;255;175;175m\u001b[38;2;255;0;0m and\u001b[0m\u001b[48;2;255;175;175m\u001b[38;2;255;0;0m fruits\u001b[0m\u001b[48;2;255;175;175m\u001b[38;2;255;0;0m into\u001b[0m\u001b[48;2;255;175;175m\u001b[38;2;255;0;0m your\u001b[0m\u001b[48;2;255;175;175m\u001b[38;2;255;0;0m diet\u001b[0m\u001b[48;2;255;175;175m\u001b[38;2;255;0;0m for\u001b[0m\u001b[48;2;255;175;175m\u001b[38;2;255;0;0m strong\u001b[0m\u001b[48;2;255;175;175m\u001b[38;2;255;0;0m teeth\u001b[0m\u001b[48;2;255;175;175m\u001b[38;2;255;0;0m and\u001b[0m\u001b[48;2;255;175;175m\u001b[38;2;255;0;0m gums\u001b[0m\u001b[48;2;255;175;175m\u001b[38;2;255;0;0m.\",\u001b[0m\u001b[48;2;255;175;175m\u001b[38;2;255;0;0m result\u001b[0m\u001b[48;2;255;175;175m\u001b[38;2;255;0;0m);\n",
      "\u001b[0m\u001b[48;2;255;175;175m\u001b[38;2;255;0;0m       \u001b[0m\u001b[48;2;255;175;175m\u001b[38;2;255;0;0m }\n",
      "\u001b[0m\u001b[48;2;255;175;175m\u001b[38;2;255;0;0m   \u001b[0m\u001b[48;2;255;175;175m\u001b[38;2;255;0;0m };\n",
      "\n",
      "\u001b[0m\u001b[48;2;255;175;175m\u001b[38;2;255;0;0m   \u001b[0m\u001b[48;2;255;175;175m\u001b[38;2;255;0;0m return\u001b[0m\u001b[48;2;255;175;175m\u001b[38;2;255;0;0m result\u001b[0m\u001b[48;2;255;175;175m\u001b[38;2;255;0;0m;\n",
      "\u001b[0m\u001b[48;2;255;175;175m\u001b[38;2;255;0;0m}\n",
      "\n",
      "\u001b[0m\u001b[48;2;255;175;175m\u001b[38;2;255;0;0m//\u001b[0m\u001b[48;2;255;175;175m\u001b[38;2;255;0;0m Example\u001b[0m\u001b[48;2;255;175;175m\u001b[38;2;255;0;0m usage\u001b[0m\u001b[48;2;255;175;175m\u001b[38;2;255;0;0m:\n",
      "\u001b[0m\u001b[48;2;255;175;175m\u001b[38;2;255;0;0mlet\u001b[0m\u001b[48;2;255;175;175m\u001b[38;2;255;0;0m diet\u001b[0m\u001b[48;2;255;175;175m\u001b[38;2;255;0;0m =\u001b[0m\u001b[48;2;255;175;175m\u001b[38;2;255;0;0m \"\u001b[0m\u001b[48;2;255;175;175m\u001b[38;2;255;0;0mveget\u001b[0m\u001b[48;2;255;175;175m\u001b[38;2;255;0;0mables\u001b[0m\u001b[48;2;255;175;175m\u001b[38;2;255;0;0m\";\n",
      "\u001b[0m\u001b[48;2;255;175;175m\u001b[38;2;255;0;0mprintln\u001b[0m\u001b[48;2;255;175;175m\u001b[38;2;255;0;0m!(\"{}\",\u001b[0m\u001b[48;2;255;175;175m\u001b[38;2;255;0;0m check\u001b[0m\u001b[48;2;255;175;175m\u001b[38;2;255;0;0m_low\u001b[0m\u001b[48;2;255;175;175m\u001b[38;2;255;0;0m_or\u001b[0m\u001b[48;2;255;175;175m\u001b[38;2;255;0;0mal\u001b[0m\u001b[48;2;255;175;175m\u001b[38;2;255;0;0m_health\u001b[0m\u001b[48;2;255;175;175m\u001b[38;2;255;0;0m(&\u001b[0m\u001b[48;2;255;175;175m\u001b[38;2;255;0;0mdiet\u001b[0m\u001b[48;2;255;175;175m\u001b[38;2;255;0;0m));\n",
      "\u001b[0m\u001b[48;2;255;175;175m\u001b[38;2;255;0;0m``\u001b[0m\u001b[48;2;255;175;175m\u001b[38;2;255;0;0m`\n",
      "\u001b[0m\n"
     ]
    }
   ],
   "source": [
    "highlight_feature(subset[1], sorted_indices[0], model, sae, tokenizer)"
   ]
  },
  {
   "cell_type": "markdown",
   "metadata": {},
   "source": [
    "Some features I have naively labelled"
   ]
  },
  {
   "cell_type": "code",
   "execution_count": 26,
   "metadata": {},
   "outputs": [
    {
     "name": "stdout",
     "output_type": "stream",
     "text": [
      "system\n",
      "You are Qwen, a helpful coding assistant.\n",
      "user\n",
      "Develop a C# program snippet to Display Low Finance: Investment Management for Analysis for Experts. Incorporate if/else or switch/case statements to handle various cases related to the Responsibility. Dry-run, ensure your control flow logic is clear and well-commented.\n",
      "assistant\n",
      "Here is some sample C# code which implements low finance investment management functionality as requested:\n",
      "\n",
      "\u001b[48;2;255;175;175m\u001b[38;2;255;0;0m   \u001b[0m ```csharp\n",
      "\u001b[48;2;255;175;175m\u001b[38;2;255;0;0m   \u001b[0m public class InvestmentManager\n",
      "    {\n",
      "        private double _initialInvestment;\n",
      "        private int _yearsToGrowth;\n",
      "\n",
      "        // Constructor\n",
      "        public InvestmentManager(double initialInvestment, int yearsToGrowth)\n",
      "        {\n",
      "            this._initialInvest\u001b[48;2;255;175;175m\u001b[38;2;255;0;0mment\u001b[0m = initialInvestment;\n",
      "            this._yearsToGrowth = yearsToGrowth;\n",
      "        }\n",
      "\n",
      "        // Calculate interest earned based on time passed since initial deposit\n",
      "        public double CalcInterestEarned()\n",
      "        {\n",
      "            return (_initialInvestment * (Math.Pow((1 + 0.05), _yearsToGrowth))) - _initialInvestment;\n",
      "        }\n",
      "\n",
      "        // Determine next action based on current balance and performance of stock market\n",
      "        public string DetermineNextAction(StockMarketData stockMarketData)\n",
      "        {\n",
      "            var currentBalance = _initialInvestment;\n",
      "\n",
      "            // Check if stock market has grown enough during specified period\n",
      "            if (stockMarketData.GetTotalGrowth() >= _yearsToGrowth * 0.05)\n",
      "            {\n",
      "                // Increase investment by calculated percentage of growth\n",
      "                currentBalance += ((_initialInvestment * 0.05) * _yearsToGrowth);\n",
      "\n",
      "                return $\"Invested additional {_initialInvestment * 0.05} ({currentBalance})\";\n",
      "            }\n",
      "            else\n",
      "            {\n",
      "                // Do nothing and keep investing at current rate\n",
      "                return \"No change made\";\n",
      "            }\n",
      "        }\n",
      "    }\n",
      "    \n",
      "    public class StockMarketData\n",
      "    {\n",
      "        private List<double> _growthRates;\n",
      "\n",
      "        // Mock up historical stock market data\n",
      "        public StockMarketData()\n",
      "        {\n",
      "            _growthRates = new List<double>() { 0.23, 0.47\u001b[48;2;255;175;175m\u001b[38;2;255;0;0m,\u001b[0m 0.68, 0.9 };\n",
      "        }\n",
      "\n",
      "        // Get total growth from beginning of simulation until now\n",
      "        public double GetTotalGrowth()\n",
      "        {\n",
      "            double totalGrowth = 0;\n",
      "            foreach (var growthRate in _growthRates)\n",
      "            {\n",
      "                totalGrowth += growthRate;\n",
      "            }\n",
      "\n",
      "            return totalGrowth;\n",
      "        }\n",
      "    }\n",
      "    ```\n",
      "\n",
      " This code defines two classes\u001b[48;2;255;175;175m\u001b[38;2;255;0;0m:\u001b[0m `InvestmentManager\u001b[48;2;255;175;175m\u001b[38;2;255;0;0m`\u001b[0m and `StockMarketData`. The `InvestmentManager\u001b[48;2;255;175;175m\u001b[38;2;255;0;0m`\u001b[0m\u001b[48;2;255;175;175m\u001b[38;2;255;0;0m class\u001b[0m manages an initial investment and calculates interest earned over a specific number of years. It also determines what action to take based on the performance of the stock market. The `StockMarketData` class simulates historical stock market data and provides methods for getting the total growth over a given period.\n",
      "\n",
      "In the main method of the program, we create an instance of each class and call the appropriate methods to see how they interact. Here is an example output when running the program:\n",
      "\n",
      "\u001b[48;2;255;175;175m\u001b[38;2;255;0;0m   \u001b[0m Initial investment: $10\u001b[48;2;255;175;175m\u001b[38;2;255;0;0m,\u001b[0m000\n",
      "    Years to grow: \u001b[48;2;255;175;175m\u001b[38;2;255;0;0m5\u001b[0m\n",
      "    Interest earned: $500 ($10\u001b[48;2;255;175;175m\u001b[38;2;255;0;0m,\u001b[0m500)\n",
      "    Current stock market growth: 0.9\n",
      "    Next action: Invested additional $500 (10,500)\n",
      "\n"
     ]
    }
   ],
   "source": [
    "highlight_feature(subset[-1], sorted_indices[9], model, sae, tokenizer)"
   ]
  },
  {
   "cell_type": "code",
   "execution_count": 139,
   "metadata": {},
   "outputs": [
    {
     "name": "stdout",
     "output_type": "stream",
     "text": [
      "system\n",
      "You are Qwen, a helpful coding assistant.\n",
      "user\n",
      "Build a Go module snippet that Checks\u001b[48;2;255;175;175m\u001b[38;2;255;0;0m High\u001b[0m\u001b[48;2;255;175;175m\u001b[38;2;255;0;0m Hy\u001b[0mgiene in shared spaces: Cleaning and Disinfecting Common Areas for Engineer for Experts. Incorporate if/else or switch/case statements to handle different cases based on the Privacy. Ensure your control flow is well-documented with comments explaining your approach.\n",
      "assistant\n",
      "Here's some sample Go code that implements high hygiene checks during cleaning and disinfection of common areas in a building:\n",
      "\n",
      "    package main\n",
      "    \n",
      "   \u001b[48;2;255;207;207m\u001b[38;2;162;0;0m import\u001b[0m (\n",
      "        \"fmt\"\n",
      "    )\n",
      "    \n",
      "    func Check\u001b[48;2;255;175;175m\u001b[38;2;255;0;0mHy\u001b[0mgiene(privacy string) {\n",
      "        // Determine appropriate action based on privacy level\n",
      "        var action string\n",
      "    \n",
      "        switch privacy {\n",
      "        case \"public\":\n",
      "            fmt.Println(\"Disinfect all surfaces\")\n",
      "        case \"private\":\n",
      "            fmt.Println(\"Wipe down surfaces with disinfectant wipes\")\n",
      "        default:\n",
      "            fmt.Println(\"Invalid input\")\n",
      "        }\n",
      "    }\n",
      "    \n",
      "    func Main() {\n",
      "        Check\u001b[48;2;255;175;175m\u001b[38;2;255;0;0mHy\u001b[0mgiene(\"public\")\n",
      "        Check\u001b[48;2;255;175;175m\u001b[38;2;255;0;0mHy\u001b[0mgiene(\"private\")\n",
      "    }\n",
      "    \n",
      " This code defines two functions - `Check\u001b[48;2;255;175;175m\u001b[38;2;255;0;0mHy\u001b[0mgiene` which determines the correct action based on the specified privacy level, and `Main` which calls the `Check\u001b[48;2;255;175;175m\u001b[38;2;255;0;0mHy\u001b[0mgiene` function twice with different inputs to demonstrate how the logic works. The `switch` statement allows us to easily add new cases as needed without having to modify existing code. Additionally, we use a `default` clause to provide a fallback option in case no matching case is found.\n",
      "\n"
     ]
    }
   ],
   "source": [
    "highlight_feature(subset[2], sorted_indices[89], model, sae, tokenizer)"
   ]
  },
  {
   "cell_type": "code",
   "execution_count": 145,
   "metadata": {},
   "outputs": [
    {
     "name": "stdout",
     "output_type": "stream",
     "text": [
      "system\n",
      "You are Qwen\u001b[48;2;255;175;175m\u001b[38;2;255;0;0m,\u001b[0m a helpful coding assistant\u001b[48;2;255;180;180m\u001b[38;2;238;0;0m.\n",
      "\u001b[0muser\n",
      "Develop a Rust program snippet to Display Low Travel\u001b[48;2;255;175;175m\u001b[38;2;255;0;0m:\u001b[0m Travel Itineraries for Decision Making for Beginners\u001b[48;2;255;175;175m\u001b[38;2;255;0;0m.\u001b[0m Incorporate if/else or switch/case statements to handle various cases related to the Reliability\u001b[48;2;255;175;175m\u001b[38;2;255;0;0m.\u001b[0m Dry-run\u001b[48;2;255;175;175m\u001b[38;2;255;0;0m,\u001b[0m ensure your control flow logic is clear and well-commented\u001b[48;2;255;175;175m\u001b[38;2;255;0;0m.\n",
      "\u001b[0massistant\u001b[48;2;255;175;175m\u001b[38;2;255;0;0m\n",
      "\u001b[0mHere's some sample Rust code that displays low travel\u001b[48;2;255;175;175m\u001b[38;2;255;0;0m:\u001b[0m Travel itineraries for decision making for beginners based on reliability\u001b[48;2;255;187;187m\u001b[38;2;220;0;0m:\n",
      "\u001b[0m```rust \n",
      "fn main() {\n",
      "\u001b[48;2;255;175;175m\u001b[38;2;255;0;0m   \u001b[0m let mut user_input = String::new();\n",
      "\n",
      "\u001b[48;2;255;175;175m\u001b[38;2;255;0;0m   \u001b[0m println\u001b[48;2;255;175;175m\u001b[38;2;255;0;0m!(\"\u001b[0mEnter destination:\");\n",
      "    std::io::stdin().read_line(&mut user_input)\n",
      "        .expect\u001b[48;2;255;175;175m\u001b[38;2;255;0;0m(\"\u001b[0mFailed to read input\");\n",
      "    \n",
      "\u001b[48;2;255;175;175m\u001b[38;2;255;0;0m   \u001b[0m match user_input.trim() {\n",
      "        \"London\" => {\n",
      "\u001b[48;2;255;175;175m\u001b[38;2;255;0;0m           \u001b[0m println!(\"\\\u001b[48;2;255;175;175m\u001b[38;2;255;0;0mn\u001b[0mLowest fare from New\u001b[48;2;255;175;175m\u001b[38;2;255;0;0m York\u001b[0m to London via Icelandair:\\n$450 round trip including taxes\")\n",
      "        }\n",
      "        \"Paris\" => {\n",
      "\u001b[48;2;255;175;175m\u001b[38;2;255;0;0m           \u001b[0m println!(\"\\\u001b[48;2;255;175;175m\u001b[38;2;255;0;0mn\u001b[0mChe\u001b[48;2;255;175;175m\u001b[38;2;255;0;0mapest\u001b[0m flight from San Francisco to Paris:\\n$782 one way on Air France\")\n",
      "        }\n",
      "        _ => {\n",
      "\u001b[48;2;255;176;176m\u001b[38;2;249;0;0m           \u001b[0m println\u001b[48;2;255;175;175m\u001b[38;2;255;0;0m!(\"\u001b[0mInvalid destination entered.\")\n",
      "        }\n",
      "    };\n",
      "}\n",
      "``\u001b[48;2;255;175;175m\u001b[38;2;255;0;0m`\n",
      "\u001b[0mIn this code\u001b[48;2;255;175;175m\u001b[38;2;255;0;0m,\u001b[0m we use a `match` expression to determine which case to execute depending on the value of `user_input\u001b[48;2;255;175;175m\u001b[38;2;255;0;0m`.\u001b[0m\u001b[48;2;255;175;175m\u001b[38;2;255;0;0m If\u001b[0m the user enters `\"London\u001b[48;2;255;175;175m\u001b[38;2;255;0;0m\"\u001b[0m\u001b[48;2;255;175;175m\u001b[38;2;255;0;0m`,\u001b[0m\u001b[48;2;255;175;175m\u001b[38;2;255;0;0m we\u001b[0m print out information about the lowest fare from New York to London via Icelandair\u001b[48;2;255;175;175m\u001b[38;2;255;0;0m.\u001b[0m\u001b[48;2;255;175;175m\u001b[38;2;255;0;0m If\u001b[0m they enter `\"Paris\u001b[48;2;255;175;175m\u001b[38;2;255;0;0m\"`\u001b[0m we print out information about the\u001b[48;2;255;175;175m\u001b[38;2;255;0;0m cheapest\u001b[0m flight from San Francisco to Paris\u001b[48;2;255;175;175m\u001b[38;2;255;0;0m.\u001b[0m\u001b[48;2;255;175;175m\u001b[38;2;255;0;0m And\u001b[0m finally\u001b[48;2;255;175;175m\u001b[38;2;255;0;0m,\u001b[0m if no valid destinations were entered\u001b[48;2;255;175;175m\u001b[38;2;255;0;0m,\u001b[0m\u001b[48;2;255;175;175m\u001b[38;2;255;0;0m we\u001b[0m print out an error message\u001b[48;2;255;175;175m\u001b[38;2;255;0;0m.\n",
      "\u001b[0m\n"
     ]
    }
   ],
   "source": [
    "highlight_feature(subset[9], sorted_indices[9], model, sae, tokenizer)"
   ]
  },
  {
   "cell_type": "code",
   "execution_count": null,
   "metadata": {},
   "outputs": [],
   "source": []
  }
 ],
 "metadata": {
  "kernelspec": {
   "display_name": "Python 3 (ipykernel)",
   "language": "python",
   "name": "python3"
  },
  "language_info": {
   "codemirror_mode": {
    "name": "ipython",
    "version": 3
   },
   "file_extension": ".py",
   "mimetype": "text/x-python",
   "name": "python",
   "nbconvert_exporter": "python",
   "pygments_lexer": "ipython3",
   "version": "3.10.13"
  }
 },
 "nbformat": 4,
 "nbformat_minor": 4
}
