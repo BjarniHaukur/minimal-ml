{
 "cells": [
  {
   "cell_type": "markdown",
   "metadata": {},
   "source": [
    "# Crosscoders\n",
    "Attempting to recreate the SAE model Anthropic wrote about recently.\n",
    "\n",
    "Its a SAE which is layer and model agnostic.\n",
    "\n",
    "I'm not sure about the model agnostic part, but I have an idea about the layer agnostic part."
   ]
  },
  {
   "cell_type": "code",
   "execution_count": 32,
   "metadata": {},
   "outputs": [],
   "source": [
    "import torch\n",
    "import torch.nn as nn\n",
    "import torch.nn.functional as F\n",
    "from torch.optim import Adam\n",
    "from torch.utils.data import DataLoader\n",
    "\n",
    "from transformers import AutoTokenizer, AutoModelForCausalLM\n",
    "\n",
    "from datasets import load_dataset"
   ]
  },
  {
   "cell_type": "code",
   "execution_count": null,
   "metadata": {},
   "outputs": [],
   "source": [
    "DEVICE = \"mps\"\n",
    "\n",
    "tokenizer = AutoTokenizer.from_pretrained(\"Qwen/Qwen2.5-Coder-1.5B-Instruct\")\n",
    "model = AutoModelForCausalLM.from_pretrained(\"Qwen/Qwen2.5-Coder-1.5B-Instruct\").to(DEVICE)\n",
    "model.eval()\n",
    "\n",
    "tokens = tokenizer.encode(\"print(\\\"Hello\", return_tensors=\"pt\").to(DEVICE)\n",
    "generation = model.generate(tokens, max_new_tokens=20, pad_token_id=tokenizer.eos_token_id)\n",
    "print(tokenizer.decode(generation[0], skip_special_tokens=True))"
   ]
  },
  {
   "cell_type": "markdown",
   "metadata": {},
   "source": [
    "We can very simply get the hidden states by setting output_hidden_states=True flag."
   ]
  },
  {
   "cell_type": "code",
   "execution_count": 4,
   "metadata": {},
   "outputs": [
    {
     "data": {
      "text/plain": [
       "(29, torch.Size([1, 3, 1536]))"
      ]
     },
     "execution_count": 4,
     "metadata": {},
     "output_type": "execute_result"
    }
   ],
   "source": [
    "out = model(tokens, output_hidden_states=True)\n",
    "\n",
    "# train SAE on these\n",
    "len(out.hidden_states), out.hidden_states[0].shape\n"
   ]
  },
  {
   "cell_type": "markdown",
   "metadata": {},
   "source": [
    "and we can register hooks to modify the activations as we please."
   ]
  },
  {
   "cell_type": "code",
   "execution_count": null,
   "metadata": {},
   "outputs": [],
   "source": [
    "layer = model.model.layers[0].mlp.up_proj\n",
    "\n",
    "hook = layer.register_forward_hook(lambda module, input, output: output * 0)\n",
    "\n",
    "generation = model.generate(tokens, max_new_tokens=20, pad_token_id=tokenizer.eos_token_id)\n",
    "print(tokenizer.decode(generation[0], skip_special_tokens=True))\n",
    "\n",
    "hook.remove()\n",
    "\n",
    "generation = model.generate(tokens, max_new_tokens=20, pad_token_id=tokenizer.eos_token_id)\n",
    "print(tokenizer.decode(generation[0], skip_special_tokens=True))"
   ]
  },
  {
   "cell_type": "code",
   "execution_count": 6,
   "metadata": {},
   "outputs": [],
   "source": [
    "N_LAYERS = model.config.num_hidden_layers\n",
    "HIDDEN_SIZE = model.config.hidden_size"
   ]
  },
  {
   "cell_type": "code",
   "execution_count": null,
   "metadata": {},
   "outputs": [],
   "source": [
    "# these models are specifically trained on specific chat formats\n",
    "# the (system, user, assistant) format is just a fancy string in the end\n",
    "def format_to_chat(example):\n",
    "    messages = [\n",
    "        {\"role\": \"system\", \"content\": \"You are Qwen, a helpful coding assistant.\"},\n",
    "        {\"role\": \"user\", \"content\": example['prompt']},\n",
    "        {\"role\": \"assistant\", \"content\": example['response']}\n",
    "    ]\n",
    "    \n",
    "    chat_format = tokenizer.apply_chat_template(messages, tokenize=True)\n",
    "    return {\"chat_ids\": chat_format}\n",
    "\n",
    "\n",
    "train_ds = load_dataset(\"nampdn-ai/tiny-codes\", split=\"train\").shuffle(seed=42)\n",
    "\n",
    "train_ds = train_ds.select(range(100000))  # for laptop side testing\n",
    "train_ds = train_ds.map(format_to_chat, num_proc=8)\n",
    "\n",
    "\n",
    "val_ds = train_ds.take(len(train_ds) // 20)\n",
    "train_ds = train_ds.skip(len(train_ds) // 20)\n",
    "\n",
    "len(train_ds), len(val_ds)"
   ]
  },
  {
   "cell_type": "code",
   "execution_count": 8,
   "metadata": {},
   "outputs": [
    {
     "data": {
      "text/plain": [
       "torch.Size([411, 1536])"
      ]
     },
     "execution_count": 8,
     "metadata": {},
     "output_type": "execute_result"
    }
   ],
   "source": [
    "x = torch.tensor(train_ds[0][\"chat_ids\"])[None].to(DEVICE) # add batch dimension\n",
    "attn = torch.tril(torch.ones(1, x.shape[1], x.shape[1])).bool().to(DEVICE)\n",
    "\n",
    "out = model(x, attention_mask=attn, output_hidden_states=True)\n",
    "\n",
    "out.hidden_states[0].reshape(-1, HIDDEN_SIZE).shape"
   ]
  },
  {
   "cell_type": "markdown",
   "metadata": {},
   "source": [
    "To inform the SAE of which layer it is being applied to, we encode the layer position into the activations via a sinusoidal positional encoding."
   ]
  },
  {
   "cell_type": "code",
   "execution_count": 9,
   "metadata": {},
   "outputs": [],
   "source": [
    "import math\n",
    "\n",
    "class SinusoidalPositionalEncoding(nn.Module):\n",
    "    def __init__(self, hidden_size, max_len):\n",
    "        super().__init__()\n",
    "        self.hidden_size = hidden_size\n",
    "        self.max_len = max_len\n",
    "        \n",
    "        position = torch.arange(max_len).unsqueeze(1)\n",
    "        div_term = torch.exp(torch.arange(0, hidden_size, 2) * (-math.log(10000.0) / hidden_size))\n",
    "        \n",
    "        pe = torch.zeros(max_len, hidden_size)\n",
    "        pe[:, 0::2] = torch.sin(position * div_term)\n",
    "        pe[:, 1::2] = torch.cos(position * div_term)\n",
    "        \n",
    "        self.register_buffer('pe', pe)\n",
    "\n",
    "    def forward(self, x, pos):\n",
    "        return x + self.pe[pos]"
   ]
  },
  {
   "cell_type": "markdown",
   "metadata": {},
   "source": [
    "The sparse autoencoder itself is quite simple. It's a traditional autoencoder, but with a twist: instead of 'compressing' the input through a bottleneck, it's overcomplete - meaning it has a larger hidden size than the input size.\n",
    "\n",
    "There are different ways of achieving sparsity in these activations. One popular formulation uses a top_k activation function to ensure only the k most important features remain active, while others methods directly optimize for sparsity through various loss terms.\n",
    "\n",
    "The model is trained to reconstruct its input from these sparse activations using reconstruction loss. We can also evaluate its effectiveness by measuring \"recovered\" loss - essentially comparing the next-token prediction accuracy (via negative log-likelihood) both before and after applying the SAE intervention. This helps us understand how well the SAE preserves the important information from the original representations."
   ]
  },
  {
   "cell_type": "code",
   "execution_count": 10,
   "metadata": {},
   "outputs": [
    {
     "data": {
      "text/plain": [
       "torch.Size([411, 1536])"
      ]
     },
     "execution_count": 10,
     "metadata": {},
     "output_type": "execute_result"
    }
   ],
   "source": [
    "K = 32\n",
    "\n",
    "class TopKSAE(nn.Module):\n",
    "    def __init__(self, input_size, hidden_size, n_layers, top_k):\n",
    "        super().__init__()\n",
    "        self.input_size, self.hidden_size, self.n_layers, self.top_k = input_size, hidden_size, n_layers, top_k\n",
    "        \n",
    "        self.pos_enc = SinusoidalPositionalEncoding(input_size, max_len=n_layers)\n",
    "        self.encoder = nn.Linear(input_size, hidden_size)\n",
    "        self.decoder = nn.Linear(hidden_size, input_size)\n",
    "        \n",
    "    def encode(self, x, pos):\n",
    "        x = self.pos_enc(x, pos)\n",
    "        x = self.encoder(x)\n",
    "        top_k = torch.topk(x, k=self.top_k)\n",
    "        return top_k.indices, top_k.values\n",
    "    \n",
    "    def decode(self, indices, values):\n",
    "        sparse = torch.zeros(indices.shape[0], self.hidden_size).to(indices.device)\n",
    "        sparse.scatter_(1, indices, values)\n",
    "        return self.decoder(sparse)\n",
    "\n",
    "    def forward(self, x, pos):\n",
    "        indices, values = self.encode(x, pos)\n",
    "        return self.decode(indices, values)\n",
    "    \n",
    "\n",
    "\n",
    "sae = TopKSAE(HIDDEN_SIZE, HIDDEN_SIZE * 4, N_LAYERS, K).to(DEVICE)\n",
    "activations = out.hidden_states[0].reshape(-1, HIDDEN_SIZE)\n",
    "positions = torch.tensor([0] * len(activations))\n",
    "sae(activations, positions).shape\n"
   ]
  },
  {
   "cell_type": "markdown",
   "metadata": {},
   "source": [
    "I am borrowing an idea from diffusion models and will encode at which layer in the transformer model, the SAE is being applied to (in diffusion it would be the level of noise being on the image that it needs to denoise).\n",
    "\n",
    "Here I implement a sinusoidal positional encoding for the layers. One could also use learnable embeddings, but I fear that would \"divide\" the expressiveness of the SAE between these embeddings and the SAE itself. Using static Sinusoidal PE sounds like a better option."
   ]
  },
  {
   "cell_type": "markdown",
   "metadata": {},
   "source": [
    "Now to train\n",
    "\n",
    "Firstly, I dislike the habit people have of doing an entire training epoch before validating (especially since datasets can be huge). So I more often than not do the following"
   ]
  },
  {
   "cell_type": "code",
   "execution_count": 11,
   "metadata": {},
   "outputs": [],
   "source": [
    "EPOCHS = 0\n",
    "BATCH_SIZE = 32\n",
    "MAX_SEQ_LEN = 1024\n",
    "\n",
    "\n",
    "def cycle(dl):\n",
    "    while True: yield from dl\n",
    "\n",
    "def collate_fn(batch):\n",
    "    input_ids = [torch.tensor(item[\"chat_ids\"][:MAX_SEQ_LEN]) for item in batch]\n",
    "    input_ids = nn.utils.rnn.pad_sequence(input_ids, batch_first=True)\n",
    "    B, L = input_ids.shape\n",
    "    \n",
    "    return {\n",
    "        \"input_ids\": input_ids,\n",
    "        \"attention_mask\": torch.tril(torch.ones(B, 1, L, L)).float()\n",
    "    }\n",
    "\n",
    "train_loader = DataLoader(train_ds, batch_size=BATCH_SIZE, collate_fn=collate_fn)\n",
    "val_loader = DataLoader(val_ds, batch_size=BATCH_SIZE, collate_fn=collate_fn)\n",
    "\n",
    "\n",
    "N_STEPS_PER_TRAIN_EPOCH = len(train_loader)\n",
    "N_STEPS_PER_VAL_EPOCH = len(val_loader)\n",
    "\n",
    "INTERLEAVE_EVERY = 100\n",
    "N_VALIDATION_STEPS = N_STEPS_PER_VAL_EPOCH // (N_STEPS_PER_TRAIN_EPOCH // INTERLEAVE_EVERY)\n",
    "\n",
    "SAVE_EVERY = N_STEPS_PER_TRAIN_EPOCH // 100 # 20 times per epoch\n",
    "\n",
    "\n",
    "train_iter = cycle(train_loader)\n",
    "val_iter = cycle(val_loader)"
   ]
  },
  {
   "cell_type": "markdown",
   "metadata": {},
   "source": [
    "Secondly, it feels almost wasteful to only use one random layer per item.\n",
    "\n",
    "But perhaps using multiple layers per position would actually hurt training.\n",
    "\n",
    "Adjacent layers process the same token through successive transformations (and has skip connections), which creates highly correlated features. This correlation is perhaps stronger than the relationship between different positions in the sequence. Using multiple layers per position would likely reduce our batch diversity, as we'd be training on variations of the same underlying features rather than truly independent samples."
   ]
  },
  {
   "cell_type": "code",
   "execution_count": null,
   "metadata": {},
   "outputs": [],
   "source": [
    "import wandb\n",
    "from tqdm import tqdm\n",
    "\n",
    "wandb.init(project=\"sae-training\")\n",
    "\n",
    "optim = Adam(sae.parameters(), lr=3e-4, weight_decay=1e-4)\n",
    "\n",
    "train_loss, val_loss = float(\"inf\"), float(\"inf\")\n",
    "train_losses, val_losses = [], []\n",
    "\n",
    "def sae_step(batch):\n",
    "    B, L = batch[\"input_ids\"].shape\n",
    "    with torch.no_grad():\n",
    "        out = model(batch[\"input_ids\"].to(DEVICE), attention_mask=batch[\"attention_mask\"].to(DEVICE), output_hidden_states=True)\n",
    "\n",
    "    # Generate random layer for each position in the batch/sequence\n",
    "    random_layers = torch.randint(0, N_LAYERS, (B * L,))\n",
    "    \n",
    "    # Gather hidden states from random layers for each position\n",
    "    all_hidden = torch.stack(out.hidden_states)  # [n_layers, batch_size, seq_len, hidden_size]\n",
    "    all_hidden = all_hidden.permute(1, 2, 0, 3)  # [batch_size, seq_len, n_layers, hidden_size]\n",
    "    \n",
    "    # Create indices for gathering\n",
    "    batch_indices = torch.arange(B).repeat_interleave(L)\n",
    "    seq_indices = torch.arange(L).repeat(B)\n",
    "    \n",
    "    # Gather the hidden states using the random layers\n",
    "    inputs = all_hidden[batch_indices, seq_indices, random_layers]  # [batch_size*seq_len, hidden_size]\n",
    "    \n",
    "    reconstructed = sae(inputs, random_layers)\n",
    "    \n",
    "    return F.mse_loss(reconstructed, inputs)\n",
    "\n",
    "step_iter = tqdm(range(EPOCHS * N_STEPS_PER_TRAIN_EPOCH), desc=\"Training\")\n",
    "for step in step_iter:\n",
    "    batch = next(train_iter)\n",
    "    \n",
    "    loss = sae_step(batch)\n",
    "    \n",
    "    optim.zero_grad()\n",
    "    loss.backward()\n",
    "    optim.step()\n",
    "    \n",
    "    train_losses.append(loss.item())\n",
    "    train_loss = loss.item()\n",
    "    \n",
    "    wandb.log({\"train_loss\": train_loss}, step=step)\n",
    "    \n",
    "    step_iter.set_postfix({\"Train Loss\": f\"{train_loss:.4f}\", \"Val Loss\": f\"{val_loss:.4f}\"})\n",
    "    \n",
    "    if step % INTERLEAVE_EVERY == 0:\n",
    "        interleaved_losses = []\n",
    "        for _ in range(N_VALIDATION_STEPS):\n",
    "            batch = next(val_iter)\n",
    "            with torch.no_grad():\n",
    "                loss = sae_step(batch)\n",
    "                interleaved_losses.append(loss.item())\n",
    "                \n",
    "                val_loss = loss.item()\n",
    "                \n",
    "                step_iter.set_postfix({\"Train Loss\": f\"{train_loss:.4f}\", \"Val Loss\": f\"{val_loss:.4f}\"})\n",
    "\n",
    "        val_loss = sum(interleaved_losses) / len(interleaved_losses)\n",
    "        val_losses.append(val_loss)\n",
    "        wandb.log({\"val_loss\": val_loss}, step=step)\n",
    "        \n",
    "    if step % SAVE_EVERY == 0 and step > 0:\n",
    "        torch.save(sae.state_dict(), f\"sae_{step}.pth\")\n"
   ]
  },
  {
   "cell_type": "code",
   "execution_count": null,
   "metadata": {},
   "outputs": [],
   "source": [
    "from matplotlib import pyplot as plt\n",
    "plt.figure(figsize=(10, 6))\n",
    "plt.plot(range(len(train_losses)), train_losses, label='Train Loss', alpha=0.5)\n",
    "# Ensure validation points align with training points by using same length arrays\n",
    "val_steps = range(0, len(train_losses), INTERLEAVE_EVERY)\n",
    "val_losses_padded = val_losses + [val_losses[-1]] * (len(val_steps) - len(val_losses))\n",
    "plt.plot(val_steps, val_losses_padded, label='Validation Loss', linewidth=2)\n",
    "plt.xlabel('Training Steps')\n",
    "plt.ylabel('Loss')\n",
    "plt.legend()\n",
    "plt.grid(True)\n",
    "plt.show()"
   ]
  },
  {
   "cell_type": "markdown",
   "metadata": {},
   "source": [
    "Still trending downwards, only trained this for 20-30 minutes on my mac. "
   ]
  },
  {
   "cell_type": "markdown",
   "metadata": {},
   "source": [
    "Now we can try to see whether the SAE is picking up on something interesting."
   ]
  },
  {
   "cell_type": "code",
   "execution_count": 15,
   "metadata": {},
   "outputs": [],
   "source": [
    "subset = val_ds.shuffle(seed=42).select(range(10))\n",
    "subset = [torch.tensor(x[\"chat_ids\"])[None] for x in subset]"
   ]
  },
  {
   "cell_type": "code",
   "execution_count": 16,
   "metadata": {},
   "outputs": [
    {
     "data": {
      "text/plain": [
       "<All keys matched successfully>"
      ]
     },
     "execution_count": 16,
     "metadata": {},
     "output_type": "execute_result"
    }
   ],
   "source": [
    "sae.load_state_dict(torch.load(\"sae_12342.pth\", map_location=DEVICE), strict=True)"
   ]
  },
  {
   "cell_type": "code",
   "execution_count": 17,
   "metadata": {},
   "outputs": [
    {
     "name": "stderr",
     "output_type": "stream",
     "text": [
      "100%|██████████| 10/10 [01:08<00:00,  6.85s/it]\n"
     ]
    }
   ],
   "source": [
    "LAYER = N_LAYERS // 2  # maybe the middle is interesting\n",
    "\n",
    "with torch.no_grad():\n",
    "    activations = [model(x.to(DEVICE), output_hidden_states=True).hidden_states[LAYER].reshape(-1, HIDDEN_SIZE) for x in tqdm(subset)]\n",
    "\n",
    "    activations = torch.cat(activations, dim=0)\n",
    "    positions = torch.tensor([LAYER] * len(activations))\n",
    "    \n",
    "    indices, values = sae.encode(activations, positions)\n"
   ]
  },
  {
   "cell_type": "code",
   "execution_count": 18,
   "metadata": {},
   "outputs": [
    {
     "data": {
      "text/plain": [
       "(tensor(0.5195, device='mps:0'),\n",
       " tensor(377.1314, device='mps:0'),\n",
       " tensor(4.7483, device='mps:0'),\n",
       " tensor(11.3045, device='mps:0'))"
      ]
     },
     "execution_count": 18,
     "metadata": {},
     "output_type": "execute_result"
    }
   ],
   "source": [
    "values.min(), values.max(), values.mean(), values.std()"
   ]
  },
  {
   "cell_type": "code",
   "execution_count": 19,
   "metadata": {},
   "outputs": [],
   "source": [
    "counts = torch.bincount(indices.flatten(), minlength=HIDDEN_SIZE * 2)\n",
    "\n",
    "sorted_indices = torch.sort(counts, descending=True).indices\n"
   ]
  },
  {
   "cell_type": "code",
   "execution_count": 25,
   "metadata": {},
   "outputs": [],
   "source": [
    "def highlight_feature_activations(text, feature_idx, model, sae, tokenizer):\n",
    "    RESET = \"\\033[0m\"\n",
    "    def get_color(value):\n",
    "        normalized = max(0.0, min(1.0, math.log(value + 1e-5)))\n",
    "        \n",
    "        text_red = int(30 + 225 * normalized)  # increased range (30-255)\n",
    "        \n",
    "        bg_red = 255\n",
    "        bg_green = bg_blue = int(255 - (80 * normalized))  # doubled the reduction (255-175)\n",
    "        \n",
    "        return f\"\\033[48;2;{bg_red};{bg_green};{bg_blue}m\\033[38;2;{text_red};0;0m\"\n",
    "    \n",
    "    # Tokenize and get model outputs\n",
    "    tokens = tokenizer.encode(text, return_tensors=\"pt\").to(DEVICE)\n",
    "    with torch.no_grad():\n",
    "        outputs = model(tokens, output_hidden_states=True)\n",
    "        activations = outputs.hidden_states[LAYER]\n",
    "        activations = activations.reshape(-1, model.config.hidden_size)\n",
    "        positions = torch.tensor([LAYER] * len(activations))\n",
    "        \n",
    "        indices, values = sae.encode(activations, positions)\n",
    "        \n",
    "        # Create feature mask\n",
    "        feature_mask = (indices == feature_idx).any(dim=1)\n",
    "        feature_values = torch.zeros_like(feature_mask, dtype=torch.float)\n",
    "        for i, (idx, val) in enumerate(zip(indices, values)):\n",
    "            if feature_idx in idx:\n",
    "                # Get position of our feature in top features\n",
    "                feature_pos = (idx == feature_idx).nonzero()[0].item()\n",
    "                \n",
    "                # Check if feature is in top 32\n",
    "                if feature_pos < 32:\n",
    "                    feature_values[i] = val[idx == feature_idx].max()\n",
    "    \n",
    "    # Decode tokens and apply colors\n",
    "    tokens = tokens[0].cpu().numpy()\n",
    "    decoded = []\n",
    "    for i, token in enumerate(tokens):\n",
    "        word = tokenizer.decode([token])\n",
    "        if feature_values[i] > 0:  # Only highlight if it was in top 5\n",
    "            color = get_color(feature_values[i].item())\n",
    "            decoded.append(f\"{color}{word}{RESET}\")\n",
    "        else:\n",
    "            decoded.append(word)\n",
    "    \n",
    "    return \"\".join(decoded)\n",
    "\n",
    "def highlight_feature(text, feature_idx, model, sae, tokenizer):\n",
    "    example_text = tokenizer.decode(text[0], skip_special_tokens=False)\n",
    "    colored_text = highlight_feature_activations(example_text, feature_idx, model, sae, tokenizer)\n",
    "    print(colored_text)"
   ]
  },
  {
   "cell_type": "markdown",
   "metadata": {},
   "source": [
    "Now we can at last highlight the features.\n",
    "\n",
    "The most common activations appear to \"overfire\" in this small example we have done. "
   ]
  },
  {
   "cell_type": "code",
   "execution_count": 21,
   "metadata": {},
   "outputs": [
    {
     "name": "stdout",
     "output_type": "stream",
     "text": [
      "\u001b[48;2;255;175;175m\u001b[38;2;255;0;0m<|im_start|>\u001b[0m\u001b[48;2;255;175;175m\u001b[38;2;255;0;0msystem\u001b[0m\u001b[48;2;255;175;175m\u001b[38;2;255;0;0m\n",
      "\u001b[0m\u001b[48;2;255;175;175m\u001b[38;2;255;0;0mYou\u001b[0m\u001b[48;2;255;175;175m\u001b[38;2;255;0;0m are\u001b[0m\u001b[48;2;255;175;175m\u001b[38;2;255;0;0m Q\u001b[0m\u001b[48;2;255;175;175m\u001b[38;2;255;0;0mwen\u001b[0m\u001b[48;2;255;175;175m\u001b[38;2;255;0;0m,\u001b[0m\u001b[48;2;255;175;175m\u001b[38;2;255;0;0m a\u001b[0m\u001b[48;2;255;175;175m\u001b[38;2;255;0;0m helpful\u001b[0m\u001b[48;2;255;175;175m\u001b[38;2;255;0;0m coding\u001b[0m\u001b[48;2;255;175;175m\u001b[38;2;255;0;0m assistant\u001b[0m\u001b[48;2;255;175;175m\u001b[38;2;255;0;0m.\u001b[0m\u001b[48;2;255;175;175m\u001b[38;2;255;0;0m<|im_end|>\u001b[0m\u001b[48;2;255;175;175m\u001b[38;2;255;0;0m\n",
      "\u001b[0m\u001b[48;2;255;175;175m\u001b[38;2;255;0;0m<|im_start|>\u001b[0m\u001b[48;2;255;175;175m\u001b[38;2;255;0;0muser\u001b[0m\u001b[48;2;255;175;175m\u001b[38;2;255;0;0m\n",
      "\u001b[0m\u001b[48;2;255;175;175m\u001b[38;2;255;0;0mDesign\u001b[0m\u001b[48;2;255;175;175m\u001b[38;2;255;0;0m a\u001b[0m\u001b[48;2;255;175;175m\u001b[38;2;255;0;0m Go\u001b[0m\u001b[48;2;255;175;175m\u001b[38;2;255;0;0m function\u001b[0m\u001b[48;2;255;175;175m\u001b[38;2;255;0;0m snippet\u001b[0m\u001b[48;2;255;175;175m\u001b[38;2;255;0;0m to\u001b[0m\u001b[48;2;255;175;175m\u001b[38;2;255;0;0m Check\u001b[0m\u001b[48;2;255;175;175m\u001b[38;2;255;0;0m High\u001b[0m\u001b[48;2;255;175;175m\u001b[38;2;255;0;0m Hy\u001b[0m\u001b[48;2;255;175;175m\u001b[38;2;255;0;0mgiene\u001b[0m\u001b[48;2;255;175;175m\u001b[38;2;255;0;0m in\u001b[0m\u001b[48;2;255;175;175m\u001b[38;2;255;0;0m shared\u001b[0m\u001b[48;2;255;175;175m\u001b[38;2;255;0;0m spaces\u001b[0m\u001b[48;2;255;175;175m\u001b[38;2;255;0;0m:\u001b[0m\u001b[48;2;255;175;175m\u001b[38;2;255;0;0m Prevent\u001b[0m\u001b[48;2;255;175;175m\u001b[38;2;255;0;0ming\u001b[0m\u001b[48;2;255;175;175m\u001b[38;2;255;0;0m the\u001b[0m\u001b[48;2;255;175;175m\u001b[38;2;255;0;0m Spread\u001b[0m\u001b[48;2;255;175;175m\u001b[38;2;255;0;0m of\u001b[0m\u001b[48;2;255;175;175m\u001b[38;2;255;0;0m Ger\u001b[0m\u001b[48;2;255;175;175m\u001b[38;2;255;0;0mms\u001b[0m\u001b[48;2;255;175;175m\u001b[38;2;255;0;0m for\u001b[0m\u001b[48;2;255;175;175m\u001b[38;2;255;0;0m Analysis\u001b[0m\u001b[48;2;255;175;175m\u001b[38;2;255;0;0m for\u001b[0m\u001b[48;2;255;175;175m\u001b[38;2;255;0;0m Professionals\u001b[0m\u001b[48;2;255;175;175m\u001b[38;2;255;0;0m.\u001b[0m\u001b[48;2;255;175;175m\u001b[38;2;255;0;0m Implement\u001b[0m\u001b[48;2;255;175;175m\u001b[38;2;255;0;0m if\u001b[0m\u001b[48;2;255;175;175m\u001b[38;2;255;0;0m/\u001b[0m\u001b[48;2;255;175;175m\u001b[38;2;255;0;0melse\u001b[0m\u001b[48;2;255;175;175m\u001b[38;2;255;0;0m or\u001b[0m\u001b[48;2;255;175;175m\u001b[38;2;255;0;0m switch\u001b[0m\u001b[48;2;255;175;175m\u001b[38;2;255;0;0m/c\u001b[0m\u001b[48;2;255;175;175m\u001b[38;2;255;0;0mase\u001b[0m\u001b[48;2;255;175;175m\u001b[38;2;255;0;0m statements\u001b[0m\u001b[48;2;255;175;175m\u001b[38;2;255;0;0m to\u001b[0m\u001b[48;2;255;175;175m\u001b[38;2;255;0;0m handle\u001b[0m\u001b[48;2;255;175;175m\u001b[38;2;255;0;0m different\u001b[0m\u001b[48;2;255;175;175m\u001b[38;2;255;0;0m conditions\u001b[0m\u001b[48;2;255;175;175m\u001b[38;2;255;0;0m related\u001b[0m\u001b[48;2;255;175;175m\u001b[38;2;255;0;0m to\u001b[0m\u001b[48;2;255;175;175m\u001b[38;2;255;0;0m the\u001b[0m\u001b[48;2;255;175;175m\u001b[38;2;255;0;0m Safety\u001b[0m\u001b[48;2;255;175;175m\u001b[38;2;255;0;0m.\u001b[0m\u001b[48;2;255;175;175m\u001b[38;2;255;0;0m Provide\u001b[0m\u001b[48;2;255;175;175m\u001b[38;2;255;0;0m detailed\u001b[0m\u001b[48;2;255;175;175m\u001b[38;2;255;0;0m comments\u001b[0m\u001b[48;2;255;175;175m\u001b[38;2;255;0;0m explaining\u001b[0m\u001b[48;2;255;175;175m\u001b[38;2;255;0;0m your\u001b[0m\u001b[48;2;255;175;175m\u001b[38;2;255;0;0m control\u001b[0m\u001b[48;2;255;175;175m\u001b[38;2;255;0;0m flow\u001b[0m\u001b[48;2;255;175;175m\u001b[38;2;255;0;0m and\u001b[0m\u001b[48;2;255;175;175m\u001b[38;2;255;0;0m the\u001b[0m\u001b[48;2;255;175;175m\u001b[38;2;255;0;0m reasoning\u001b[0m\u001b[48;2;255;175;175m\u001b[38;2;255;0;0m behind\u001b[0m\u001b[48;2;255;175;175m\u001b[38;2;255;0;0m each\u001b[0m\u001b[48;2;255;175;175m\u001b[38;2;255;0;0m decision\u001b[0m\u001b[48;2;255;175;175m\u001b[38;2;255;0;0m.\u001b[0m\u001b[48;2;255;175;175m\u001b[38;2;255;0;0m<|im_end|>\u001b[0m\u001b[48;2;255;175;175m\u001b[38;2;255;0;0m\n",
      "\u001b[0m\u001b[48;2;255;175;175m\u001b[38;2;255;0;0m<|im_start|>\u001b[0m\u001b[48;2;255;175;175m\u001b[38;2;255;0;0massistant\u001b[0m\u001b[48;2;255;175;175m\u001b[38;2;255;0;0m\n",
      "\u001b[0m\u001b[48;2;255;175;175m\u001b[38;2;255;0;0mHere\u001b[0m\u001b[48;2;255;175;175m\u001b[38;2;255;0;0m is\u001b[0m\u001b[48;2;255;175;175m\u001b[38;2;255;0;0m a\u001b[0m\u001b[48;2;255;175;175m\u001b[38;2;255;0;0m possible\u001b[0m\u001b[48;2;255;175;175m\u001b[38;2;255;0;0m implementation\u001b[0m\u001b[48;2;255;175;175m\u001b[38;2;255;0;0m of\u001b[0m\u001b[48;2;255;175;175m\u001b[38;2;255;0;0m such\u001b[0m\u001b[48;2;255;175;175m\u001b[38;2;255;0;0m a\u001b[0m\u001b[48;2;255;175;175m\u001b[38;2;255;0;0m function\u001b[0m\u001b[48;2;255;175;175m\u001b[38;2;255;0;0m written\u001b[0m\u001b[48;2;255;175;175m\u001b[38;2;255;0;0m in\u001b[0m\u001b[48;2;255;175;175m\u001b[38;2;255;0;0m G\u001b[0m\u001b[48;2;255;175;175m\u001b[38;2;255;0;0molang\u001b[0m\u001b[48;2;255;175;175m\u001b[38;2;255;0;0m:\n",
      "\u001b[0m\u001b[48;2;255;175;175m\u001b[38;2;255;0;0m```\u001b[0m\u001b[48;2;255;175;175m\u001b[38;2;255;0;0mgo\u001b[0m\u001b[48;2;255;175;175m\u001b[38;2;255;0;0m\n",
      "\u001b[0m\u001b[48;2;255;175;175m\u001b[38;2;255;0;0mpackage\u001b[0m\u001b[48;2;255;175;175m\u001b[38;2;255;0;0m main\u001b[0m\u001b[48;2;255;175;175m\u001b[38;2;255;0;0m\n",
      "\n",
      "\u001b[0m\u001b[48;2;255;175;175m\u001b[38;2;255;0;0mimport\u001b[0m (\n",
      "\u001b[48;2;255;175;175m\u001b[38;2;255;0;0m   \u001b[0m\u001b[48;2;255;175;175m\u001b[38;2;255;0;0m \"\u001b[0m\u001b[48;2;255;175;175m\u001b[38;2;255;0;0mfmt\u001b[0m\u001b[48;2;255;175;175m\u001b[38;2;255;0;0m\"\n",
      "\u001b[0m\u001b[48;2;255;175;175m\u001b[38;2;255;0;0m)\n",
      "\n",
      "\u001b[0m\u001b[48;2;255;175;175m\u001b[38;2;255;0;0m//\u001b[0m\u001b[48;2;255;175;175m\u001b[38;2;255;0;0m Check\u001b[0m\u001b[48;2;255;175;175m\u001b[38;2;255;0;0mHy\u001b[0m\u001b[48;2;255;175;175m\u001b[38;2;255;0;0mgiene\u001b[0m\u001b[48;2;255;175;175m\u001b[38;2;255;0;0m checks\u001b[0m\u001b[48;2;255;175;175m\u001b[38;2;255;0;0m whether\u001b[0m\u001b[48;2;255;175;175m\u001b[38;2;255;0;0m a\u001b[0m\u001b[48;2;255;175;175m\u001b[38;2;255;0;0m space\u001b[0m\u001b[48;2;255;175;175m\u001b[38;2;255;0;0m has\u001b[0m\u001b[48;2;255;175;175m\u001b[38;2;255;0;0m high\u001b[0m\u001b[48;2;255;175;175m\u001b[38;2;255;0;0m hygiene\u001b[0m\u001b[48;2;255;175;175m\u001b[38;2;255;0;0m standards\u001b[0m\u001b[48;2;255;175;175m\u001b[38;2;255;0;0m\n",
      "\u001b[0m\u001b[48;2;255;175;175m\u001b[38;2;255;0;0mfunc\u001b[0m\u001b[48;2;255;175;175m\u001b[38;2;255;0;0m Check\u001b[0m\u001b[48;2;255;175;175m\u001b[38;2;255;0;0mHy\u001b[0m\u001b[48;2;255;175;175m\u001b[38;2;255;0;0mgiene\u001b[0m\u001b[48;2;255;175;175m\u001b[38;2;255;0;0m(condition\u001b[0m\u001b[48;2;255;175;175m\u001b[38;2;255;0;0m string\u001b[0m\u001b[48;2;255;175;175m\u001b[38;2;255;0;0m)\u001b[0m\u001b[48;2;255;175;175m\u001b[38;2;255;0;0m bool\u001b[0m\u001b[48;2;255;175;175m\u001b[38;2;255;0;0m {\n",
      "\u001b[0m\u001b[48;2;255;175;175m\u001b[38;2;255;0;0m   \u001b[0m\u001b[48;2;255;175;175m\u001b[38;2;255;0;0m //\u001b[0m\u001b[48;2;255;175;175m\u001b[38;2;255;0;0m Define\u001b[0m\u001b[48;2;255;175;175m\u001b[38;2;255;0;0m boolean\u001b[0m\u001b[48;2;255;175;175m\u001b[38;2;255;0;0m variable\u001b[0m\u001b[48;2;255;175;175m\u001b[38;2;255;0;0m to\u001b[0m\u001b[48;2;255;175;175m\u001b[38;2;255;0;0m store\u001b[0m\u001b[48;2;255;175;175m\u001b[38;2;255;0;0m result\u001b[0m\u001b[48;2;255;175;175m\u001b[38;2;255;0;0m of\u001b[0m\u001b[48;2;255;175;175m\u001b[38;2;255;0;0m evaluation\u001b[0m\u001b[48;2;255;175;175m\u001b[38;2;255;0;0m\n",
      "\u001b[0m\u001b[48;2;255;175;175m\u001b[38;2;255;0;0m   \u001b[0m\u001b[48;2;255;175;175m\u001b[38;2;255;0;0m var\u001b[0m\u001b[48;2;255;175;175m\u001b[38;2;255;0;0m ok\u001b[0m\u001b[48;2;255;175;175m\u001b[38;2;255;0;0m bool\u001b[0m\u001b[48;2;255;175;175m\u001b[38;2;255;0;0m\n",
      "\n",
      "\u001b[0m\u001b[48;2;255;175;175m\u001b[38;2;255;0;0m   \u001b[0m\u001b[48;2;255;175;175m\u001b[38;2;255;0;0m //\u001b[0m\u001b[48;2;255;175;175m\u001b[38;2;255;0;0m Evaluate\u001b[0m\u001b[48;2;255;175;175m\u001b[38;2;255;0;0m condition\u001b[0m\u001b[48;2;255;175;175m\u001b[38;2;255;0;0m based\u001b[0m\u001b[48;2;255;175;175m\u001b[38;2;255;0;0m on\u001b[0m\u001b[48;2;255;175;175m\u001b[38;2;255;0;0m given\u001b[0m\u001b[48;2;255;175;175m\u001b[38;2;255;0;0m input\u001b[0m\u001b[48;2;255;175;175m\u001b[38;2;255;0;0m and\u001b[0m\u001b[48;2;255;175;175m\u001b[38;2;255;0;0m assign\u001b[0m\u001b[48;2;255;175;175m\u001b[38;2;255;0;0m result\u001b[0m\u001b[48;2;255;175;175m\u001b[38;2;255;0;0m to\u001b[0m\u001b[48;2;255;175;175m\u001b[38;2;255;0;0m '\u001b[0m\u001b[48;2;255;175;175m\u001b[38;2;255;0;0mok\u001b[0m\u001b[48;2;255;175;175m\u001b[38;2;255;0;0m'\n",
      "\u001b[0m\u001b[48;2;255;175;175m\u001b[38;2;255;0;0m   \u001b[0m\u001b[48;2;255;175;175m\u001b[38;2;255;0;0m switch\u001b[0m\u001b[48;2;255;175;175m\u001b[38;2;255;0;0m condition\u001b[0m\u001b[48;2;255;175;175m\u001b[38;2;255;0;0m {\n",
      "\u001b[0m\u001b[48;2;255;175;175m\u001b[38;2;255;0;0m       \u001b[0m\u001b[48;2;255;175;175m\u001b[38;2;255;0;0m case\u001b[0m\u001b[48;2;255;175;175m\u001b[38;2;255;0;0m \"\u001b[0m\u001b[48;2;255;175;175m\u001b[38;2;255;0;0mclean\u001b[0m\u001b[48;2;255;175;175m\u001b[38;2;255;0;0m\":\n",
      "\u001b[0m\u001b[48;2;255;175;175m\u001b[38;2;255;0;0m           \u001b[0m\u001b[48;2;255;175;175m\u001b[38;2;255;0;0m fmt\u001b[0m\u001b[48;2;255;175;175m\u001b[38;2;255;0;0m.Println\u001b[0m\u001b[48;2;255;175;175m\u001b[38;2;255;0;0m(\"\u001b[0m\u001b[48;2;255;175;175m\u001b[38;2;255;0;0mChecking\u001b[0m\u001b[48;2;255;175;175m\u001b[38;2;255;0;0m cleanliness\u001b[0m\u001b[48;2;255;175;175m\u001b[38;2;255;0;0m...\")\n",
      "\u001b[0m\u001b[48;2;255;175;175m\u001b[38;2;255;0;0m           \u001b[0m\u001b[48;2;255;175;175m\u001b[38;2;255;0;0m ok\u001b[0m\u001b[48;2;255;175;175m\u001b[38;2;255;0;0m =\u001b[0m\u001b[48;2;255;175;175m\u001b[38;2;255;0;0m true\u001b[0m\u001b[48;2;255;175;175m\u001b[38;2;255;0;0m\n",
      "\u001b[0m\u001b[48;2;255;175;175m\u001b[38;2;255;0;0m       \u001b[0m\u001b[48;2;255;175;175m\u001b[38;2;255;0;0m case\u001b[0m\u001b[48;2;255;175;175m\u001b[38;2;255;0;0m \"\u001b[0m\u001b[48;2;255;175;175m\u001b[38;2;255;0;0mdis\u001b[0m\u001b[48;2;255;175;175m\u001b[38;2;255;0;0minf\u001b[0m\u001b[48;2;255;175;175m\u001b[38;2;255;0;0mected\u001b[0m\u001b[48;2;255;175;175m\u001b[38;2;255;0;0m\":\n",
      "\u001b[0m\u001b[48;2;255;175;175m\u001b[38;2;255;0;0m           \u001b[0m\u001b[48;2;255;175;175m\u001b[38;2;255;0;0m fmt\u001b[0m\u001b[48;2;255;175;175m\u001b[38;2;255;0;0m.Println\u001b[0m\u001b[48;2;255;175;175m\u001b[38;2;255;0;0m(\"\u001b[0m\u001b[48;2;255;175;175m\u001b[38;2;255;0;0mChecking\u001b[0m\u001b[48;2;255;175;175m\u001b[38;2;255;0;0m disin\u001b[0m\u001b[48;2;255;175;175m\u001b[38;2;255;0;0mfection\u001b[0m\u001b[48;2;255;175;175m\u001b[38;2;255;0;0m status\u001b[0m\u001b[48;2;255;175;175m\u001b[38;2;255;0;0m...\")\n",
      "\u001b[0m\u001b[48;2;255;175;175m\u001b[38;2;255;0;0m           \u001b[0m\u001b[48;2;255;175;175m\u001b[38;2;255;0;0m ok\u001b[0m\u001b[48;2;255;175;175m\u001b[38;2;255;0;0m =\u001b[0m\u001b[48;2;255;175;175m\u001b[38;2;255;0;0m true\u001b[0m\u001b[48;2;255;175;175m\u001b[38;2;255;0;0m\n",
      "\u001b[0m\u001b[48;2;255;175;175m\u001b[38;2;255;0;0m       \u001b[0m\u001b[48;2;255;175;175m\u001b[38;2;255;0;0m default\u001b[0m\u001b[48;2;255;175;175m\u001b[38;2;255;0;0m:\n",
      "\u001b[0m\u001b[48;2;255;175;175m\u001b[38;2;255;0;0m           \u001b[0m\u001b[48;2;255;175;175m\u001b[38;2;255;0;0m fmt\u001b[0m\u001b[48;2;255;175;175m\u001b[38;2;255;0;0m.Printf\u001b[0m\u001b[48;2;255;175;175m\u001b[38;2;255;0;0m(\"\u001b[0m\u001b[48;2;255;175;175m\u001b[38;2;255;0;0mInvalid\u001b[0m\u001b[48;2;255;175;175m\u001b[38;2;255;0;0m condition\u001b[0m\u001b[48;2;255;175;175m\u001b[38;2;255;0;0m '%\u001b[0m\u001b[48;2;255;175;175m\u001b[38;2;255;0;0ms\u001b[0m\u001b[48;2;255;175;175m\u001b[38;2;255;0;0m'\\\u001b[0m\u001b[48;2;255;175;175m\u001b[38;2;255;0;0mn\u001b[0m\u001b[48;2;255;175;175m\u001b[38;2;255;0;0m\",\u001b[0m\u001b[48;2;255;175;175m\u001b[38;2;255;0;0m condition\u001b[0m\u001b[48;2;255;175;175m\u001b[38;2;255;0;0m)\n",
      "\u001b[0m\u001b[48;2;255;175;175m\u001b[38;2;255;0;0m   \u001b[0m\u001b[48;2;255;175;175m\u001b[38;2;255;0;0m }\n",
      "\n",
      "\u001b[0m\u001b[48;2;255;175;175m\u001b[38;2;255;0;0m   \u001b[0m\u001b[48;2;255;175;175m\u001b[38;2;255;0;0m return\u001b[0m\u001b[48;2;255;175;175m\u001b[38;2;255;0;0m ok\u001b[0m\u001b[48;2;255;175;175m\u001b[38;2;255;0;0m\n",
      "\u001b[0m\u001b[48;2;255;175;175m\u001b[38;2;255;0;0m}\n",
      "\n",
      "\u001b[0m\u001b[48;2;255;175;175m\u001b[38;2;255;0;0mfunc\u001b[0m\u001b[48;2;255;175;175m\u001b[38;2;255;0;0m main\u001b[0m\u001b[48;2;255;175;175m\u001b[38;2;255;0;0m()\u001b[0m\u001b[48;2;255;175;175m\u001b[38;2;255;0;0m {\n",
      "\u001b[0m\u001b[48;2;255;175;175m\u001b[38;2;255;0;0m   \u001b[0m\u001b[48;2;255;175;175m\u001b[38;2;255;0;0m //\u001b[0m\u001b[48;2;255;175;175m\u001b[38;2;255;0;0m Call\u001b[0m\u001b[48;2;255;175;175m\u001b[38;2;255;0;0m Check\u001b[0m\u001b[48;2;255;175;175m\u001b[38;2;255;0;0mHy\u001b[0m\u001b[48;2;255;175;175m\u001b[38;2;255;0;0mgiene\u001b[0m\u001b[48;2;255;175;175m\u001b[38;2;255;0;0m function\u001b[0m\u001b[48;2;255;175;175m\u001b[38;2;255;0;0m with\u001b[0m\u001b[48;2;255;175;175m\u001b[38;2;255;0;0m input\u001b[0m\u001b[48;2;255;175;175m\u001b[38;2;255;0;0m '\u001b[0m\u001b[48;2;255;175;175m\u001b[38;2;255;0;0mclean\u001b[0m\u001b[48;2;255;175;175m\u001b[38;2;255;0;0m'\n",
      "\u001b[0m\u001b[48;2;255;175;175m\u001b[38;2;255;0;0m   \u001b[0m\u001b[48;2;255;175;175m\u001b[38;2;255;0;0m result\u001b[0m\u001b[48;2;255;175;175m\u001b[38;2;255;0;0m :=\u001b[0m\u001b[48;2;255;175;175m\u001b[38;2;255;0;0m Check\u001b[0m\u001b[48;2;255;175;175m\u001b[38;2;255;0;0mHy\u001b[0m\u001b[48;2;255;175;175m\u001b[38;2;255;0;0mgiene\u001b[0m\u001b[48;2;255;175;175m\u001b[38;2;255;0;0m(\"\u001b[0m\u001b[48;2;255;175;175m\u001b[38;2;255;0;0mclean\u001b[0m\u001b[48;2;255;175;175m\u001b[38;2;255;0;0m\")\n",
      "\u001b[0m\u001b[48;2;255;175;175m\u001b[38;2;255;0;0m   \u001b[0m\u001b[48;2;255;175;175m\u001b[38;2;255;0;0m fmt\u001b[0m\u001b[48;2;255;175;175m\u001b[38;2;255;0;0m.Println\u001b[0m\u001b[48;2;255;175;175m\u001b[38;2;255;0;0m(\"\u001b[0m\u001b[48;2;255;175;175m\u001b[38;2;255;0;0mResult\u001b[0m\u001b[48;2;255;175;175m\u001b[38;2;255;0;0m:\",\u001b[0m\u001b[48;2;255;175;175m\u001b[38;2;255;0;0m result\u001b[0m\u001b[48;2;255;175;175m\u001b[38;2;255;0;0m)\n",
      "\u001b[0m\u001b[48;2;255;175;175m\u001b[38;2;255;0;0m}\n",
      "\u001b[0m\u001b[48;2;255;175;175m\u001b[38;2;255;0;0m``\u001b[0m\u001b[48;2;255;175;175m\u001b[38;2;255;0;0m`\n",
      "\u001b[0m\u001b[48;2;255;175;175m\u001b[38;2;255;0;0mIn\u001b[0m\u001b[48;2;255;175;175m\u001b[38;2;255;0;0m this\u001b[0m\u001b[48;2;255;175;175m\u001b[38;2;255;0;0m example\u001b[0m\u001b[48;2;255;175;175m\u001b[38;2;255;0;0m,\u001b[0m\u001b[48;2;255;175;175m\u001b[38;2;255;0;0m we\u001b[0m\u001b[48;2;255;175;175m\u001b[38;2;255;0;0m define\u001b[0m\u001b[48;2;255;175;175m\u001b[38;2;255;0;0m a\u001b[0m\u001b[48;2;255;175;175m\u001b[38;2;255;0;0m `\u001b[0m\u001b[48;2;255;175;175m\u001b[38;2;255;0;0mCheck\u001b[0m\u001b[48;2;255;175;175m\u001b[38;2;255;0;0mHy\u001b[0m\u001b[48;2;255;175;175m\u001b[38;2;255;0;0mgiene\u001b[0m\u001b[48;2;255;175;175m\u001b[38;2;255;0;0m`\u001b[0m\u001b[48;2;255;175;175m\u001b[38;2;255;0;0m function\u001b[0m\u001b[48;2;255;175;175m\u001b[38;2;255;0;0m which\u001b[0m\u001b[48;2;255;175;175m\u001b[38;2;255;0;0m takes\u001b[0m\u001b[48;2;255;175;175m\u001b[38;2;255;0;0m a\u001b[0m\u001b[48;2;255;175;175m\u001b[38;2;255;0;0m `\u001b[0m\u001b[48;2;255;175;175m\u001b[38;2;255;0;0mstring\u001b[0m\u001b[48;2;255;175;175m\u001b[38;2;255;0;0m`\u001b[0m\u001b[48;2;255;175;175m\u001b[38;2;255;0;0m input\u001b[0m\u001b[48;2;255;175;175m\u001b[38;2;255;0;0m representing\u001b[0m\u001b[48;2;255;175;175m\u001b[38;2;255;0;0m the\u001b[0m\u001b[48;2;255;175;175m\u001b[38;2;255;0;0m condition\u001b[0m\u001b[48;2;255;175;175m\u001b[38;2;255;0;0m that\u001b[0m\u001b[48;2;255;175;175m\u001b[38;2;255;0;0m needs\u001b[0m\u001b[48;2;255;175;175m\u001b[38;2;255;0;0m to\u001b[0m\u001b[48;2;255;175;175m\u001b[38;2;255;0;0m be\u001b[0m\u001b[48;2;255;175;175m\u001b[38;2;255;0;0m checked\u001b[0m\u001b[48;2;255;175;175m\u001b[38;2;255;0;0m (\u001b[0m\u001b[48;2;255;175;175m\u001b[38;2;255;0;0me\u001b[0m\u001b[48;2;255;175;175m\u001b[38;2;255;0;0m.g\u001b[0m\u001b[48;2;255;175;175m\u001b[38;2;255;0;0m.,\u001b[0m\u001b[48;2;255;175;175m\u001b[38;2;255;0;0m cleanliness\u001b[0m\u001b[48;2;255;175;175m\u001b[38;2;255;0;0m or\u001b[0m\u001b[48;2;255;175;175m\u001b[38;2;255;0;0m disin\u001b[0m\u001b[48;2;255;175;175m\u001b[38;2;255;0;0mfection\u001b[0m\u001b[48;2;255;175;175m\u001b[38;2;255;0;0m).\u001b[0m\u001b[48;2;255;175;175m\u001b[38;2;255;0;0m The\u001b[0m\u001b[48;2;255;175;175m\u001b[38;2;255;0;0m function\u001b[0m\u001b[48;2;255;175;175m\u001b[38;2;255;0;0m uses\u001b[0m\u001b[48;2;255;175;175m\u001b[38;2;255;0;0m a\u001b[0m\u001b[48;2;255;175;175m\u001b[38;2;255;0;0m `\u001b[0m\u001b[48;2;255;175;175m\u001b[38;2;255;0;0mswitch\u001b[0m\u001b[48;2;255;175;175m\u001b[38;2;255;0;0m`\u001b[0m\u001b[48;2;255;175;175m\u001b[38;2;255;0;0m statement\u001b[0m\u001b[48;2;255;175;175m\u001b[38;2;255;0;0m to\u001b[0m\u001b[48;2;255;175;175m\u001b[38;2;255;0;0m evaluate\u001b[0m\u001b[48;2;255;175;175m\u001b[38;2;255;0;0m the\u001b[0m\u001b[48;2;255;175;175m\u001b[38;2;255;0;0m input\u001b[0m\u001b[48;2;255;175;175m\u001b[38;2;255;0;0m condition\u001b[0m\u001b[48;2;255;175;175m\u001b[38;2;255;0;0m and\u001b[0m\u001b[48;2;255;175;175m\u001b[38;2;255;0;0m determine\u001b[0m\u001b[48;2;255;175;175m\u001b[38;2;255;0;0m whether\u001b[0m\u001b[48;2;255;175;175m\u001b[38;2;255;0;0m the\u001b[0m\u001b[48;2;255;175;175m\u001b[38;2;255;0;0m desired\u001b[0m\u001b[48;2;255;175;175m\u001b[38;2;255;0;0m level\u001b[0m\u001b[48;2;255;175;175m\u001b[38;2;255;0;0m of\u001b[0m\u001b[48;2;255;175;175m\u001b[38;2;255;0;0m hygiene\u001b[0m\u001b[48;2;255;175;175m\u001b[38;2;255;0;0m is\u001b[0m\u001b[48;2;255;175;175m\u001b[38;2;255;0;0m being\u001b[0m\u001b[48;2;255;175;175m\u001b[38;2;255;0;0m maintained\u001b[0m\u001b[48;2;255;175;175m\u001b[38;2;255;0;0m.\u001b[0m\u001b[48;2;255;175;175m\u001b[38;2;255;0;0m If\u001b[0m\u001b[48;2;255;175;175m\u001b[38;2;255;0;0m the\u001b[0m\u001b[48;2;255;175;175m\u001b[38;2;255;0;0m input\u001b[0m\u001b[48;2;255;175;175m\u001b[38;2;255;0;0m condition\u001b[0m\u001b[48;2;255;175;175m\u001b[38;2;255;0;0m is\u001b[0m\u001b[48;2;255;175;175m\u001b[38;2;255;0;0m valid\u001b[0m\u001b[48;2;255;175;175m\u001b[38;2;255;0;0m,\u001b[0m\u001b[48;2;255;175;175m\u001b[38;2;255;0;0m the\u001b[0m\u001b[48;2;255;175;175m\u001b[38;2;255;0;0m function\u001b[0m\u001b[48;2;255;175;175m\u001b[38;2;255;0;0m sets\u001b[0m\u001b[48;2;255;175;175m\u001b[38;2;255;0;0m the\u001b[0m\u001b[48;2;255;175;175m\u001b[38;2;255;0;0m `\u001b[0m\u001b[48;2;255;175;175m\u001b[38;2;255;0;0mbool\u001b[0m\u001b[48;2;255;175;175m\u001b[38;2;255;0;0m`\u001b[0m\u001b[48;2;255;175;175m\u001b[38;2;255;0;0m variable\u001b[0m\u001b[48;2;255;175;175m\u001b[38;2;255;0;0m `\u001b[0m\u001b[48;2;255;175;175m\u001b[38;2;255;0;0mok\u001b[0m\u001b[48;2;255;175;175m\u001b[38;2;255;0;0m`\u001b[0m\u001b[48;2;255;175;175m\u001b[38;2;255;0;0m to\u001b[0m\u001b[48;2;255;175;175m\u001b[38;2;255;0;0m `\u001b[0m\u001b[48;2;255;175;175m\u001b[38;2;255;0;0mtrue\u001b[0m\u001b[48;2;255;175;175m\u001b[38;2;255;0;0m`,\u001b[0m\u001b[48;2;255;175;175m\u001b[38;2;255;0;0m indicating\u001b[0m\u001b[48;2;255;175;175m\u001b[38;2;255;0;0m that\u001b[0m\u001b[48;2;255;175;175m\u001b[38;2;255;0;0m the\u001b[0m\u001b[48;2;255;175;175m\u001b[38;2;255;0;0m specified\u001b[0m\u001b[48;2;255;175;175m\u001b[38;2;255;0;0m standard\u001b[0m\u001b[48;2;255;175;175m\u001b[38;2;255;0;0m is\u001b[0m\u001b[48;2;255;175;175m\u001b[38;2;255;0;0m met\u001b[0m\u001b[48;2;255;175;175m\u001b[38;2;255;0;0m.\u001b[0m\u001b[48;2;255;175;175m\u001b[38;2;255;0;0m Otherwise\u001b[0m\u001b[48;2;255;175;175m\u001b[38;2;255;0;0m,\u001b[0m\u001b[48;2;255;175;175m\u001b[38;2;255;0;0m it\u001b[0m\u001b[48;2;255;175;175m\u001b[38;2;255;0;0m prints\u001b[0m\u001b[48;2;255;175;175m\u001b[38;2;255;0;0m an\u001b[0m\u001b[48;2;255;175;175m\u001b[38;2;255;0;0m error\u001b[0m\u001b[48;2;255;175;175m\u001b[38;2;255;0;0m message\u001b[0m\u001b[48;2;255;175;175m\u001b[38;2;255;0;0m and\u001b[0m\u001b[48;2;255;175;175m\u001b[38;2;255;0;0m sets\u001b[0m\u001b[48;2;255;175;175m\u001b[38;2;255;0;0m `\u001b[0m\u001b[48;2;255;175;175m\u001b[38;2;255;0;0mok\u001b[0m\u001b[48;2;255;175;175m\u001b[38;2;255;0;0m`\u001b[0m\u001b[48;2;255;175;175m\u001b[38;2;255;0;0m to\u001b[0m\u001b[48;2;255;175;175m\u001b[38;2;255;0;0m `\u001b[0m\u001b[48;2;255;175;175m\u001b[38;2;255;0;0mfalse\u001b[0m\u001b[48;2;255;175;175m\u001b[38;2;255;0;0m`.\u001b[0m\u001b[48;2;255;175;175m\u001b[38;2;255;0;0m Finally\u001b[0m\u001b[48;2;255;175;175m\u001b[38;2;255;0;0m,\u001b[0m\u001b[48;2;255;175;175m\u001b[38;2;255;0;0m the\u001b[0m\u001b[48;2;255;175;175m\u001b[38;2;255;0;0m function\u001b[0m\u001b[48;2;255;175;175m\u001b[38;2;255;0;0m returns\u001b[0m\u001b[48;2;255;175;175m\u001b[38;2;255;0;0m the\u001b[0m\u001b[48;2;255;175;175m\u001b[38;2;255;0;0m value\u001b[0m\u001b[48;2;255;175;175m\u001b[38;2;255;0;0m of\u001b[0m\u001b[48;2;255;175;175m\u001b[38;2;255;0;0m `\u001b[0m\u001b[48;2;255;175;175m\u001b[38;2;255;0;0mok\u001b[0m\u001b[48;2;255;175;175m\u001b[38;2;255;0;0m`.\u001b[0m\u001b[48;2;255;175;175m\u001b[38;2;255;0;0m<|im_end|>\u001b[0m\u001b[48;2;255;175;175m\u001b[38;2;255;0;0m\n",
      "\u001b[0m\n"
     ]
    }
   ],
   "source": [
    "highlight_feature(subset[1], sorted_indices[0], model, sae, tokenizer)"
   ]
  },
  {
   "cell_type": "markdown",
   "metadata": {},
   "source": [
    "Some features I have naively labelled"
   ]
  },
  {
   "cell_type": "code",
   "execution_count": 26,
   "metadata": {},
   "outputs": [
    {
     "name": "stdout",
     "output_type": "stream",
     "text": [
      "<|im_start|>system\n",
      "You are Qwen, a helpful coding assistant.<|im_end|>\n",
      "<|im_start|>user\n",
      "Build a Julia module snippet that\u001b[48;2;255;175;175m\u001b[38;2;255;0;0m Updates\u001b[0m\u001b[48;2;255;192;192m\u001b[38;2;206;0;0m Extreme\u001b[0m Handling\u001b[48;2;255;175;175m\u001b[38;2;255;0;0m personal\u001b[0m\u001b[48;2;255;175;175m\u001b[38;2;255;0;0m items\u001b[0m\u001b[48;2;255;195;195m\u001b[38;2;196;0;0m:\u001b[0m Keeping\u001b[48;2;255;175;175m\u001b[38;2;255;0;0m Personal\u001b[0m\u001b[48;2;255;175;175m\u001b[38;2;255;0;0m Items\u001b[0m Clean\u001b[48;2;255;190;190m\u001b[38;2;210;0;0m for\u001b[0m\u001b[48;2;255;175;175m\u001b[38;2;255;0;0m Engineer\u001b[0m\u001b[48;2;255;176;176m\u001b[38;2;249;0;0m for\u001b[0m\u001b[48;2;255;180;180m\u001b[38;2;240;0;0m Beginners\u001b[0m. Incorporate\u001b[48;2;255;199;199m\u001b[38;2;187;0;0m if\u001b[0m/else or switch/case statements to\u001b[48;2;255;175;175m\u001b[38;2;255;0;0m handle\u001b[0m\u001b[48;2;255;175;175m\u001b[38;2;255;0;0m different\u001b[0m\u001b[48;2;255;175;175m\u001b[38;2;255;0;0m cases\u001b[0m\u001b[48;2;255;175;175m\u001b[38;2;255;0;0m based\u001b[0m\u001b[48;2;255;175;175m\u001b[38;2;255;0;0m on\u001b[0m\u001b[48;2;255;175;175m\u001b[38;2;255;0;0m the\u001b[0m\u001b[48;2;255;175;175m\u001b[38;2;255;0;0m Trust\u001b[0m\u001b[48;2;255;175;175m\u001b[38;2;255;0;0m.\u001b[0m Ensure your control flow is well-d\u001b[48;2;255;184;184m\u001b[38;2;227;0;0mocumented\u001b[0m\u001b[48;2;255;189;189m\u001b[38;2;215;0;0m with\u001b[0m\u001b[48;2;255;175;175m\u001b[38;2;255;0;0m comments\u001b[0m\u001b[48;2;255;175;175m\u001b[38;2;255;0;0m explaining\u001b[0m\u001b[48;2;255;175;175m\u001b[38;2;255;0;0m your\u001b[0m\u001b[48;2;255;175;175m\u001b[38;2;255;0;0m approach\u001b[0m.<|im_end|>\n",
      "<|im_start|>assistant\n",
      "Here's a possible implementation\u001b[48;2;255;195;195m\u001b[38;2;196;0;0m of\u001b[0m\u001b[48;2;255;175;175m\u001b[38;2;255;0;0m this\u001b[0m\u001b[48;2;255;175;175m\u001b[38;2;255;0;0m functionality\u001b[0m\u001b[48;2;255;175;175m\u001b[38;2;255;0;0m in\u001b[0m\u001b[48;2;255;189;189m\u001b[38;2;214;0;0m Julia\u001b[0m:\n",
      "```julia\n",
      "module Update\u001b[48;2;255;175;175m\u001b[38;2;255;0;0mPersonal\u001b[0m\u001b[48;2;255;175;175m\u001b[38;2;252;0;0mItems\u001b[0m\n",
      "\"\"\"\n",
      "    update_ext\u001b[48;2;255;191;191m\u001b[38;2;208;0;0mreme\u001b[0m_handling(trust::Int)\n",
      "This function updates extreme handling requirements depending\u001b[48;2;255;175;175m\u001b[38;2;255;0;0m upon\u001b[0m\u001b[48;2;255;175;175m\u001b[38;2;255;0;0m trust\u001b[0m\u001b[48;2;255;175;175m\u001b[38;2;255;0;0m level\u001b[0m. \n",
      "It uses\u001b[48;2;255;201;201m\u001b[38;2;180;0;0m an\u001b[0m if else statement to\u001b[48;2;255;175;175m\u001b[38;2;255;0;0m determine\u001b[0m\u001b[48;2;255;175;175m\u001b[38;2;255;0;0m whether\u001b[0m\u001b[48;2;255;175;175m\u001b[38;2;255;0;0m additional\u001b[0m\u001b[48;2;255;176;176m\u001b[38;2;251;0;0m measures\u001b[0m\u001b[48;2;255;175;175m\u001b[38;2;255;0;0m need\u001b[0m\u001b[48;2;255;175;175m\u001b[38;2;255;0;0m to\u001b[0m\u001b[48;2;255;175;175m\u001b[38;2;255;0;0m be\u001b[0m\u001b[48;2;255;175;175m\u001b[38;2;255;0;0m taken\u001b[0m\u001b[48;2;255;188;188m\u001b[38;2;216;0;0m.\u001b[0m \n",
      "1 - If trust\u001b[48;2;255;175;175m\u001b[38;2;255;0;0m =\u001b[0m\u001b[48;2;255;175;175m\u001b[38;2;255;0;0m \u001b[0m0 then no\u001b[48;2;255;175;175m\u001b[38;2;255;0;0m special\u001b[0m precautions required. \n",
      "2 - Else if trust >5 then only visual inspections needed\u001b[48;2;255;175;175m\u001b[38;2;255;0;0m before\u001b[0m\u001b[48;2;255;175;175m\u001b[38;2;255;0;0m use\u001b[0m. \n",
      "3 - Else if trust between 4 &\u001b[48;2;255;203;203m\u001b[38;2;173;0;0m \u001b[0m\u001b[48;2;255;194;194m\u001b[38;2;201;0;0m0\u001b[0m inclusive then both visual inspection\u001b[48;2;255;175;175m\u001b[38;2;255;0;0m and\u001b[0m\u001b[48;2;255;175;175m\u001b[38;2;255;0;0m user\u001b[0m training required\u001b[48;2;255;175;175m\u001b[38;2;255;0;0m prior\u001b[0m\u001b[48;2;255;175;175m\u001b[38;2;255;0;0m to\u001b[0m\u001b[48;2;255;175;175m\u001b[38;2;255;0;0m use\u001b[0m.\n",
      "\"\"\"\n",
      "function update_ext\u001b[48;2;255;182;182m\u001b[38;2;234;0;0mreme\u001b[0m_handling(trust::Int) \n",
      "    # Check\u001b[48;2;255;186;186m\u001b[38;2;221;0;0m input\u001b[0m\u001b[48;2;255;190;190m\u001b[38;2;211;0;0m value\u001b[0m falls\u001b[48;2;255;175;175m\u001b[38;2;255;0;0m within\u001b[0m\u001b[48;2;255;175;175m\u001b[38;2;255;0;0m expected\u001b[0m\u001b[48;2;255;175;175m\u001b[38;2;255;0;0m range\u001b[0m\u001b[48;2;255;175;175m\u001b[38;2;255;0;0m (\u001b[0m0\u001b[48;2;255;196;196m\u001b[38;2;195;0;0m,\u001b[0m6]\n",
      "    @assert 0 <=\u001b[48;2;255;198;198m\u001b[38;2;190;0;0m trust\u001b[0m <\u001b[48;2;255;175;175m\u001b[38;2;255;0;0m \u001b[0m7 \"Invalid trust value\"\n",
      "\n",
      "    if trust ==\u001b[48;2;255;217;217m\u001b[38;2;135;0;0m \u001b[0m0\n",
      "        println(\"No\u001b[48;2;255;200;200m\u001b[38;2;184;0;0m special\u001b[0m precautions required\")\n",
      "    elseif trust >=\u001b[48;2;255;196;196m\u001b[38;2;194;0;0m \u001b[0m5 \n",
      "        println(\"Only visual inspections required\u001b[48;2;255;175;175m\u001b[38;2;255;0;0m before\u001b[0m\u001b[48;2;255;175;175m\u001b[38;2;255;0;0m use\u001b[0m.\")\n",
      "    else    \n",
      "        println(\"Both visual inspection and\u001b[48;2;255;175;175m\u001b[38;2;255;0;0m user\u001b[0m training required\u001b[48;2;255;175;175m\u001b[38;2;255;0;0m prior\u001b[0m\u001b[48;2;255;175;175m\u001b[38;2;255;0;0m to\u001b[0m\u001b[48;2;255;175;175m\u001b[38;2;255;0;0m use\u001b[0m.\")    \n",
      "    end    \n",
      "end\n",
      "export update_ext\u001b[48;2;255;180;180m\u001b[38;2;240;0;0mreme\u001b[0m\u001b[48;2;255;177;177m\u001b[38;2;247;0;0m_handling\u001b[0m\n",
      "end # End Module\n",
      "```<|im_end|>\n",
      "\n"
     ]
    }
   ],
   "source": [
    "highlight_feature(subset[0], sorted_indices[2], model, sae, tokenizer)"
   ]
  },
  {
   "cell_type": "code",
   "execution_count": 27,
   "metadata": {},
   "outputs": [
    {
     "name": "stdout",
     "output_type": "stream",
     "text": [
      "<|im_start|>system\n",
      "You are Q\u001b[48;2;255;175;175m\u001b[38;2;255;0;0mwen\u001b[0m, a helpful coding assistant.<|im_end|>\n",
      "<|im_start|>user\n",
      "\u001b[48;2;255;175;175m\u001b[38;2;255;0;0mDevelop\u001b[0m a Rust\u001b[48;2;255;179;179m\u001b[38;2;243;0;0m program\u001b[0m snippet to\u001b[48;2;255;190;190m\u001b[38;2;210;0;0m Transform\u001b[0m Extreme Online Shopping: Shipping for Engineer for Experts. Incorporate if/else or\u001b[48;2;255;175;175m\u001b[38;2;255;0;0m switch\u001b[0m\u001b[48;2;255;204;204m\u001b[38;2;171;0;0m/c\u001b[0mase\u001b[48;2;255;189;189m\u001b[38;2;214;0;0m statements\u001b[0m to handle various cases related to the Consent.\u001b[48;2;255;184;184m\u001b[38;2;229;0;0m Dry\u001b[0m\u001b[48;2;255;210;210m\u001b[38;2;154;0;0m-run\u001b[0m, ensure your control flow logic is clear and\u001b[48;2;255;175;175m\u001b[38;2;255;0;0m well\u001b[0m-commented.<|im_end|>\n",
      "<|im_start|>assistant\n",
      "Here is a possible implementation of this problem in Rust:\n",
      "\n",
      "\n",
      "```rust \n",
      "fn\u001b[48;2;255;184;184m\u001b[38;2;229;0;0m transform\u001b[0m_extreme_online_shopping(order_details : OrderDetails)\u001b[48;2;255;190;190m\u001b[38;2;211;0;0m ->\u001b[0m String {\n",
      "    let mut message\u001b[48;2;255;205;205m\u001b[38;2;168;0;0m =\u001b[0m \"Order received! Thank you for shopping at\u001b[48;2;255;175;175m\u001b[38;2;255;0;0m our\u001b[0m\u001b[48;2;255;175;175m\u001b[38;2;255;0;0m store\u001b[0m.\\n\".to\u001b[48;2;255;184;184m\u001b[38;2;229;0;0m_string\u001b[0m();\n",
      "\n",
      "    match order_details.shipping_address.country {\n",
      "\u001b[48;2;255;175;175m\u001b[38;2;255;0;0m       \u001b[0m\u001b[48;2;255;215;215m\u001b[38;2;142;0;0m //\u001b[0m Handle shipping address country specific requirements here\n",
      "\u001b[48;2;255;175;175m\u001b[38;2;255;0;0m       \u001b[0m\u001b[48;2;255;175;175m\u001b[38;2;255;0;0m _\u001b[0m\u001b[48;2;255;175;175m\u001b[38;2;255;0;0m =>\u001b[0m\u001b[48;2;255;175;175m\u001b[38;2;255;0;0m {}\n",
      "\u001b[0m    }\n",
      "\n",
      "    match order_details.customer_consent {\n",
      "\u001b[48;2;255;175;175m\u001b[38;2;255;0;0m       \u001b[0m CustomerConsent::Yes\u001b[48;2;255;202;202m\u001b[38;2;178;0;0m =>\u001b[0m {\n",
      "            message += \"Your order has been processed and\u001b[48;2;255;175;175m\u001b[38;2;255;0;0m will\u001b[0m\u001b[48;2;255;175;175m\u001b[38;2;255;0;0m be\u001b[0m shipped soon\u001b[48;2;255;210;210m\u001b[38;2;154;0;0m.\";\n",
      "\u001b[0m\u001b[48;2;255;175;175m\u001b[38;2;255;0;0m       \u001b[0m },\n",
      "\u001b[48;2;255;175;175m\u001b[38;2;255;0;0m       \u001b[0m CustomerConsent::No => {\n",
      "            message += \"\u001b[48;2;255;175;175m\u001b[38;2;255;0;0mWe\u001b[0m\u001b[48;2;255;182;182m\u001b[38;2;233;0;0m require\u001b[0m customer consent before processing orders. Please provide\u001b[48;2;255;175;175m\u001b[38;2;255;0;0m us\u001b[0m \\\n",
      "               \u001b[48;2;255;175;175m\u001b[38;2;255;0;0m with\u001b[0m\u001b[48;2;255;175;175m\u001b[38;2;255;0;0m your\u001b[0m explicit consent by emailing <EMAIL>\u001b[48;2;255;175;175m\u001b[38;2;255;0;0m with\u001b[0m\u001b[48;2;255;175;175m\u001b[38;2;255;0;0m your\u001b[0m full\u001b[48;2;255;175;175m\u001b[38;2;255;0;0m name\u001b[0m, \\\n",
      "                order number, and reason for declining consent\u001b[48;2;255;217;217m\u001b[38;2;136;0;0m.\";\n",
      "\u001b[0m\u001b[48;2;255;175;175m\u001b[38;2;255;0;0m       \u001b[0m },\n",
      "\u001b[48;2;255;175;175m\u001b[38;2;255;0;0m       \u001b[0m CustomerConsent::NotProvided => {\n",
      "            message += \"\u001b[48;2;255;175;175m\u001b[38;2;255;0;0mWe\u001b[0m\u001b[48;2;255;186;186m\u001b[38;2;222;0;0m require\u001b[0m customer consent before processing orders. Your order cannot be \\\n",
      "                processed until\u001b[48;2;255;175;175m\u001b[38;2;255;0;0m we\u001b[0m receive your consent. Please provide\u001b[48;2;255;175;175m\u001b[38;2;255;0;0m us\u001b[0m\u001b[48;2;255;175;175m\u001b[38;2;255;0;0m with\u001b[0m\u001b[48;2;255;175;175m\u001b[38;2;255;0;0m your\u001b[0m explicit \\\n",
      "                consent by\u001b[48;2;255;185;185m\u001b[38;2;224;0;0m emailing\u001b[0m <EMAIL>.\u001b[48;2;255;179;179m\u001b[38;2;242;0;0m\";\n",
      "\u001b[0m\u001b[48;2;255;175;175m\u001b[38;2;255;0;0m       \u001b[0m\u001b[48;2;255;192;192m\u001b[38;2;205;0;0m }\n",
      "\u001b[0m    }\n",
      "\n",
      "    return message;\n",
      "}\n",
      "\n",
      "struct OrderDetails {\n",
      "    customer_name: String,\n",
      "    order_number: i32,\n",
      "    items: Vec<String>,\n",
      "    shipping_address: Address,\n",
      "    customer_consent: CustomerConsent,\n",
      "}\n",
      "\n",
      "enum CustomerConsent {\n",
      "    Yes,\n",
      "    No,\n",
      "    NotProvided,\n",
      "}\n",
      "\n",
      "struct Address {\n",
      "    line1: String,\n",
      "    city: String,\n",
      "    state: String,\n",
      "   \u001b[48;2;255;175;175m\u001b[38;2;255;0;0m zipcode\u001b[0m: String,\n",
      "    country: Country,\n",
      "}\n",
      "\n",
      "enum Country {\n",
      "   \u001b[48;2;255;175;175m\u001b[38;2;255;0;0m US\u001b[0m,\n",
      "    Canada,\n",
      "    Australia,\n",
      "    Other,\n",
      "}\n",
      "\n",
      "// Example input data for testing purposes only\n",
      "let order_details = OrderDetails {\n",
      "    customer_name: \"<NAME>\".to_string(),\n",
      "    order_number: 123456\u001b[48;2;255;176;176m\u001b[38;2;249;0;0m7\u001b[0m\u001b[48;2;255;175;175m\u001b[38;2;255;0;0m8\u001b[0m\u001b[48;2;255;175;175m\u001b[38;2;255;0;0m9\u001b[0m0,\n",
      "    items: vec![\n",
      "\u001b[48;2;255;175;175m\u001b[38;2;255;0;0m       \u001b[0m \"R\u001b[48;2;255;181;181m\u001b[38;2;236;0;0must\u001b[0m Programming Book - The Little Book\u001b[48;2;255;193;193m\u001b[38;2;203;0;0m That\u001b[0m Speaks the Most Popular Language Today!\".to_string(), \n",
      "\u001b[48;2;255;201;201m\u001b[38;2;180;0;0m       \u001b[0m \"Data Structures & Algorithms\u001b[48;2;255;175;175m\u001b[38;2;255;0;0m Made\u001b[0m Easy\u001b[48;2;255;192;192m\u001b[38;2;206;0;0m Using\u001b[0m C++\".to_string\u001b[48;2;255;213;213m\u001b[38;2;146;0;0m()\n",
      "\u001b[0m    ],\n",
      "    shipping_address: Address {\n",
      "\u001b[48;2;255;175;175m\u001b[38;2;255;0;0m       \u001b[0m line1: \"123 Main Street\".to_string(),\n",
      "\u001b[48;2;255;175;175m\u001b[38;2;255;0;0m       \u001b[0m city: \"Anytown\".to_string(),\n",
      "\u001b[48;2;255;190;190m\u001b[38;2;211;0;0m       \u001b[0m\u001b[48;2;255;180;180m\u001b[38;2;239;0;0m state\u001b[0m: \"CA\".to_string(),\n",
      "\u001b[48;2;255;176;176m\u001b[38;2;250;0;0m       \u001b[0m\u001b[48;2;255;175;175m\u001b[38;2;255;0;0m zipcode\u001b[0m: \"12345\".to_string(),\n",
      "\u001b[48;2;255;175;175m\u001b[38;2;255;0;0m       \u001b[0m country: Country::\u001b[48;2;255;185;185m\u001b[38;2;224;0;0mUS\u001b[0m,\n",
      "    },\n",
      "    customer_consent: CustomerConsent::Yes,\n",
      "};\n",
      "\n",
      "println!(\"{}\", transform_extreme_online_shopping(order_details));\n",
      "```<|im_end|>\n",
      "\n"
     ]
    }
   ],
   "source": [
    "highlight_feature(subset[2], sorted_indices[65], model, sae, tokenizer)"
   ]
  },
  {
   "cell_type": "code",
   "execution_count": 29,
   "metadata": {},
   "outputs": [
    {
     "name": "stdout",
     "output_type": "stream",
     "text": [
      "\u001b[48;2;255;175;175m\u001b[38;2;255;0;0m<|im_start|>\u001b[0m\u001b[48;2;255;175;175m\u001b[38;2;255;0;0msystem\u001b[0m\u001b[48;2;255;175;175m\u001b[38;2;255;0;0m\n",
      "\u001b[0mYou are Qwen, a helpful coding assistant.<|im_end|>\n",
      "<|im_start|>user\n",
      "Develop a\u001b[48;2;255;207;207m\u001b[38;2;164;0;0m C\u001b[0m# program snippet to Calculate High Security: Fraud Detection for Engineer for Professionals. Incorporate if/else or switch\u001b[48;2;255;211;211m\u001b[38;2;151;0;0m/c\u001b[0mase statements to handle various cases related to the Ethics. Dry-run, ensure your control\u001b[48;2;255;202;202m\u001b[38;2;178;0;0m flow\u001b[0m logic is clear and well-commented.<|im_end|>\n",
      "<|im_start|>assistant\n",
      "Here's some sample code written in C#:\n",
      "\n",
      "    ```\u001b[48;2;255;223;223m\u001b[38;2;117;0;0mc\u001b[0msharp\n",
      "    public static double CalculateHighSecurityFraudDetectionForEngine\u001b[48;2;255;199;199m\u001b[38;2;186;0;0mers\u001b[0m(List\u001b[48;2;255;181;181m\u001b[38;2;236;0;0m<Transaction\u001b[0m\u001b[48;2;255;184;184m\u001b[38;2;229;0;0m>\u001b[0m\u001b[48;2;255;183;183m\u001b[38;2;232;0;0m transactions\u001b[0m\u001b[48;2;255;218;218m\u001b[38;2;133;0;0m)\u001b[0m \n",
      "    {\n",
      "        // Initialize variables\n",
      "        var totalLoss = 0d;\n",
      "\n",
      "       \u001b[48;2;255;182;182m\u001b[38;2;235;0;0m foreach\u001b[0m\u001b[48;2;255;178;178m\u001b[38;2;245;0;0m (\u001b[0mvar transaction in transactions\u001b[48;2;255;191;191m\u001b[38;2;209;0;0m)\u001b[0m \n",
      "        {\n",
      "            switch (transaction.Type) \n",
      "            {\n",
      "                case \"credit\":\n",
      "                    // Check for unusual spending patterns\n",
      "                    if (transaction.Amount > 1000 &&\n",
      "                        transaction.Destination == \"online store\" && \n",
      "                        !IsRegularCustomer(transaction)) \n",
      "                    {\n",
      "                        Console.WriteLine(\"Unusual credit card purchase detected!\");\n",
      "                        break;\n",
      "                    }\n",
      "\n",
      "                    // Process regular credit card purchases\n",
      "                    else \n",
      "                    {\n",
      "                        totalLoss += transaction.Fee + transaction.Interest;\n",
      "                    }\n",
      "                    break;\n",
      "\n",
      "                case \"debit\":\n",
      "                    // Check for suspicious ATM withdrawals\n",
      "                    if (transaction.Amount >= 500 && Is\u001b[48;2;255;175;175m\u001b[38;2;255;0;0mNear\u001b[0mATM(transaction)) \n",
      "                    {\n",
      "                        Console.WriteLine(\"Suspicious debit card ATM withdrawal detected!\");\n",
      "                        break;\n",
      "                    } \n",
      "\n",
      "                    // Process regular debit card purchases\n",
      "                    else \n",
      "                    {\n",
      "                        totalLoss += transaction.OverdraftFee;\n",
      "                    }\n",
      "                    break;\n",
      "            \n",
      "                default:\n",
      "                    throw new ArgumentException($\"Invalid transaction type: '{transaction.Type}'\");\n",
      "            }\n",
      "        }\n",
      "\n",
      "        return totalLoss;\n",
      "    }\n",
      "    \n",
      "    private static bool IsRegularCustomer(Transaction transaction) \n",
      "    {\n",
      "        // Implement customer database lookup here\n",
      "        return true;\n",
      "    }\n",
      "\n",
      "    private static bool Is\u001b[48;2;255;175;175m\u001b[38;2;253;0;0mNear\u001b[0m\u001b[48;2;255;195;195m\u001b[38;2;196;0;0mAT\u001b[0mM(Transaction transaction) \n",
      "    {\n",
      "        // Implement\u001b[48;2;255;175;175m\u001b[38;2;255;0;0m ge\u001b[0molocation service call here\n",
      "        return true;\n",
      "    }\n",
      "    ```\n",
      "\n",
      " This function takes a list of `Transaction` objects as input and calculates the total loss from high security fraud detection measures implemented by engineers. It uses a combination of `if`\u001b[48;2;255;204;204m\u001b[38;2;171;0;0m/\u001b[0m`else` statements and a\u001b[48;2;255;209;209m\u001b[38;2;157;0;0m `\u001b[0mswitch` statement to evaluate different scenarios based on the transaction type (`credit`, `debit`), amount, destination, and other factors. The code includes comments to explain each step of the algorithm and potential points of failure.<|im_end|>\n",
      "\n"
     ]
    }
   ],
   "source": [
    "highlight_feature(subset[9], sorted_indices[37], model, sae, tokenizer)"
   ]
  },
  {
   "cell_type": "code",
   "execution_count": 30,
   "metadata": {},
   "outputs": [
    {
     "name": "stdout",
     "output_type": "stream",
     "text": [
      "<|im_start|>system\n",
      "You are Qwen, a helpful\u001b[48;2;255;175;175m\u001b[38;2;255;0;0m coding\u001b[0m assistant.<|im_end|>\n",
      "<|im_start|>user\n",
      "\u001b[48;2;255;175;175m\u001b[38;2;255;0;0mCreate\u001b[0m\u001b[48;2;255;179;179m\u001b[38;2;242;0;0m a\u001b[0m Neo\u001b[48;2;255;175;175m\u001b[38;2;255;0;0m4\u001b[0mj database\u001b[48;2;255;224;224m\u001b[38;2;114;0;0m and\u001b[0m\u001b[48;2;255;175;175m\u001b[38;2;255;0;0m Cy\u001b[0m\u001b[48;2;255;175;175m\u001b[38;2;255;0;0mpher\u001b[0m\u001b[48;2;255;184;184m\u001b[38;2;227;0;0m script\u001b[0m snippet that Updates Extreme Nose\u001b[48;2;255;175;175m\u001b[38;2;255;0;0m care\u001b[0m\u001b[48;2;255;175;175m\u001b[38;2;255;0;0m:\u001b[0m Preventing Nosebleeds for Engineer for Experts. Use if/else or switch\u001b[48;2;255;175;175m\u001b[38;2;255;0;0m/c\u001b[0m\u001b[48;2;255;175;175m\u001b[38;2;255;0;0mase\u001b[0m statements to\u001b[48;2;255;175;175m\u001b[38;2;255;0;0m condition\u001b[0m\u001b[48;2;255;175;175m\u001b[38;2;255;0;0mally\u001b[0m perform different actions based on the Privacy. Dry-run, then\u001b[48;2;255;175;175m\u001b[38;2;255;0;0m include\u001b[0m\u001b[48;2;255;175;175m\u001b[38;2;255;0;0m comments\u001b[0m\u001b[48;2;255;209;209m\u001b[38;2;156;0;0m that\u001b[0m outline the\u001b[48;2;255;175;175m\u001b[38;2;255;0;0m control\u001b[0m\u001b[48;2;255;175;175m\u001b[38;2;255;0;0m flow\u001b[0m and\u001b[48;2;255;185;185m\u001b[38;2;226;0;0m how\u001b[0m you handle different\u001b[48;2;255;187;187m\u001b[38;2;218;0;0m scenarios\u001b[0m.\u001b[48;2;255;208;208m\u001b[38;2;161;0;0m<|im_end|>\u001b[0m\n",
      "<|im_start|>assistant\n",
      "Here is a basic template of what your\u001b[48;2;255;175;175m\u001b[38;2;255;0;0m cy\u001b[0m\u001b[48;2;255;175;175m\u001b[38;2;255;0;0mpher\u001b[0m query\u001b[48;2;255;175;175m\u001b[38;2;255;0;0m could\u001b[0m look like:\n",
      "\n",
      "\tmatch (patient:Patient {name:\"\u001b[48;2;255;175;175m\u001b[38;2;255;0;0mJohn\u001b[0m Doe\"})-[rel1:TREATS]->\u001b[48;2;255;221;221m\u001b[38;2;123;0;0m(\u001b[0m\u001b[48;2;255;213;213m\u001b[38;2;145;0;0md\u001b[0misease:Disease{name:\"Extreme nose bleed\"}\u001b[48;2;255;175;175m\u001b[38;2;255;0;0m),\u001b[0m\u001b[48;2;255;179;179m\u001b[38;2;242;0;0m \n",
      "\u001b[0m\t(provider:Provider)-[rel2:PRE\u001b[48;2;255;175;175m\u001b[38;2;255;0;0mSCR\u001b[0mIBES_Treatment|ADMINISTERS_MEDICATION*0..5]-(medication:Medication)\n",
      "\u001b[48;2;255;175;175m\u001b[38;2;255;0;0m\t\n",
      "\u001b[0m\tset patient.privacy = \"PRIVATE\"\n",
      "\twith patient, disease, medication,\u001b[48;2;255;175;175m\u001b[38;2;255;0;0m collect\u001b[0m([rel1, rel2\u001b[48;2;255;195;195m\u001b[38;2;196;0;0m])\u001b[0m\u001b[48;2;255;186;186m\u001b[38;2;221;0;0m as\u001b[0m relationships\n",
      "\u001b[48;2;255;175;175m\u001b[38;2;255;0;0m\tcall\u001b[0m\u001b[48;2;255;186;186m\u001b[38;2;222;0;0m ap\u001b[0m\u001b[48;2;255;175;175m\u001b[38;2;255;0;0moc\u001b[0m.refactor.renameProperty(relationships,\"rel\",\"prescribes\") yield value\n",
      "\treturn patient, disease, medication, relationships\u001b[48;2;255;221;221m\u001b[38;2;123;0;0m;\n",
      "\u001b[0m\u001b[48;2;255;175;175m\u001b[38;2;255;0;0m\t\n",
      "\u001b[0mThis will update the privacy property of the Patient node to PRIVATE, rename all relations between nodes to use the new relationship type names, and return the updated nodes and their relationships.\u001b[48;2;255;194;194m\u001b[38;2;199;0;0m<|im_end|>\u001b[0m\n",
      "\n"
     ]
    }
   ],
   "source": [
    "highlight_feature(subset[8], sorted_indices[43], model, sae, tokenizer)"
   ]
  },
  {
   "cell_type": "code",
   "execution_count": 31,
   "metadata": {},
   "outputs": [
    {
     "name": "stdout",
     "output_type": "stream",
     "text": [
      "<|im_start|>system\n",
      "You are Qwen, a helpful coding\u001b[48;2;255;175;175m\u001b[38;2;255;0;0m assistant\u001b[0m.<|im_end|>\n",
      "<|im_start|>user\u001b[48;2;255;255;255m\u001b[38;2;30;0;0m\n",
      "\u001b[0mCreate\u001b[48;2;255;224;224m\u001b[38;2;115;0;0m a\u001b[0m\u001b[48;2;255;175;175m\u001b[38;2;255;0;0m relation\u001b[0m database and\u001b[48;2;255;175;175m\u001b[38;2;255;0;0m SQL\u001b[0m script snippet that Updates Extreme Nail care: Trimming\u001b[48;2;255;175;175m\u001b[38;2;255;0;0m N\u001b[0m\u001b[48;2;255;189;189m\u001b[38;2;213;0;0mails\u001b[0m for Decision Making for Experts. Use if\u001b[48;2;255;216;216m\u001b[38;2;138;0;0m/\u001b[0melse or switch/c\u001b[48;2;255;215;215m\u001b[38;2;140;0;0mase\u001b[0m statements to conditionally perform different actions based on the Consent. Dry-run, then include comments that outline the control flow\u001b[48;2;255;206;206m\u001b[38;2;166;0;0m and\u001b[0m how you handle different scenarios.<|im_end|>\u001b[48;2;255;178;178m\u001b[38;2;244;0;0m\n",
      "\u001b[0m<|im_start|>\u001b[48;2;255;183;183m\u001b[38;2;231;0;0massistant\u001b[0m\u001b[48;2;255;175;175m\u001b[38;2;255;0;0m\n",
      "\u001b[0mHere is a sample\u001b[48;2;255;175;175m\u001b[38;2;255;0;0m relational\u001b[0m\u001b[48;2;255;212;212m\u001b[38;2;150;0;0m database\u001b[0m schema and corresponding\u001b[48;2;255;175;175m\u001b[38;2;255;0;0m SQL\u001b[0m queries to update records\u001b[48;2;255;195;195m\u001b[38;2;196;0;0m in\u001b[0m the \"Extreme\u001b[48;2;255;175;175m\u001b[38;2;255;0;0m_N\u001b[0m\u001b[48;2;255;197;197m\u001b[38;2;191;0;0mail\u001b[0mcare\"\u001b[48;2;255;175;175m\u001b[38;2;255;0;0m table\u001b[0m\u001b[48;2;255;208;208m\u001b[38;2;159;0;0m based\u001b[0m\u001b[48;2;255;214;214m\u001b[38;2;143;0;0m on\u001b[0m whether the patient gave consent to trim their nails or not\u001b[48;2;255;197;197m\u001b[38;2;192;0;0m:\n",
      "\n",
      "\u001b[0m\u001b[48;2;255;225;225m\u001b[38;2;113;0;0m1\u001b[0m\u001b[48;2;255;211;211m\u001b[38;2;153;0;0m.\u001b[0m Database Schema\u001b[48;2;255;175;175m\u001b[38;2;255;0;0m:\n",
      "\n",
      "\u001b[0m\u001b[48;2;255;175;175m\u001b[38;2;255;0;0m   \u001b[0m\u001b[48;2;255;192;192m\u001b[38;2;206;0;0m ```\u001b[0m\u001b[48;2;255;175;175m\u001b[38;2;255;0;0msql\u001b[0m\u001b[48;2;255;175;175m\u001b[38;2;255;0;0m\n",
      "\u001b[0m\u001b[48;2;255;175;175m\u001b[38;2;255;0;0m   \u001b[0m CREATE\u001b[48;2;255;182;182m\u001b[38;2;233;0;0m TABLE\u001b[0m IF NOT\u001b[48;2;255;175;175m\u001b[38;2;255;0;0m EXISTS\u001b[0m `extreme\u001b[48;2;255;193;193m\u001b[38;2;202;0;0m_n\u001b[0mailcare`\u001b[48;2;255;175;175m\u001b[38;2;255;0;0m (\n",
      "\u001b[0m\u001b[48;2;255;178;178m\u001b[38;2;246;0;0m     \u001b[0m `id` int(10) unsigned NOT\u001b[48;2;255;175;175m\u001b[38;2;255;0;0m NULL\u001b[0m AUTO_INCREMENT PRIMARY KEY\u001b[48;2;255;193;193m\u001b[38;2;203;0;0m,\n",
      "\u001b[0m\u001b[48;2;255;206;206m\u001b[38;2;166;0;0m     \u001b[0m `patientID` varchar(255),\n",
      "      `consentGiven` tinyint(4),\n",
      "      `dateOfProcedure` date DEFAULT\u001b[48;2;255;175;175m\u001b[38;2;255;0;0m NULL\u001b[0m\u001b[48;2;255;207;207m\u001b[38;2;162;0;0m,\n",
      "\u001b[0m\u001b[48;2;255;203;203m\u001b[38;2;175;0;0m     \u001b[0m `timeOfProcedure` time DEFAULT\u001b[48;2;255;175;175m\u001b[38;2;255;0;0m NULL\u001b[0m\u001b[48;2;255;210;210m\u001b[38;2;156;0;0m,\n",
      "\u001b[0m\u001b[48;2;255;203;203m\u001b[38;2;174;0;0m     \u001b[0m `notes` longtext\u001b[48;2;255;175;175m\u001b[38;2;255;0;0m\n",
      "\u001b[0m\u001b[48;2;255;189;189m\u001b[38;2;214;0;0m   \u001b[0m\u001b[48;2;255;204;204m\u001b[38;2;172;0;0m )\u001b[0m\u001b[48;2;255;175;175m\u001b[38;2;255;0;0m ENGINE\u001b[0m\u001b[48;2;255;175;175m\u001b[38;2;255;0;0m=\u001b[0m\u001b[48;2;255;197;197m\u001b[38;2;192;0;0mIn\u001b[0m\u001b[48;2;255;175;175m\u001b[38;2;255;0;0mnoDB\u001b[0m\u001b[48;2;255;190;190m\u001b[38;2;211;0;0m;\n",
      "\u001b[0m\u001b[48;2;255;175;175m\u001b[38;2;255;0;0m   \u001b[0m ``\u001b[48;2;255;231;231m\u001b[38;2;95;0;0m`\n",
      "\n",
      "\u001b[0m2.\u001b[48;2;255;188;188m\u001b[38;2;218;0;0m Insert\u001b[0m Query\u001b[48;2;255;206;206m\u001b[38;2;166;0;0m:\n",
      "\n",
      "\u001b[0m\u001b[48;2;255;178;178m\u001b[38;2;245;0;0m   \u001b[0m\u001b[48;2;255;212;212m\u001b[38;2;149;0;0m ```\u001b[0m\u001b[48;2;255;175;175m\u001b[38;2;255;0;0msql\u001b[0m\u001b[48;2;255;175;175m\u001b[38;2;255;0;0m\n",
      "\u001b[0m\u001b[48;2;255;178;178m\u001b[38;2;244;0;0m   \u001b[0m\u001b[48;2;255;182;182m\u001b[38;2;234;0;0m INSERT\u001b[0m INTO extreme\u001b[48;2;255;211;211m\u001b[38;2;153;0;0m_n\u001b[0mailcare (`patientID`, `consentGiven`)\u001b[48;2;255;185;185m\u001b[38;2;225;0;0m VALUES\u001b[0m ('\u001b[48;2;255;201;201m\u001b[38;2;180;0;0mP\u001b[0m001', 1); -- where '1' means yes, they agreed to let you trim their\u001b[48;2;255;203;203m\u001b[38;2;174;0;0m nails\u001b[0m\u001b[48;2;255;175;175m\u001b[38;2;255;0;0m \n",
      "\u001b[0m\u001b[48;2;255;175;175m\u001b[38;2;255;0;0m   \u001b[0m ```\n",
      "\n",
      "3. Update Query (using conditional statement):\n",
      "\n",
      "\u001b[48;2;255;206;206m\u001b[38;2;167;0;0m   \u001b[0m ```\u001b[48;2;255;175;175m\u001b[38;2;255;0;0msql\u001b[0m\u001b[48;2;255;175;175m\u001b[38;2;255;0;0m\n",
      "\u001b[0m\u001b[48;2;255;188;188m\u001b[38;2;217;0;0m   \u001b[0m UPDATE extreme\u001b[48;2;255;225;225m\u001b[38;2;113;0;0m_n\u001b[0mailcare SET\u001b[48;2;255;175;175m\u001b[38;2;255;0;0m \n",
      "\u001b[0m\u001b[48;2;255;175;175m\u001b[38;2;255;0;0m     \u001b[0m notes = CONCAT\u001b[48;2;255;181;181m\u001b[38;2;237;0;0m('\u001b[0m\u001b[48;2;255;192;192m\u001b[38;2;204;0;0mT\u001b[0mried trimming\u001b[48;2;255;183;183m\u001b[38;2;229;0;0m nails\u001b[0m but the patient refused due to\u001b[48;2;255;175;175m\u001b[38;2;255;0;0m pain\u001b[0m\u001b[48;2;255;197;197m\u001b[38;2;190;0;0m.',\u001b[0m\u001b[48;2;255;175;175m\u001b[38;2;255;0;0m \n",
      "\u001b[0m\u001b[48;2;255;175;175m\u001b[38;2;255;0;0m                   \u001b[0m\u001b[48;2;255;175;175m\u001b[38;2;255;0;0m '\u001b[0m Please consult with your supervisor before attempting again.')\u001b[48;2;255;175;175m\u001b[38;2;255;0;0m \n",
      "\u001b[0m\u001b[48;2;255;175;175m\u001b[38;2;255;0;0m   \u001b[0m WHERE consentGiven = 0; -- this will update the note field only when the value of '\u001b[48;2;255;190;190m\u001b[38;2;211;0;0mcons\u001b[0mentGiven' column is zero (i.e., no\u001b[48;2;255;185;185m\u001b[38;2;226;0;0m)\n",
      "\u001b[0m\u001b[48;2;255;175;175m\u001b[38;2;255;0;0m   \u001b[0m ```\n",
      "\n",
      "4. Another possible way to achieve the same result could be by using a CASE statement as\u001b[48;2;255;175;175m\u001b[38;2;255;0;0m follows\u001b[0m\u001b[48;2;255;209;209m\u001b[38;2;157;0;0m:\n",
      "\n",
      "\u001b[0m\u001b[48;2;255;190;190m\u001b[38;2;212;0;0m   \u001b[0m ```\u001b[48;2;255;175;175m\u001b[38;2;255;0;0msql\u001b[0m\u001b[48;2;255;175;175m\u001b[38;2;255;0;0m\n",
      "\u001b[0m\u001b[48;2;255;201;201m\u001b[38;2;181;0;0m   \u001b[0m UPDATE extreme\u001b[48;2;255;222;222m\u001b[38;2;122;0;0m_n\u001b[0mailcare SET\u001b[48;2;255;175;175m\u001b[38;2;255;0;0m \n",
      "\u001b[0m\u001b[48;2;255;180;180m\u001b[38;2;238;0;0m     \u001b[0m notes = CASE WHEN consentGiven = 0 THEN\u001b[48;2;255;175;175m\u001b[38;2;255;0;0m \n",
      "\u001b[0m\u001b[48;2;255;183;183m\u001b[38;2;231;0;0m       \u001b[0m CONCAT\u001b[48;2;255;192;192m\u001b[38;2;206;0;0m('\u001b[0m\u001b[48;2;255;175;175m\u001b[38;2;255;0;0mT\u001b[0mried trimming\u001b[48;2;255;213;213m\u001b[38;2;146;0;0m nails\u001b[0m but the patient refused due to\u001b[48;2;255;175;175m\u001b[38;2;255;0;0m pain\u001b[0m.',\u001b[48;2;255;175;175m\u001b[38;2;255;0;0m \n",
      "\u001b[0m\u001b[48;2;255;175;175m\u001b[38;2;255;0;0m             \u001b[0m\u001b[48;2;255;175;175m\u001b[38;2;255;0;0m '\u001b[0m Please consult with your supervisor before attempting again.')\n",
      "\u001b[48;2;255;191;191m\u001b[38;2;208;0;0m       \u001b[0m ELSE notes END;\n",
      "\u001b[48;2;255;221;221m\u001b[38;2;123;0;0m   \u001b[0m ```\n",
      "\n",
      "5. Alternatively, we can use a SWITCH statement like so\u001b[48;2;255;196;196m\u001b[38;2;193;0;0m:\n",
      "\n",
      "\u001b[0m\u001b[48;2;255;213;213m\u001b[38;2;146;0;0m   \u001b[0m\u001b[48;2;255;220;220m\u001b[38;2;127;0;0m ```\u001b[0m\u001b[48;2;255;175;175m\u001b[38;2;255;0;0msql\u001b[0m\u001b[48;2;255;177;177m\u001b[38;2;247;0;0m\n",
      "\u001b[0m\u001b[48;2;255;211;211m\u001b[38;2;153;0;0m   \u001b[0m UPDATE extreme_nailcare SET\u001b[48;2;255;175;175m\u001b[38;2;255;0;0m \n",
      "\u001b[0m\u001b[48;2;255;179;179m\u001b[38;2;242;0;0m     \u001b[0m notes\u001b[48;2;255;233;233m\u001b[38;2;89;0;0m =\u001b[0m CASE WHEN consentGiven = 0 THEN\u001b[48;2;255;175;175m\u001b[38;2;255;0;0m \n",
      "\u001b[0m\u001b[48;2;255;193;193m\u001b[38;2;201;0;0m       \u001b[0m\u001b[48;2;255;209;209m\u001b[38;2;159;0;0m '\u001b[0m\u001b[48;2;255;175;175m\u001b[38;2;255;0;0mT\u001b[0mried trimming\u001b[48;2;255;206;206m\u001b[38;2;166;0;0m nails\u001b[0m but the patient refused due to\u001b[48;2;255;181;181m\u001b[38;2;237;0;0m pain\u001b[0m.'\u001b[48;2;255;175;175m\u001b[38;2;255;0;0m +\u001b[0m\u001b[48;2;255;175;175m\u001b[38;2;255;0;0m \n",
      "\u001b[0m\u001b[48;2;255;175;175m\u001b[38;2;255;0;0m         \u001b[0m\u001b[48;2;255;175;175m\u001b[38;2;255;0;0m '\u001b[0mPlease consult with your supervisor before attempting\u001b[48;2;255;177;177m\u001b[38;2;248;0;0m again\u001b[0m.'\n",
      "\u001b[48;2;255;207;207m\u001b[38;2;162;0;0m       \u001b[0m WHEN consentGiven = 1 AND DATE(NOW()) > DATE(`dateOfProcedure`)\u001b[48;2;255;175;175m\u001b[38;2;255;0;0m +\u001b[0m INTERVAL\u001b[48;2;255;211;211m\u001b[38;2;153;0;0m \u001b[0m7 DAY THEN\u001b[48;2;255;175;175m\u001b[38;2;255;0;0m\n",
      "\u001b[0m\u001b[48;2;255;196;196m\u001b[38;2;195;0;0m         \u001b[0m\u001b[48;2;255;215;215m\u001b[38;2;142;0;0m '\u001b[0mIt has been more\u001b[48;2;255;175;175m\u001b[38;2;255;0;0m than\u001b[0m one week since last visit\u001b[48;2;255;200;200m\u001b[38;2;182;0;0m.\u001b[0m Check up needed?'\n",
      "\u001b[48;2;255;208;208m\u001b[38;2;161;0;0m       \u001b[0m\u001b[48;2;255;207;207m\u001b[38;2;163;0;0m ELSE\u001b[0m notes END;\n",
      "    ```\n",
      "\n",
      "\u001b[48;2;255;190;190m\u001b[38;2;211;0;0mIn\u001b[0m all three cases above, the updated record\u001b[48;2;255;198;198m\u001b[38;2;188;0;0m will\u001b[0m contain either the default message along with\u001b[48;2;255;175;175m\u001b[38;2;255;0;0m instructions\u001b[0m\u001b[48;2;255;200;200m\u001b[38;2;182;0;0m to\u001b[0m seek supervision or another query regarding\u001b[48;2;255;175;175m\u001b[38;2;255;0;0m next\u001b[0m follow-up appointment depending upon individual conditions\u001b[48;2;255;253;253m\u001b[38;2;33;0;0m.\u001b[0m<|im_end|>\u001b[48;2;255;175;175m\u001b[38;2;255;0;0m\n",
      "\u001b[0m\n"
     ]
    }
   ],
   "source": [
    "highlight_feature(subset[7], sorted_indices[34], model, sae, tokenizer)"
   ]
  }
 ],
 "metadata": {
  "kernelspec": {
   "display_name": "Python 3 (ipykernel)",
   "language": "python",
   "name": "python3"
  },
  "language_info": {
   "codemirror_mode": {
    "name": "ipython",
    "version": 3
   },
   "file_extension": ".py",
   "mimetype": "text/x-python",
   "name": "python",
   "nbconvert_exporter": "python",
   "pygments_lexer": "ipython3",
   "version": "3.10.13"
  }
 },
 "nbformat": 4,
 "nbformat_minor": 4
}
