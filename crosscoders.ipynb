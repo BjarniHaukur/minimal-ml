{
 "cells": [
  {
   "cell_type": "markdown",
   "metadata": {},
   "source": [
    "# Crosscoders\n",
    "Attempting to recreate the SAE model Anthropic wrote about recently.\n",
    "\n",
    "Its a SAE which is layer and model agnostic.\n",
    "\n",
    "I'm not sure about the model agnostic part, but I have an idea about layer the layer agnostic part."
   ]
  },
  {
   "cell_type": "code",
   "execution_count": 1,
   "metadata": {},
   "outputs": [],
   "source": [
    "import torch\n",
    "import torch.nn as nn\n",
    "import torch.nn.functional as F\n",
    "from torch.optim import Adam\n",
    "from torch.utils.data import DataLoader\n",
    "\n",
    "from transformers import AutoTokenizer, AutoModelForCausalLM\n",
    "\n",
    "from datasets import load_dataset"
   ]
  },
  {
   "cell_type": "code",
   "execution_count": 158,
   "metadata": {},
   "outputs": [
    {
     "name": "stdout",
     "output_type": "stream",
     "text": [
      "print(\"Hello World\")\n",
      "print(\"Hello World\")\n",
      "print(\"Hello World\")\n",
      "print(\"Hello World\")\n",
      "print(\"Hello\n"
     ]
    }
   ],
   "source": [
    "DEVICE = \"mps\"\n",
    "\n",
    "tokenizer = AutoTokenizer.from_pretrained(\"Qwen/Qwen2.5-Coder-0.5B\")\n",
    "model = AutoModelForCausalLM.from_pretrained(\"Qwen/Qwen2.5-Coder-0.5B\").to(DEVICE)\n",
    "model.eval()\n",
    "\n",
    "tokens = tokenizer.encode(\"print(\\\"Hello\", return_tensors=\"pt\").to(DEVICE)\n",
    "generation = model.generate(tokens, max_new_tokens=20, pad_token_id=tokenizer.eos_token_id)\n",
    "print(tokenizer.decode(generation[0], skip_special_tokens=True))"
   ]
  },
  {
   "cell_type": "markdown",
   "metadata": {},
   "source": [
    "We can very simply get the hidden states by setting output_hidden_states=True flag."
   ]
  },
  {
   "cell_type": "code",
   "execution_count": 3,
   "metadata": {},
   "outputs": [
    {
     "data": {
      "text/plain": [
       "(25, torch.Size([1, 1, 896]))"
      ]
     },
     "execution_count": 3,
     "metadata": {},
     "output_type": "execute_result"
    }
   ],
   "source": [
    "out = model(tokens, output_hidden_states=True)\n",
    "\n",
    "# train SAE on these\n",
    "len(out.hidden_states), out.hidden_states[0].shape\n"
   ]
  },
  {
   "cell_type": "markdown",
   "metadata": {},
   "source": [
    "and we can register hooks to modify the activations as we please."
   ]
  },
  {
   "cell_type": "code",
   "execution_count": 4,
   "metadata": {},
   "outputs": [
    {
     "name": "stdout",
     "output_type": "stream",
     "text": [
      "Hello///....    to to//// H HO \n",
      "Hello, I am trying to create a function that takes a list of numbers and returns the sum of all\n"
     ]
    }
   ],
   "source": [
    "layer = model.model.layers[0].mlp.up_proj\n",
    "\n",
    "hook = layer.register_forward_hook(lambda module, input, output: output * 0)\n",
    "\n",
    "generation = model.generate(tokens, max_new_tokens=20, pad_token_id=tokenizer.eos_token_id)\n",
    "print(tokenizer.decode(generation[0], skip_special_tokens=True))\n",
    "\n",
    "hook.remove()\n",
    "\n",
    "generation = model.generate(tokens, max_new_tokens=20, pad_token_id=tokenizer.eos_token_id)\n",
    "print(tokenizer.decode(generation[0], skip_special_tokens=True))"
   ]
  },
  {
   "cell_type": "markdown",
   "metadata": {},
   "source": [
    "The sparse autoencoder itself is quite simple. It's a traditional autoencoder, but with a twist: instead of 'compressing' the input through a bottleneck, it's overcomplete - meaning it has a larger hidden size than the input size.\n",
    "\n",
    "There are different ways of achieving sparsity in these activations. One popular formulation uses a top_k activation function to ensure only the k most important features remain active, while others methods directly optimize for sparsity through various loss terms.\n",
    "\n",
    "The model is trained to reconstruct its input from these sparse activations using reconstruction loss. We can also evaluate its effectiveness by measuring \"recovered\" loss - essentially comparing the next-token prediction accuracy (via negative log-likelihood) both before and after applying the SAE intervention. This helps us understand how well the SAE preserves the important information from the original representations."
   ]
  },
  {
   "cell_type": "code",
   "execution_count": 5,
   "metadata": {},
   "outputs": [
    {
     "name": "stderr",
     "output_type": "stream",
     "text": [
      "huggingface/tokenizers: The current process just got forked, after parallelism has already been used. Disabling parallelism to avoid deadlocks...\n",
      "To disable this warning, you can either:\n",
      "\t- Avoid using `tokenizers` before the fork if possible\n",
      "\t- Explicitly set the environment variable TOKENIZERS_PARALLELISM=(true | false)\n"
     ]
    }
   ],
   "source": [
    "BATCH_SIZE = 8\n",
    "SEQ_LEN = 64\n",
    "HIDDEN_SIZE = model.config.hidden_size\n",
    "\n",
    "def collate_fn(batch):\n",
    "    tokenized = [tokenizer.encode(item[\"text\"], return_tensors=\"pt\")[0] for item in batch]\n",
    "    tokenized = [seq[:SEQ_LEN] for seq in tokenized]\n",
    "    \n",
    "    return {\n",
    "        \"input_ids\": nn.utils.rnn.pad_sequence(tokenized, batch_first=True, padding_value=tokenizer.pad_token_id),\n",
    "        \"attention_mask\": torch.tril(torch.ones(BATCH_SIZE, SEQ_LEN)).bool()\n",
    "    }\n",
    "\n",
    "train_ds = load_dataset(\"imdb\", split=\"train\")\n",
    "val_ds = load_dataset(\"imdb\", split=\"test\")\n",
    "\n",
    "train_loader = DataLoader(train_ds, batch_size=BATCH_SIZE, collate_fn=collate_fn)\n",
    "val_loader = DataLoader(val_ds, batch_size=BATCH_SIZE, collate_fn=collate_fn)"
   ]
  },
  {
   "cell_type": "code",
   "execution_count": 6,
   "metadata": {},
   "outputs": [
    {
     "data": {
      "text/plain": [
       "torch.Size([512, 896])"
      ]
     },
     "execution_count": 6,
     "metadata": {},
     "output_type": "execute_result"
    }
   ],
   "source": [
    "batch = next(iter(train_loader))\n",
    "\n",
    "out = model(batch[\"input_ids\"].to(DEVICE), attention_mask=batch[\"attention_mask\"].to(DEVICE), output_hidden_states=True)\n",
    "\n",
    "# we would then randomly sample from the layers\n",
    "# and collapase the batch and sequence dimensions\n",
    "\n",
    "out.hidden_states[0].reshape(-1, HIDDEN_SIZE).shape\n"
   ]
  },
  {
   "cell_type": "code",
   "execution_count": 33,
   "metadata": {},
   "outputs": [],
   "source": [
    "class SAE(nn.Module):\n",
    "    def __init__(self, input_size, hidden_size, top_k=5):\n",
    "        super().__init__()\n",
    "        self.top_k = top_k\n",
    "        self.encoder = nn.Linear(input_size, hidden_size)\n",
    "        self.decoder = nn.Linear(hidden_size, input_size)\n",
    "        # maybe add a batch norm after the encoder to get a sensible range of values / loss later on\n",
    "        \n",
    "    def encode(self, x):\n",
    "        x = self.encoder(x)\n",
    "        top_k = torch.topk(x, k=self.top_k)\n",
    "        sparse = torch.zeros_like(x, device=x.device, dtype=x.dtype)\n",
    "        sparse.scatter_(1, top_k.indices, top_k.values)\n",
    "        return top_k.indices, top_k.values\n",
    "    \n",
    "    def decode(self, indices, values):\n",
    "        sparse = torch.zeros(indices.shape[0], indices.shape[1], self.hidden_size).to(indices.device)\n",
    "        sparse.scatter_(1, indices, values)\n",
    "        return self.decoder(sparse)\n",
    "\n",
    "    def forward(self, x):\n",
    "        indices, values = self.encode(x)\n",
    "        return self.decode(indices, values)\n",
    "    \n",
    "sae = SAE(HIDDEN_SIZE, HIDDEN_SIZE * 2).to(DEVICE)\n",
    "sae(out.hidden_states[0].reshape(-1, HIDDEN_SIZE)).shape"
   ]
  },
  {
   "cell_type": "markdown",
   "metadata": {},
   "source": [
    "I am borrowing an idea from diffusion models and will encode at which layer in the transformer model, the SAE is being applied to (in diffusion it would be the level of noise being on the image that it needs to denoise).\n",
    "\n",
    "Here I implement a sinusoidal positional encoding for the layers. One could also use learnable embeddings, but I fear that would \"divide\" the expressiveness of the SAE between these embeddings and the SAE itself. Using static Sinusoidal PE sounds like a better option."
   ]
  },
  {
   "cell_type": "code",
   "execution_count": 8,
   "metadata": {},
   "outputs": [],
   "source": [
    "import math\n",
    "\n",
    "N_LAYERS = model.config.num_hidden_layers\n",
    "\n",
    "class SinusoidalPositionalEncoding(nn.Module):\n",
    "    def __init__(self, hidden_size, max_len):\n",
    "        super().__init__()\n",
    "        self.hidden_size = hidden_size\n",
    "        self.max_len = max_len\n",
    "        \n",
    "        position = torch.arange(max_len).unsqueeze(1)\n",
    "        div_term = torch.exp(torch.arange(0, hidden_size, 2) * (-math.log(10000.0) / hidden_size))\n",
    "        \n",
    "        pe = torch.zeros(max_len, hidden_size)\n",
    "        pe[:, 0::2] = torch.sin(position * div_term)\n",
    "        pe[:, 1::2] = torch.cos(position * div_term)\n",
    "        \n",
    "        self.register_buffer('pe', pe)\n",
    "\n",
    "    def forward(self, x, pos):\n",
    "        return x + self.pe[pos]\n",
    "\n",
    "pos_enc = SinusoidalPositionalEncoding(HIDDEN_SIZE, N_LAYERS).to(DEVICE)"
   ]
  },
  {
   "cell_type": "markdown",
   "metadata": {},
   "source": [
    "Now to train\n",
    "\n",
    "Firstly, I dislike the habit people have of doing an entire training epoch before validating (especially since datasets can be huge). So I more often than not do the following"
   ]
  },
  {
   "cell_type": "code",
   "execution_count": 9,
   "metadata": {},
   "outputs": [],
   "source": [
    "def cycle(dl):\n",
    "    while True: yield from dl\n",
    "\n",
    "EPOCHS = 1\n",
    "\n",
    "NUM_STEPS_PER_TRAIN_EPOCH = len(train_loader)\n",
    "NUM_STEPS_PER_VAL_EPOCH = len(val_loader)\n",
    "\n",
    "# per epoch\n",
    "INTERLEAVE_EVERY = 100\n",
    "N_INTERLEAVES = NUM_STEPS_PER_TRAIN_EPOCH // INTERLEAVE_EVERY\n",
    "N_VALIDATION_STEPS = NUM_STEPS_PER_TRAIN_EPOCH // N_INTERLEAVES\n",
    "\n",
    "\n",
    "cycled_train = cycle(train_loader)\n",
    "cycled_val = cycle(val_loader)"
   ]
  },
  {
   "cell_type": "code",
   "execution_count": null,
   "metadata": {},
   "outputs": [],
   "source": [
    "from tqdm import tqdm\n",
    "\n",
    "optim = Adam(sae.parameters(), lr=1e-3)\n",
    "\n",
    "train_loss, val_loss = float(\"inf\"), float(\"inf\")\n",
    "train_losses, val_losses = [], []\n",
    "\n",
    "\n",
    "def sae_step(batch):\n",
    "    with torch.no_grad():\n",
    "        out = model(batch[\"input_ids\"].to(DEVICE), attention_mask=batch[\"attention_mask\"].to(DEVICE), output_hidden_states=True)\n",
    "\n",
    "    random_layers = torch.randint(0, N_LAYERS, (BATCH_SIZE,))\n",
    "    inputs = torch.cat([out.hidden_states[i].reshape(-1, HIDDEN_SIZE) for i in random_layers], dim=0)\n",
    "    random_layers = torch.repeat_interleave(random_layers, SEQ_LEN * BATCH_SIZE)\n",
    "    inputs = pos_enc(inputs, random_layers)\n",
    "    reconstructed = sae(inputs)\n",
    "    return F.mse_loss(reconstructed, inputs)\n",
    "\n",
    "step_iter = tqdm(range(EPOCHS * NUM_STEPS_PER_TRAIN_EPOCH), desc=\"Training\")\n",
    "for step in step_iter:\n",
    "    batch = next(cycled_train)\n",
    "    \n",
    "    loss = sae_step(batch)\n",
    "    \n",
    "    optim.zero_grad()\n",
    "    loss.backward()\n",
    "    optim.step()\n",
    "    \n",
    "    train_losses.append(loss.item())\n",
    "    train_loss = loss.item()\n",
    "    \n",
    "    step_iter.set_postfix({\"Train Loss\": f\"{train_loss:.4f}\", \"Val Loss\": f\"{val_loss:.4f}\"})\n",
    "    \n",
    "    if step % INTERLEAVE_EVERY == 0:\n",
    "        interleaved_losses = []\n",
    "        for _ in range(N_VALIDATION_STEPS):\n",
    "            with torch.no_grad():\n",
    "                batch = next(cycled_val)\n",
    "                loss = sae_step(batch)\n",
    "                interleaved_losses.append(loss.item())\n",
    "                \n",
    "                val_loss = loss.item()\n",
    "                \n",
    "                step_iter.set_postfix({\"Train Loss\": f\"{train_loss:.4f}\", \"Val Loss\": f\"{val_loss:.4f}\"})\n",
    "\n",
    "        val_loss = sum(interleaved_losses) / len(interleaved_losses)\n",
    "        val_losses.append(val_loss)\n"
   ]
  },
  {
   "cell_type": "markdown",
   "metadata": {},
   "source": [
    "Skipping the first few steps to see the trend later on."
   ]
  },
  {
   "cell_type": "code",
   "execution_count": 13,
   "metadata": {},
   "outputs": [
    {
     "data": {
      "image/png": "[encoded data removed]",
      "text/plain": [
       "<Figure size 1000x600 with 1 Axes>"
      ]
     },
     "metadata": {},
     "output_type": "display_data"
    }
   ],
   "source": [
    "from matplotlib import pyplot as plt\n",
    "\n",
    "train_steps = range(len(train_losses))\n",
    "val_steps = range(0, len(train_losses), INTERLEAVE_EVERY)[:len(val_losses)]\n",
    "\n",
    "plt.figure(figsize=(10, 6))\n",
    "plt.plot(train_steps[len(train_steps)//10:], train_losses[len(train_losses)//10:], label='Train Loss', alpha=0.5)\n",
    "plt.plot(val_steps[len(val_steps)//10:], val_losses[len(val_losses)//10:], label='Validation Loss', linewidth=2)\n",
    "plt.xlabel('Training Steps')\n",
    "plt.ylabel('Loss')\n",
    "plt.legend()\n",
    "plt.grid(True)\n",
    "plt.show()"
   ]
  },
  {
   "cell_type": "markdown",
   "metadata": {},
   "source": [
    "Still trending downwards, only trained this for 20-30 minutes on my mac. "
   ]
  },
  {
   "cell_type": "markdown",
   "metadata": {},
   "source": [
    "Now we can try to see whether the SAE is picking up on something interesting."
   ]
  },
  {
   "cell_type": "code",
   "execution_count": 23,
   "metadata": {},
   "outputs": [
    {
     "data": {
      "text/plain": [
       "(47, 53)"
      ]
     },
     "execution_count": 23,
     "metadata": {},
     "output_type": "execute_result"
    }
   ],
   "source": [
    "subset = val_ds.shuffle(seed=42).select(range(100))\n",
    "positives = [x[\"text\"] for x in subset if x[\"label\"] == 1]\n",
    "negatives = [x[\"text\"] for x in subset if x[\"label\"] == 0]\n",
    "\n",
    "positives = [tokenizer.encode(x, return_tensors=\"pt\") for x in positives]\n",
    "negatives = [tokenizer.encode(x, return_tensors=\"pt\") for x in negatives]\n",
    "\n",
    "len(positives), len(negatives)"
   ]
  },
  {
   "cell_type": "code",
   "execution_count": 36,
   "metadata": {},
   "outputs": [],
   "source": [
    "LAYER = model.config.num_hidden_layers // 2  # maybe the middle is interesting\n",
    "\n",
    "with torch.no_grad():\n",
    "    positive_activations = [model(x.to(DEVICE), output_hidden_states=True).hidden_states[LAYER].reshape(-1, HIDDEN_SIZE) for x in tqdm(positives)]\n",
    "    negative_activations = [model(x.to(DEVICE), output_hidden_states=True).hidden_states[LAYER].reshape(-1, HIDDEN_SIZE) for x in tqdm(negatives)]\n",
    "\n",
    "    positive_activations = torch.cat(positive_activations, dim=0)\n",
    "    negative_activations = torch.cat(negative_activations, dim=0)\n",
    "    \n",
    "    positive_indices, positive_values = sae.encode(positive_activations)\n",
    "    negative_indices, negative_values = sae.encode(negative_activations)\n"
   ]
  },
  {
   "cell_type": "code",
   "execution_count": 81,
   "metadata": {},
   "outputs": [],
   "source": [
    "positive_counts = torch.bincount(positive_indices.flatten(), minlength=HIDDEN_SIZE * 2)\n",
    "negative_counts = torch.bincount(negative_indices.flatten(), minlength=HIDDEN_SIZE * 2)\n",
    "\n",
    "sorted_indices = torch.sort(positive_counts + negative_counts, descending=True).indices\n"
   ]
  },
  {
   "cell_type": "code",
   "execution_count": 155,
   "metadata": {},
   "outputs": [],
   "source": [
    "def highlight_feature_activations(text, feature_idx, model, sae, tokenizer, device=\"mps\"):\n",
    "    # ANSI color codes for background\n",
    "    RESET = \"\\033[0m\"\n",
    "    def get_color(value):\n",
    "        normalized = math.log(value + 1e-5) / math.log(torch.tensor(100.0))  # arbitrarily scaling to get nicer colors\n",
    "        normalized = max(0.0, min(1.0, normalized))  # clip to 0-1\n",
    "        \n",
    "        # Create a yellow-orange gradient\n",
    "        r = int(255 * normalized)\n",
    "        g = int(200 * normalized)\n",
    "        b = int(50 * normalized)\n",
    "        \n",
    "        return f\"\\033[48;2;{r};{g};{b}m\"\n",
    "    \n",
    "    # Tokenize and get model outputs\n",
    "    tokens = tokenizer.encode(text, return_tensors=\"pt\").to(device)\n",
    "    with torch.no_grad():\n",
    "        outputs = model(tokens, output_hidden_states=True)\n",
    "        hidden_states = outputs.hidden_states[LAYER]\n",
    "        hidden_states = hidden_states.reshape(-1, model.config.hidden_size)\n",
    "        indices, values = sae.encode(hidden_states)\n",
    "        \n",
    "        # Create feature mask\n",
    "        feature_mask = (indices == feature_idx).any(dim=1)\n",
    "        feature_values = torch.zeros_like(feature_mask, dtype=torch.float)\n",
    "        for i, (idx, val) in enumerate(zip(indices, values)):\n",
    "            if feature_idx in idx:\n",
    "                feature_values[i] = val[idx == feature_idx].max()\n",
    "    \n",
    "    # Decode tokens and apply colors\n",
    "    tokens = tokens[0].cpu().numpy()\n",
    "    decoded = []\n",
    "    for i, token in enumerate(tokens):\n",
    "        word = tokenizer.decode([token])\n",
    "        if feature_mask[i]:\n",
    "            color = get_color(feature_values[i].item())\n",
    "            decoded.append(f\"{color}{word}{RESET}\")\n",
    "        else:\n",
    "            decoded.append(word)\n",
    "    \n",
    "    return \"\".join(decoded)\n",
    "\n",
    "def highlight_feature(text, feature_idx, model, sae, tokenizer, device=\"mps\"):\n",
    "    example_text = tokenizer.decode(text[0], skip_special_tokens=True)\n",
    "    colored_text = highlight_feature_activations(example_text, feature_idx, model, sae, tokenizer)\n",
    "    print(colored_text)"
   ]
  },
  {
   "cell_type": "markdown",
   "metadata": {},
   "source": [
    "Now we can at last highlight the features.\n",
    "\n",
    "The most common activations appear to \"overfire\" in this small example we have done. "
   ]
  },
  {
   "cell_type": "code",
   "execution_count": 88,
   "metadata": {},
   "outputs": [
    {
     "name": "stdout",
     "output_type": "stream",
     "text": [
      "This\u001b[48;2;102;80;20m is\u001b[0m\u001b[48;2;100;78;19m the\u001b[0m\u001b[48;2;69;54;13m latest\u001b[0m\u001b[48;2;88;69;17m entry\u001b[0m\u001b[48;2;96;75;18m in\u001b[0m\u001b[48;2;95;74;18m the\u001b[0m\u001b[48;2;57;44;11m long\u001b[0m\u001b[48;2;71;56;14m series\u001b[0m\u001b[48;2;81;64;16m of\u001b[0m\u001b[48;2;71;56;14m films\u001b[0m\u001b[48;2;52;41;10m with\u001b[0m\u001b[48;2;54;42;10m the\u001b[0m\u001b[48;2;78;61;15m French\u001b[0m\u001b[48;2;91;71;17m agent\u001b[0m\u001b[48;2;71;56;14m,\u001b[0m\u001b[48;2;81;64;16m O\u001b[0m\u001b[48;2;89;70;17m.S\u001b[0m\u001b[48;2;104;81;20m.S\u001b[0m\u001b[48;2;103;81;20m.\u001b[0m\u001b[48;2;79;62;15m \u001b[0m\u001b[48;2;85;66;16m1\u001b[0m\u001b[48;2;82;64;16m1\u001b[0m\u001b[48;2;97;76;19m7\u001b[0m\u001b[48;2;69;54;13m (\u001b[0m\u001b[48;2;86;67;16mthe\u001b[0m\u001b[48;2;96;75;18m French\u001b[0m\u001b[48;2;83;65;16m answer\u001b[0m\u001b[48;2;77;60;15m to\u001b[0m\u001b[48;2;78;61;15m James\u001b[0m\u001b[48;2;89;69;17m Bond\u001b[0m\u001b[48;2;96;76;19m).\u001b[0m\u001b[48;2;95;74;18m The\u001b[0m\u001b[48;2;73;57;14m series\u001b[0m was launched in the early\u001b[48;2;45;35;8m \u001b[0m19\u001b[48;2;60;47;11m5\u001b[0m\u001b[48;2;26;21;5m0\u001b[0m\u001b[48;2;63;50;12m's\u001b[0m\u001b[48;2;63;49;12m,\u001b[0m and\u001b[48;2;46;36;9m spawned\u001b[0m at least\u001b[48;2;68;53;13m eight\u001b[0m\u001b[48;2;61;48;12m films\u001b[0m\u001b[48;2;60;47;11m (\u001b[0m\u001b[48;2;77;60;15mnone\u001b[0m\u001b[48;2;37;29;7m of\u001b[0m\u001b[48;2;90;70;17m which\u001b[0m\u001b[48;2;72;57;14m was\u001b[0m\u001b[48;2;63;50;12m ever\u001b[0m released in the\u001b[48;2;41;32;8m U\u001b[0m\u001b[48;2;37;29;7m.S\u001b[0m\u001b[48;2;58;45;11m.).\u001b[0m\u001b[48;2;65;51;12m '\u001b[0m\u001b[48;2;97;76;19mO\u001b[0m\u001b[48;2;102;80;20m.S\u001b[0m\u001b[48;2;113;88;22m.S\u001b[0m\u001b[48;2;108;84;21m.\u001b[0m\u001b[48;2;92;72;18m1\u001b[0m\u001b[48;2;91;71;17m1\u001b[0m\u001b[48;2;116;91;22m7\u001b[0m\u001b[48;2;87;68;17m:C\u001b[0m\u001b[48;2;104;82;20mairo\u001b[0m\u001b[48;2;49;38;9m,N\u001b[0m\u001b[48;2;86;67;16mest\u001b[0m\u001b[48;2;80;63;15m Of\u001b[0m\u001b[48;2;53;42;10m Sp\u001b[0m\u001b[48;2;96;75;18mies\u001b[0m\u001b[48;2;93;73;18m'\u001b[0m\u001b[48;2;77;60;15m is\u001b[0m\u001b[48;2;58;46;11m a\u001b[0m bree\u001b[48;2;80;63;15mzy\u001b[0m\u001b[48;2;46;36;9m little\u001b[0m\u001b[48;2;78;61;15m comedy\u001b[0m\u001b[48;2;45;35;8m that\u001b[0m should not\u001b[48;2;63;49;12m...\u001b[0m\u001b[48;2;61;47;11mrepeat\u001b[0m\u001b[48;2;74;58;14m NOT\u001b[0m\u001b[48;2;76;59;14m,\u001b[0m\u001b[48;2;55;43;10m be\u001b[0m\u001b[48;2;35;27;6m taken\u001b[0m too\u001b[48;2;70;55;13m seriously\u001b[0m\u001b[48;2;60;47;11m.\u001b[0m\u001b[48;2;88;69;17m Our\u001b[0m\u001b[48;2;100;78;19m protagonist\u001b[0m\u001b[48;2;71;55;13m finds\u001b[0m\u001b[48;2;84;66;16m himself\u001b[0m\u001b[48;2;68;53;13m in\u001b[0m\u001b[48;2;68;53;13m the\u001b[0m\u001b[48;2;43;34;8m middle\u001b[0m\u001b[48;2;80;63;15m of\u001b[0m\u001b[48;2;75;58;14m a\u001b[0m\u001b[48;2;90;70;17m spy\u001b[0m\u001b[48;2;87;68;17m chase\u001b[0m in\u001b[48;2;97;76;19m Egypt\u001b[0m (\u001b[48;2;77;60;15mwith\u001b[0m\u001b[48;2;38;29;7m Mor\u001b[0m\u001b[48;2;71;56;14mro\u001b[0m\u001b[48;2;91;72;18mco\u001b[0m\u001b[48;2;51;40;10m doing\u001b[0m stand\u001b[48;2;63;50;12m in\u001b[0m\u001b[48;2;76;59;14m for\u001b[0m\u001b[48;2;103;81;20m Egypt\u001b[0m\u001b[48;2;75;59;14m)\u001b[0m\u001b[48;2;51;40;10m to\u001b[0m\u001b[48;2;72;57;14m find\u001b[0m out about\u001b[48;2;50;39;9m a\u001b[0m\u001b[48;2;32;25;6m long\u001b[0m\u001b[48;2;57;44;11m lost\u001b[0m\u001b[48;2;64;50;12m friend\u001b[0m\u001b[48;2;74;58;14m.\u001b[0m\u001b[48;2;40;32;8m What\u001b[0m\u001b[48;2;60;47;11m follows\u001b[0m\u001b[48;2;62;48;12m is\u001b[0m\u001b[48;2;70;55;13m the\u001b[0m\u001b[48;2;76;59;14m standard\u001b[0m\u001b[48;2;81;63;15m James\u001b[0m\u001b[48;2;94;74;18m Bond\u001b[0m\u001b[48;2;47;37;9m/\u001b[0m\u001b[48;2;86;68;17mInspector\u001b[0m Clou\u001b[48;2;79;62;15mss\u001b[0m\u001b[48;2;38;29;7mou\u001b[0m kind of antics\u001b[48;2;62;48;12m.\u001b[0m\u001b[48;2;53;41;10m Although\u001b[0m\u001b[48;2;75;59;14m our\u001b[0m\u001b[48;2;59;46;11m man\u001b[0m\u001b[48;2;87;68;17m is\u001b[0m something of an overt xenoph\u001b[48;2;80;63;15mobe\u001b[0m\u001b[48;2;70;54;13m,\u001b[0msex\u001b[48;2;57;45;11mist\u001b[0m,homoph\u001b[48;2;63;50;12mobe\u001b[0m\u001b[48;2;59;46;11m,\u001b[0m it\u001b[48;2;53;42;10m's\u001b[0m treated\u001b[48;2;42;33;8m as\u001b[0m pure far\u001b[48;2;71;55;13mce\u001b[0m (as\u001b[48;2;39;30;7m I\u001b[0m said\u001b[48;2;51;40;10m,\u001b[0m don\u001b[48;2;73;57;14m't\u001b[0m\u001b[48;2;72;57;14m take\u001b[0m\u001b[48;2;66;52;13m it\u001b[0m too\u001b[48;2;80;63;15m seriously\u001b[0m\u001b[48;2;53;42;10m).\u001b[0m\u001b[48;2;77;60;15m Although\u001b[0m there\u001b[48;2;52;41;10m is\u001b[0m\u001b[48;2;58;46;11m a\u001b[0m bit of rough\u001b[48;2;81;63;15m language\u001b[0m\u001b[48;2;29;22;5m &\u001b[0m cartoon\u001b[48;2;78;61;15m violence\u001b[0m\u001b[48;2;73;57;14m,\u001b[0m\u001b[48;2;41;32;8m it\u001b[0m\u001b[48;2;68;54;13m's\u001b[0m\u001b[48;2;37;29;7m basically\u001b[0m\u001b[48;2;61;48;12m okay\u001b[0m for\u001b[48;2;89;70;17m older\u001b[0m\u001b[48;2;79;62;15m kids\u001b[0m\u001b[48;2;52;41;10m (\u001b[0m\u001b[48;2;62;49;12mages\u001b[0m\u001b[48;2;80;63;15m \u001b[0m\u001b[48;2;54;42;10m1\u001b[0m\u001b[48;2;93;73;18m2\u001b[0m\u001b[48;2;61;47;11m &\u001b[0m\u001b[48;2;101;79;19m up\u001b[0m\u001b[48;2;63;49;12m).\u001b[0m As\u001b[48;2;69;54;13m previously\u001b[0m\u001b[48;2;58;46;11m stated\u001b[0m\u001b[48;2;90;71;17m in\u001b[0m\u001b[48;2;86;67;16m the\u001b[0m\u001b[48;2;56;44;11m subject\u001b[0m\u001b[48;2;89;70;17m line\u001b[0m\u001b[48;2;80;63;15m,\u001b[0m just\u001b[48;2;44;34;8m sit\u001b[0m\u001b[48;2;51;40;10m back\u001b[0m\u001b[48;2;75;58;14m,\u001b[0m\u001b[48;2;67;53;13mpass\u001b[0m\u001b[48;2;59;46;11m the\u001b[0m popcorn\u001b[48;2;52;41;10m &\u001b[0m\u001b[48;2;61;48;12m just\u001b[0m\u001b[48;2;55;43;10m enjoy\u001b[0m\u001b[48;2;68;53;13m.\u001b[0m\n",
      "This\u001b[48;2;92;72;18m movie\u001b[0m\u001b[48;2;72;56;14m spends\u001b[0m most of its\u001b[48;2;78;61;15m time\u001b[0m preaching\u001b[48;2;96;75;18m that\u001b[0m\u001b[48;2;42;33;8m it\u001b[0m\u001b[48;2;94;74;18m is\u001b[0m\u001b[48;2;83;65;16m the\u001b[0m\u001b[48;2;72;56;14m script\u001b[0m\u001b[48;2;82;64;16m that\u001b[0m\u001b[48;2;75;59;14m makes\u001b[0m\u001b[48;2;85;66;16m the\u001b[0m\u001b[48;2;79;61;15m movie\u001b[0m\u001b[48;2;84;65;16m,\u001b[0m\u001b[48;2;85;66;16m but\u001b[0m\u001b[48;2;97;76;19m apparently\u001b[0m\u001b[48;2;71;56;14m there\u001b[0m\u001b[48;2;77;60;15m was\u001b[0m\u001b[48;2;92;72;18m no\u001b[0m\u001b[48;2;116;91;22m script\u001b[0m\u001b[48;2;89;70;17m when\u001b[0m\u001b[48;2;82;65;16m they\u001b[0m\u001b[48;2;69;54;13m shot\u001b[0m\u001b[48;2;81;63;15m this\u001b[0m\u001b[48;2;43;33;8m waste\u001b[0m of\u001b[48;2;67;52;13m time\u001b[0m\u001b[48;2;83;65;16m!\u001b[0m\u001b[48;2;101;79;19m The\u001b[0m\u001b[48;2;94;74;18m trailer\u001b[0m\u001b[48;2;46;36;9m makes\u001b[0m\u001b[48;2;78;61;15m this\u001b[0m out\u001b[48;2;43;34;8m to\u001b[0m\u001b[48;2;82;64;16m be\u001b[0m\u001b[48;2;65;51;12m a\u001b[0m\u001b[48;2;90;70;17m comedy\u001b[0m\u001b[48;2;81;64;16m,\u001b[0m\u001b[48;2;55;43;10m but\u001b[0m\u001b[48;2;85;66;16m the\u001b[0m\u001b[48;2;60;47;11m film\u001b[0m can\u001b[48;2;48;37;9m't\u001b[0m\u001b[48;2;39;30;7m decide\u001b[0m\u001b[48;2;76;60;15m if\u001b[0m\u001b[48;2;50;39;9m it\u001b[0m\u001b[48;2;70;55;13m wants\u001b[0m\u001b[48;2;77;60;15m to\u001b[0m\u001b[48;2;69;54;13m be\u001b[0m\u001b[48;2;75;58;14m a\u001b[0m\u001b[48;2;108;84;21m comedy\u001b[0m\u001b[48;2;83;65;16m,\u001b[0m\u001b[48;2;70;55;13m a\u001b[0m\u001b[48;2;88;69;17m drama\u001b[0m\u001b[48;2;82;64;16m,\u001b[0m\u001b[48;2;84;66;16m a\u001b[0m\u001b[48;2;74;58;14m romance\u001b[0m\u001b[48;2;50;39;9m or\u001b[0m\u001b[48;2;56;44;11m an\u001b[0m\u001b[48;2;92;72;18m action\u001b[0m film\u001b[48;2;78;61;15m.\u001b[0m\u001b[48;2;60;47;11m Press\u001b[0m\u001b[48;2;97;76;19m releases\u001b[0m\u001b[48;2;63;49;12m indicated\u001b[0m\u001b[48;2;79;62;15m that\u001b[0m\u001b[48;2;68;54;13m Sh\u001b[0m\u001b[48;2;72;57;14mat\u001b[0m\u001b[48;2;107;84;21mner\u001b[0m\u001b[48;2;60;47;11m and\u001b[0m Ham\u001b[48;2;83;65;16mlin\u001b[0m\u001b[48;2;53;41;10m made\u001b[0m\u001b[48;2;71;56;14m this\u001b[0m\u001b[48;2;63;49;12m movie\u001b[0m\u001b[48;2;33;26;6m because\u001b[0m\u001b[48;2;79;62;15m they\u001b[0m\u001b[48;2;54;42;10m loved\u001b[0m\u001b[48;2;74;58;14m the\u001b[0m\u001b[48;2;65;51;12m script\u001b[0m\u001b[48;2;60;47;11m (\u001b[0m\u001b[48;2;76;59;14mwhat\u001b[0m\u001b[48;2;56;44;11m were\u001b[0m\u001b[48;2;90;70;17m they\u001b[0m\u001b[48;2;79;62;15m thinking\u001b[0m\u001b[48;2;74;58;14m?).\u001b[0m\u001b[48;2;84;66;16m If\u001b[0m\u001b[48;2;81;64;16m you\u001b[0m\u001b[48;2;83;65;16m like\u001b[0m\u001b[48;2;83;65;16m William\u001b[0m Sh\u001b[48;2;49;39;9mat\u001b[0m\u001b[48;2;91;71;17mner\u001b[0m\u001b[48;2;49;39;9m (\u001b[0m\u001b[48;2;73;57;14mI\u001b[0m do\u001b[48;2;96;75;18m)\u001b[0m\u001b[48;2;64;50;12m see\u001b[0m\u001b[48;2;73;57;14m \"\u001b[0m\u001b[48;2;99;77;19mFree\u001b[0m\u001b[48;2;113;88;22m Enterprise\u001b[0m\u001b[48;2;91;71;17m\"\u001b[0m\u001b[48;2;51;40;10m instead\u001b[0m\u001b[48;2;77;60;15m.\u001b[0m\n"
     ]
    }
   ],
   "source": [
    "highlight_feature(positives[1], sorted_indices[0], model, sae, tokenizer)\n",
    "highlight_feature(negatives[1], sorted_indices[0], model, sae, tokenizer)"
   ]
  },
  {
   "cell_type": "markdown",
   "metadata": {},
   "source": [
    "Some features I have naively labelled"
   ]
  },
  {
   "cell_type": "markdown",
   "metadata": {},
   "source": [
    "\"Referring to someone or something\" feature"
   ]
  },
  {
   "cell_type": "code",
   "execution_count": 98,
   "metadata": {},
   "outputs": [
    {
     "name": "stdout",
     "output_type": "stream",
     "text": [
      "I\u001b[48;2;108;85;21m was\u001b[0m\u001b[48;2;48;38;9m truly\u001b[0m and wonderfully surprised at \"O' Brother, Where Art Thou?\" The video store\u001b[48;2;87;68;17m was\u001b[0m out of all the movies I\u001b[48;2;90;71;17m was\u001b[0m planning on renting,\u001b[48;2;39;30;7m so\u001b[0m\u001b[48;2;49;38;9m then\u001b[0m\u001b[48;2;81;64;16m I\u001b[0m\u001b[48;2;70;54;13m came\u001b[0m across this.\u001b[48;2;80;62;15m I\u001b[0m\u001b[48;2;85;66;16m came\u001b[0m home\u001b[48;2;61;48;12m and\u001b[0m\u001b[48;2;51;40;10m as\u001b[0m\u001b[48;2;70;55;13m I\u001b[0m watched\u001b[48;2;58;46;11m I\u001b[0m\u001b[48;2;75;59;14m became\u001b[0m engrossed\u001b[48;2;55;43;10m and\u001b[0m\u001b[48;2;67;52;13m found\u001b[0m\u001b[48;2;59;46;11m myself\u001b[0m laughing out loud. The Coen's\u001b[48;2;67;53;13m have\u001b[0m\u001b[48;2;41;32;8m made\u001b[0m a magnificiant film again.\u001b[48;2;43;33;8m But\u001b[0m\u001b[48;2;76;59;14m I\u001b[0m think the first time you watch this movie,\u001b[48;2;52;41;10m you\u001b[0m\u001b[48;2;62;48;12m get\u001b[0m to know the characters. The second time,\u001b[48;2;26;20;5m now\u001b[0m that\u001b[48;2;48;37;9m you\u001b[0m know them,\u001b[48;2;50;39;9m you\u001b[0m laugh sooo hard it could hurt you.\u001b[48;2;67;52;13m I\u001b[0m strongly would reccomend ANYONE seeing this because\u001b[48;2;34;27;6m if\u001b[0m\u001b[48;2;51;40;10m you\u001b[0m\u001b[48;2;83;65;16m are\u001b[0m\u001b[48;2;64;50;12m not\u001b[0m, you\u001b[48;2;79;62;15m are\u001b[0m truly missing a film gem for the ages. 10/10\n",
      "Don't pay any attention to the rave reviews of this film here. It\u001b[48;2;79;61;15m is\u001b[0m the worst Van Damme film and one of the worst of any sort I\u001b[48;2;77;60;15m have\u001b[0m\u001b[48;2;57;44;11m ever\u001b[0m seen. It would appeal to somebody with no depth whatever who requires nothing more than gunfire and explosions to\u001b[48;2;38;30;7m be\u001b[0m entertained.<br /><br />Seeing that this\u001b[48;2;68;54;13m is\u001b[0m directed by Peter Hyams it\u001b[48;2;71;55;13m has\u001b[0m\u001b[48;2;29;22;5m made\u001b[0m\u001b[48;2;66;52;13m me\u001b[0m realise that Peter\u001b[48;2;74;58;14m has\u001b[0m no talent as a director,\u001b[48;2;37;29;7m but\u001b[0m\u001b[48;2;87;68;17m is\u001b[0m very good at filming explosions and the like.\u001b[48;2;32;25;6m However\u001b[0m, movies need other elements as well; for example, a story. This one\u001b[48;2;68;53;13m didn\u001b[0m\u001b[48;2;50;39;9m't\u001b[0m\u001b[48;2;55;43;10m have\u001b[0m one.\u001b[48;2;36;28;7m This\u001b[0m might explain the awfulness of some of Mr. Hyams' more recent films, hardly any better than this one, really.<br /><br />One\u001b[48;2;57;45;11m can\u001b[0m\u001b[48;2;38;30;7m't\u001b[0m help wondering how some people ever\u001b[48;2;87;68;17m were\u001b[0m put behind a camera.\n"
     ]
    }
   ],
   "source": [
    "highlight_feature(positives[2], sorted_indices[8], model, sae, tokenizer)\n",
    "highlight_feature(negatives[2], sorted_indices[8], model, sae, tokenizer)"
   ]
  },
  {
   "cell_type": "markdown",
   "metadata": {},
   "source": [
    "\"End of sentence\" feature"
   ]
  },
  {
   "cell_type": "code",
   "execution_count": 105,
   "metadata": {},
   "outputs": [
    {
     "name": "stdout",
     "output_type": "stream",
     "text": [
      "After a very long time Marathi cinema has come with some good movie\u001b[48;2;61;47;11m.This\u001b[0m movie is one of the best Marathi movies ever made\u001b[48;2;101;79;19m.\u001b[0m It shows how a old grandfather tries to save his grandsons eye\u001b[48;2;97;76;19m.\u001b[0m He tries everything that is possible in his hands to save the child's eye\u001b[48;2;96;75;18m.\u001b[0m Doctor and a relative of his tries to help him in his attempt\u001b[48;2;71;56;14m.<\u001b[0m\u001b[48;2;50;39;9mbr\u001b[0m\u001b[48;2;27;21;5m /><\u001b[0mbr\u001b[48;2;72;56;14m />\u001b[0mThe acting by the grandfather, the boy and the doctor are simply superb\u001b[48;2;95;75;18m.\u001b[0m They have shown true picture of a typical Marathi life\u001b[48;2;93;73;18m.\u001b[0m Every bit of action has some meaning in it\u001b[48;2;91;72;18m.\u001b[0m I would recommend to watch this movie, as initially I thought this one would be of documentary type but this was above my expectations\u001b[48;2;77;60;15m.<\u001b[0m\u001b[48;2;60;47;11mbr\u001b[0m\u001b[48;2;41;32;8m /><\u001b[0m\u001b[48;2;56;44;11mbr\u001b[0m\u001b[48;2;79;62;15m />\u001b[0mThis film is really going to touch your hearts.I would expect more Marathi movies to come up with performances like this\u001b[48;2;97;76;19m.\u001b[0m\n",
      "Porn legend Gregory Dark directs this cheesy horror flick that has Glen Jacobs (Kane from WWF/WWE/ whatever it calls itself nowadays\u001b[48;2;40;31;7m)\u001b[0m in his cinematic debut\u001b[48;2;97;76;19m.\u001b[0m He plays Jacob Goodknight, a blind serial killer who's forte is taking people's eyes out\u001b[48;2;98;77;19m.\u001b[0m The plot, be it as it may, has a group of troubled youths cleaning up the historical hotel that GoodKnight resides in and subsequently being offed by him\u001b[48;2;95;75;18m.\u001b[0m Hemmingway it's not\u001b[48;2;92;72;18m.\u001b[0m Starts of as fun dopey B-movie, but soon gets too tedious to be enjoyable\u001b[48;2;92;72;18m.\u001b[0m Glad I went in with pretty low expectations, but even those weren't met\u001b[48;2;97;76;19m.\u001b[0m How can you have a porn king directing and still suffer from a lack of nudity\u001b[48;2;85;66;16m???\u001b[0m for shame\u001b[48;2;68;53;13m.<\u001b[0m\u001b[48;2;53;42;10mbr\u001b[0m\u001b[48;2;29;23;5m /><\u001b[0m\u001b[48;2;44;35;8mbr\u001b[0m\u001b[48;2;69;54;13m />\u001b[0mMy Grade: D-\u001b[48;2;42;33;8m <\u001b[0m\u001b[48;2;44;34;8mbr\u001b[0m\u001b[48;2;36;28;7m /><\u001b[0m\u001b[48;2;42;33;8mbr\u001b[0m\u001b[48;2;64;50;12m />\u001b[0mEye Candy\u001b[48;2;55;43;10m:\u001b[0m Samantha Noble bares her ass briefly\n"
     ]
    }
   ],
   "source": [
    "highlight_feature(positives[3], sorted_indices[10], model, sae, tokenizer)\n",
    "highlight_feature(negatives[3], sorted_indices[10], model, sae, tokenizer)"
   ]
  },
  {
   "cell_type": "markdown",
   "metadata": {},
   "source": [
    "The \"the\" feature"
   ]
  },
  {
   "cell_type": "code",
   "execution_count": 110,
   "metadata": {},
   "outputs": [
    {
     "name": "stdout",
     "output_type": "stream",
     "text": [
      "This is a really sad, and touching movie! It deals with\u001b[48;2;90;71;17m the\u001b[0m subject of child abuse. It's really sad, but mostly a true story, because it happens everyday. Elijah Wood and Joseph Mazzello play\u001b[48;2;91;71;17m the\u001b[0m two children or Lorraine Bracco, a single mother who just tries to make a home for them. While living with her parents, a man, who likes to be called \"\u001b[48;2;86;67;16mThe\u001b[0m King\" comes into\u001b[48;2;58;46;11m their\u001b[0m life. He hits\u001b[48;2;85;67;16m the\u001b[0m youngest boy, Bobby, but\u001b[48;2;94;73;18m the\u001b[0m two brothers vow not to tell\u001b[48;2;49;38;9m their\u001b[0m mother. But finally she finds out, after\u001b[48;2;88;69;17m the\u001b[0m Bobby is hurt badly.\u001b[48;2;94;73;18m The\u001b[0m end kind of ruined it for me, because it is so totally unbelievable. But, except for that, I love\u001b[48;2;94;73;18m the\u001b[0m movie.\n",
      "OK, it was a \"risky\" move to rent this flick, but I thought I had nothing to lose.Well, I was wrong. This is, next to \"Bloodsurf\",\u001b[48;2;97;76;19m the\u001b[0m worst \"horrormovie\" I have ever seen. Crappy actors, crappy technical output, crappy story and so on.\u001b[48;2;91;71;17m The\u001b[0m soundtrack though, isn't to bad. That is why I give it a 2 on\u001b[48;2;89;69;17m the\u001b[0m vote and not just a 1. And of course\u001b[48;2;87;68;17m the\u001b[0m cats are a positive surprise. By far\u001b[48;2;86;67;16m the\u001b[0m superior actors in this movie..... Do not rent or buy it. Stay away from it and hope that this horrible, horrible film will vanish to some obscure existence and not become a \"cult classic\". It most definitely do not deserve any recognition.\n"
     ]
    }
   ],
   "source": [
    "highlight_feature(positives[4], sorted_indices[14], model, sae, tokenizer)\n",
    "highlight_feature(negatives[4], sorted_indices[14], model, sae, tokenizer)\n"
   ]
  },
  {
   "cell_type": "markdown",
   "metadata": {},
   "source": [
    "\"name\" feature"
   ]
  },
  {
   "cell_type": "code",
   "execution_count": 114,
   "metadata": {},
   "outputs": [
    {
     "name": "stdout",
     "output_type": "stream",
     "text": [
      "This was a great movie. Something not only for\u001b[48;2;51;40;10m Black\u001b[0m History month but as a reminder of the goodness of people and the statement that it truly does take a village to raise a child. The performances by\u001b[48;2;64;50;12m S\u001b[0m\u001b[48;2;60;47;11m E\u001b[0m\u001b[48;2;59;46;11mpt\u001b[0m\u001b[48;2;51;40;10math\u001b[0m was outstanding.\u001b[48;2;70;55;13m Mos\u001b[0m\u001b[48;2;77;60;15m Def\u001b[0m and his singing was off the hook. Had to do a double take when I saw that was\u001b[48;2;87;68;17m Rosie\u001b[0m\u001b[48;2;66;52;13m Perez\u001b[0m there. But the supporting cast of actors and actresses made this worth watching. All the different stories they had was amazing. And how\u001b[48;2;43;34;8m N\u001b[0m\u001b[48;2;73;57;14manny\u001b[0m protected\u001b[48;2;64;50;12m Jr\u001b[0m and literally everyone else that was in her presence. I can truly understand her being the matriarch of that time period and even more so how tired she was in helping everyone. Cant wait for it to come out on DVD. It would be a welcome addition to any movie library.\n",
      "These days, writers, directors and producers are relying more and more on the \"surprise\" ending. The old art of bringing a movie to closure, taking all of the information we have learned through out the movie and bringing it to a nice complete ending, has been lost. Now what we have is a movie that, no matter how complex, detailed, or frivolous, can be wrapped up in 5 minutes. It was all in his/her head. That explanation is the director's safety net. If all else fails, or if the writing wasn't that good, or if we ran out of money to complete the movie, we can always say \"it was all in his/her head\" and end the movie that way. The audience will buy it because, well, none of us are psychologists, and none of us are suffering from schizophrenia (not that we know about) so we take the story and believe it. After all, the mind is a powerful thing. Some movies have pulled it off. But those movies are the reason why we are getting more and more of these crap endings. Every director/writer now thinks they can pull it off because, well,\u001b[48;2;60;47;11m Fight\u001b[0m\u001b[48;2;75;59;14m Club\u001b[0m did it and it made a lot of money. So we get movies like\u001b[48;2;50;39;9m The\u001b[0m\u001b[48;2;54;43;10m Mach\u001b[0m\u001b[48;2;39;31;7min\u001b[0m\u001b[48;2;47;37;9mist\u001b[0m,\u001b[48;2;45;35;8m Secret\u001b[0m Window,\u001b[48;2;51;40;10m Identity\u001b[0m, and this movie (just to name a few).\n"
     ]
    }
   ],
   "source": [
    "highlight_feature(positives[5], sorted_indices[16], model, sae, tokenizer)\n",
    "highlight_feature(negatives[5], sorted_indices[16], model, sae, tokenizer)"
   ]
  },
  {
   "cell_type": "markdown",
   "metadata": {},
   "source": [
    "\"media\" feature?"
   ]
  },
  {
   "cell_type": "code",
   "execution_count": 119,
   "metadata": {},
   "outputs": [
    {
     "name": "stdout",
     "output_type": "stream",
     "text": [
      "If you're a fan of Turkish and Middle Eastern\u001b[48;2;71;56;14m music\u001b[0m, you're in great luck. This\u001b[48;2;106;83;20m film\u001b[0m is a\u001b[48;2;80;62;15m documentary\u001b[0m of current\u001b[48;2;66;52;13m music\u001b[0m in Istanbul, spanning the traditional to the modern. It's very good. You could not do better if you went to Istanbul yourself. We get\u001b[48;2;56;44;11m interviews\u001b[0m with Orhan Gencebay, concert clips of modern\u001b[48;2;60;47;11m musical\u001b[0m icons, a road show with a Romani (Gypsy) audience, Turkish Hip Hop (surprisingly very very good), and much much more. Some of the best female vocalists I've ever heard. A Kurdish woman singing in a hamam (steam bath) who will rip your heart out. Lots of social and political background. If this is your thing, you'll have a grand time. I could barely sit still in the\u001b[48;2;78;61;15m theatre\u001b[0m.<br /><br />\u001b[48;2;65;51;12mCD\u001b[0m soundtrack now available on amazon. Pricey.\n",
      "Teenager Tamara (Jenna Dewan) has it rough. She's ridiculed by all the popular \"kids\" for being shy,\u001b[48;2;44;34;8m book\u001b[0mish, frumpy and because of her interest in witchcraft. All of the\u001b[48;2;66;52;13m football\u001b[0m players and cheerleaders are especially angry at her for writing an article on steroid abuse for the school\u001b[48;2;60;47;11m paper\u001b[0m. On top of this, her dad's a drunk, her mom's not around and she's secretly in love with her supportive English teacher (Matthew Marsden). The popular kids set up a cruel prank to humiliate her, accidentally kill her during a struggle, bury the body in the woods and make a pact to keep silent. To their shock, the very next day Tamara walks back into the classroom looking seductive and, uh, dressed to kill. Yep, back from the dead and ready for supernatural revenge against everyone involved. She also takes time out to make her sexually abusive pop eat a\u001b[48;2;59;46;11m beer\u001b[0m\u001b[48;2;40;31;7m bottle\u001b[0m and tries to seduce her English teacher away from his wife (Claudette Mink), a guidance counselor at the school\u001b[48;2;31;25;6m.<\u001b[0mbr /><br />Acting and writing are strictly mediocre. You can also tell the people responsible for this have seen such\u001b[48;2;107;84;21m movies\u001b[0m\u001b[48;2;37;29;7m as\u001b[0m CARRIE (1\u001b[48;2;15;12;3m9\u001b[0m76), HELLO MARY LOU: PROM NIGHT II (1987) and THE CRAFT (1996) because it borrows wholesale from all three of those superior\u001b[48;2;102;80;20m films\u001b[0m. There's some gore (a guy cutting off his ear and tongue and then stabbing his eyeball probably being the best bit), a nasty vomiting\u001b[48;2;56;44;11m scene\u001b[0m and a few campy/witty one-liners. Not an awful\u001b[48;2;109;85;21m film\u001b[0m by any means, but not much originality went into it either.\n"
     ]
    }
   ],
   "source": [
    "highlight_feature(positives[6], sorted_indices[20], model, sae, tokenizer)\n",
    "highlight_feature(negatives[6], sorted_indices[20], model, sae, tokenizer)"
   ]
  },
  {
   "cell_type": "markdown",
   "metadata": {},
   "source": [
    "\"<'br' /><'br' />\" feature, for some reason it was not filtered out of the dataset"
   ]
  },
  {
   "cell_type": "code",
   "execution_count": 122,
   "metadata": {},
   "outputs": [
    {
     "name": "stdout",
     "output_type": "stream",
     "text": [
      "Dirty Harry goes to Atlanta is what Burt called this fantastic, first-rate detective thriller that borrows some of its plot from the venerable Dana Andrews movie \"Laura.\" Not only does Burt Reynolds star in this superb saga but he also helmed it and he doesn't make a single mistake either staging the action or with his casting of characters. Not a bad performance in the movie and Reynolds does an outstanding job of directing it. Henry Silva is truly icy as a hit-man\u001b[48;2;79;62;15m.<\u001b[0m\u001b[48;2;60;47;11mbr\u001b[0m\u001b[48;2;88;69;17m /><\u001b[0m\u001b[48;2;47;36;9mbr\u001b[0m />Detective Tom Sharky (Burt Reynolds) is on a narcotics case in underground Atlanta when everything goes wrong. He winds up chasing a suspect and shooting it out with the gunman on a bus. During the melee, an innocent bystander dies. John Woo's \"The Killer\" replicates this scene. Anyway, the Atlanta Police Department busts Burt down to Vice and he takes orders from a new boss, Frisco (Charles Durning of \"Oh, Brother, Where Art Thou?\") in the basement. Sharky winds up in a real cesspool of crime. Sharky and his fellow detectives Arch (Bernie Casey) and Papa (Brian Keith) set up surveillance on a high-priced call girl Dominoe (Rachel Ward of \"After Dark, My Sweet\")who has a luxurious apartment that she shares with another girl\u001b[48;2;68;54;13m.<\u001b[0m\u001b[48;2;58;46;11mbr\u001b[0m\u001b[48;2;89;70;17m /><\u001b[0m\u001b[48;2;44;35;8mbr\u001b[0m />Dominoe is seeing a local politician Hotchkins (Earl Holliman of \"Police Woman\") on the side who is campaigning for governor but the chief villain, Victor (Vittorio Gassman of \"The Dirty Game\") wants him to end the affair. Hotchkins is reluctant to accommodate Victor, so Victor has cocaine snorting Billy Score (Henry Silva of \"Wipeout\")terminate Dominoe. Billy blasts a hole the size of a twelve inch pizza in the door of Dominoe's apartment and kills her\u001b[48;2;55;43;10m.<\u001b[0m\u001b[48;2;48;38;9mbr\u001b[0m\u001b[48;2;83;65;16m /><\u001b[0m\u001b[48;2;38;30;7mbr\u001b[0m />Sharky has done the unthinkable. During the surveillance, he has grown fond of Dominoe to the point that he becomes hopelessly infatuated with her. Sharky's mission in life now is to bust Victor, but he learns that Victor has an informant inside the Atlanta Police Department. The plot really heats up when Sharky discovers later that Billy shot the wrong girl and that Dominoe is still alive! Sharky takes her into protective custody and things grow even more complicated. He assembles his \"Machine\" of the title to deal with Victor and his hoods\u001b[48;2;58;46;11m.<\u001b[0m\u001b[48;2;46;36;9mbr\u001b[0m\u001b[48;2;83;65;16m /><\u001b[0m\u001b[48;2;36;28;7mbr\u001b[0m />William Fraker's widescreen lensing of the action is immaculate. Unfortunately, this vastly underrated classic is available only as a full-frame film. Fraker definitely contributes to the atmosphere of the picture, especially during the mutilation scene on the boat when the villain's cut off one of Sharky's fingers. This is a rather gruesome scene\u001b[48;2;55;43;10m.<\u001b[0m\u001b[48;2;46;36;9mbr\u001b[0m\u001b[48;2;81;64;16m /><\u001b[0m\u001b[48;2;35;27;6mbr\u001b[0m />Burt never made a movie that surpassed \"Sharky's Machine.\"\n",
      "The story is: a turn-of-the-century troupe of actors, along with producers and theatre-owners, have very complicated relationships. A resident playwright has written a psychological drama. He wants to get a good production on stage, but can't unless he convinces a pariticular reviewer to revisit the production, and give a positive review. If his production does not go on, then the troupe will put on The Doll House, recently written by Ibsen. Many different relationships among the principals are explored; none of them interesting. But the involvement of the characters with one another lead to giving the play by the resident playwrght a second shot\u001b[48;2;80;63;15m.<\u001b[0m\u001b[48;2;61;48;12mbr\u001b[0m\u001b[48;2;88;69;17m /><\u001b[0m\u001b[48;2;49;38;9mbr\u001b[0m />This movie is purely an excuse for the director and his friends to get together and put on a movie. The story lines are incoherent to anyone who isn't a buddy of one of the stars. The only reason I didn't leave the theatre after about a half hour is that a fat lady was resting a full meal atop her stomach at the end of my row.\n"
     ]
    }
   ],
   "source": [
    "highlight_feature(positives[7], sorted_indices[22], model, sae, tokenizer)\n",
    "highlight_feature(negatives[7], sorted_indices[22], model, sae, tokenizer)"
   ]
  },
  {
   "cell_type": "markdown",
   "metadata": {},
   "source": [
    "\"counts of something\" feature"
   ]
  },
  {
   "cell_type": "code",
   "execution_count": 125,
   "metadata": {},
   "outputs": [
    {
     "name": "stdout",
     "output_type": "stream",
     "text": [
      "I'm \u001b[48;2;39;31;7m1\u001b[0m5, usually not kids my age usually watch these old classic movies. But this is\u001b[48;2;75;59;14m one\u001b[0m of my favorites. I was totally addicted after watching it for the first time. It's really good if u think about technology and movies back at that time, music is great, storyline is OK,choreography is great, must see it. I don't know why there's a prequel for this movie. Not\u001b[48;2;62;48;12m many\u001b[0m people like this movie, but i love classic love movies, they're so much better than movies now! This movie will make you smile, cry and make you start dancing. The music is absolutely ear catching and beautiful. I haven't seen Dirty Dancing 2 Harvana Nights(prequel), prequel should have star the original actors, thats what i hate about prequels, they ruin the original.\u001b[48;2;26;21;5m No\u001b[0m\u001b[48;2;46;36;9m one\u001b[0m wants a prequel, they want a sequel.\u001b[48;2;60;47;11m Many\u001b[0m people will agree that for a movie- the original, sequel and the \u001b[48;2;37;29;7m3\u001b[0mrd\u001b[48;2;31;24;6m one\u001b[0m is enough. Beyond that, people wont be bothered to watch it. Who remembers the movie about the St Benard Beethoven? I think there's \u001b[48;2;45;35;8m5\u001b[0m movies altogether.\n"
     ]
    }
   ],
   "source": [
    "highlight_feature(positives[8], sorted_indices[24], model, sae, tokenizer)\n",
    "highlight_feature(negatives[8], sorted_indices[24], model, sae, tokenizer)"
   ]
  },
  {
   "cell_type": "markdown",
   "metadata": {},
   "source": [
    "\"description of quality\" feature"
   ]
  },
  {
   "cell_type": "code",
   "execution_count": 131,
   "metadata": {},
   "outputs": [
    {
     "name": "stdout",
     "output_type": "stream",
     "text": [
      "Definitely a movie for people who ask only to be entertained and who do not over-think their movies. <br /><br />Lots of action, lots of\u001b[48;2;74;58;14m great\u001b[0m dialogue (e.g. fun to quote), a little intrigue, and stuff blowing up all over the place. Samuel L Jackson and Geena Davis had\u001b[48;2;70;55;13m great\u001b[0m chemistry. Violent, but not gory. The fact that the female part was the\u001b[48;2;62;48;12m competent\u001b[0m action lead is a\u001b[48;2;53;41;10m pleasant\u001b[0m turn-about.<br /><br />Have seen the movie more than a dozen times and still enjoy it enough to put it back in my favorite films rotation every 3 or 4 months. I initially rented the movie because Samuel L Jackson was in the film, but was caught up in the events surrounding Samantha's quest to regain her memory and have never looked back.<br /><br />All you cerebral folks out there -- suspend disbelief for once, take yourself a little less seriously -- you might actually enjoy yourselves!\n",
      "I was expecting a lot more of this film than what I actually got. The acting was just\u001b[48;2;57;45;11m awful\u001b[0m from everyone and the story was far from impressive. It took a lot of something I don't to even follow what was going because it was so jumpy. An example of the acting is when Paxton's character, Vann, is upset the South Vietnamese colonel for so he throws some of the sand from the \"sand map\". It was impossible to get any idea of what he was feeling and his actions were robotic. To make things worse, I have no idea how I'm supposed to feel about Vann. He's obviously presented as the protagonist but as soon as he gets to Vietnam he starts an affair with an Vietnamese English teacher. The only thing the movie had going for it was that it wasn't particularly boring. I give it 4 stars out of 10.\n"
     ]
    }
   ],
   "source": [
    "highlight_feature(positives[9], sorted_indices[28], model, sae, tokenizer)\n",
    "highlight_feature(negatives[9], sorted_indices[28], model, sae, tokenizer)"
   ]
  },
  {
   "cell_type": "markdown",
   "metadata": {},
   "source": [
    "a \"a\" feature"
   ]
  },
  {
   "cell_type": "code",
   "execution_count": 136,
   "metadata": {},
   "outputs": [
    {
     "name": "stdout",
     "output_type": "stream",
     "text": [
      "If Hollywood had the wellbeing of the audience at heart we would see 20 films\u001b[48;2;63;50;12m a\u001b[0m year with the kind of wholesome fortitude that is behind this film. There are several experiences of personal growth in this movie and while the characters ARE still very human even the lessons learned are not that greed will profit you, or do-unto-others-whatever-you-want-as-long-as-you-are-okay-with-it, no, this is what our sad, desensitized lives need, more sense... more love... more do-unto-others-as-you-would-have-done-unto-you... more HOPE. (thanks Ursula!) This movie has\u001b[48;2;60;47;11m an\u001b[0m intelligent wit, not \"yo' mama\" cracks that run rampant in the so-called comedies. People need to feel good. This movie will make you feel good and possibly inspire you to better your life, and the lives of others. sidenote Every person counts in ticket sales. This is\u001b[48;2;78;61;15m a\u001b[0m truly independent film. If you want more quality films you have to support them.\n",
      "Coming from Kiarostami, this art-house visual and sound exposition is\u001b[48;2;81;64;16m a\u001b[0m surprise. For\u001b[48;2;77;60;15m a\u001b[0m director known for his narratives and keen observation of humans, especially children, this excursion into minimalist cinematography begs for questions: Why did he do it? Was it to keep him busy during\u001b[48;2;73;57;14m a\u001b[0m vacation at the shore? <br /><br />\"Five, 5 Long Takes\" consists of, you guessed it, five long takes. They are (the title names are my own and the times approximate): <br /><br />\"Driftwood and waves\". The camera stands nearly still looking at\u001b[48;2;76;60;15m a\u001b[0m small piece of driftwood as it gets moved around by small waves splashing on\u001b[48;2;71;55;13m a\u001b[0m beach. Ten minutes.<br /><br />\"Watching people on the boardwalk\". The camera stands still looking at the ocean horizon and\u001b[48;2;80;62;15m a\u001b[0m boardwalk. People walk across the camera frame, their faces too far and blurry to make them interesting. Eleven minutes.<br /><br />\"Six dogs at the water's edge\". The camera stands still looking at the ocean horizon with\u001b[48;2;74;58;14m a\u001b[0m sandy stretch of beach nearby. Far away at the water's edge, six dogs not doing much, just relaxing. Sixteen minutes.<br /><br />\"Ducks in line, gaggle of ducks\". The camera stands still looking at the ocean horizon near the water's edge. Dozen and dozen of ducks stream in single file from left to right. I assume that Kiarostami released them gradually. The last two ducks stop dead on their track and suddenly\u001b[48;2;77;60;15m a\u001b[0m gaggle of ducks rolls quietly from right to left. I assume Kiarostami collected the ducks and re-released all at the same time. It is not the first time that he deals with the contrast between organized and disorganized behavior. Eight minutes.<br /><br />\"Frog symphony, oops, I mean cacophony, for\u001b[48;2;71;55;13m a\u001b[0m stormy night\". The camera stands over\u001b[48;2;77;61;15m a\u001b[0m pond at night. It's pitch black except for what appears to be the reflection of the moon on the undulating water. It is\u001b[48;2;79;62;15m a\u001b[0m stormy night and clouds race to cover the moon. The screen goes dark. What remains for us is the cacophony of frogs, howling dogs and, eventually, morning roosters. Hit me on the head if this was done in\u001b[48;2;75;58;14m a\u001b[0m single take. I saw this segment as\u001b[48;2;74;58;14m a\u001b[0m sound composition put together in the editing room and accompanied by\u001b[48;2;82;64;16m a\u001b[0m simple visualization. Twenty seven minutes! <br /><br />Except for the mildly amusing ducks, this exercise in minimalism left me cold.\u001b[48;2;82;65;16m A\u001b[0m nonessential film for Kiarostami admirers.<br /><br />I thought I would rate \"Five\"\u001b[48;2;78;61;15m a\u001b[0m five, but four is what it deserves.<br /><br />The film is dedicated to Yasujiru Ozu.\n"
     ]
    }
   ],
   "source": [
    "highlight_feature(positives[10], sorted_indices[30], model, sae, tokenizer)\n",
    "highlight_feature(negatives[10], sorted_indices[30], model, sae, tokenizer)\n"
   ]
  },
  {
   "cell_type": "markdown",
   "metadata": {},
   "source": [
    "This is the \"this/these/that/those\" feature"
   ]
  },
  {
   "cell_type": "code",
   "execution_count": 147,
   "metadata": {},
   "outputs": [
    {
     "name": "stdout",
     "output_type": "stream",
     "text": [
      "I was so happy to learn that Hari Om will finally be theatrically released in 2007. I saw\u001b[48;2;68;53;13m this\u001b[0m film three years ago at the Vancouver International film Festival and have been waiting for it's release ever since so I could send everyone I know to see it. It's like taking a trip to India....colorful, magical, thought provoking. Aside from one rather strange Hollywood style auto rickshaw chase scene\u001b[48;2;59;46;11m this\u001b[0m movie is very realistic.\u001b[48;2;66;51;12m This\u001b[0m is not a Bollywood style song and dance movie but it does have drama and romance and humor. The interactions between the Indian taxi driver and the french tourist are a good reflection on the fundamental differences between Eastern and Western life styles and philosophy. The characters are a little broadly drawn but the acting was very good. Visually\u001b[48;2;64;50;12m this\u001b[0m movie is a treat as you really do get a sense of what driving through Rajasthan is like...dreamlike. Sometimes it's hard to believe everything you are seeing and experiencing is real...the movie has that same quality. Great soundtrack too!\n",
      "In the early 00's, production companies had a short-lived craze for supernatural genre movies in France after \"The Crimson Rivers\" and \"Brotherhood of the Wolf\" turned out to be hits, so several movies were green-lit or saved from their \"direct-to-video\" fate. However, France, as opposed to the US, UK or Italy, has little tradition of fantasy B-movies and it turned out quickly that \"Samouraïs\", \"Bloody Mallory\" or the \"Crimson Rivers\" sequel were ill-advised attempts at recreating a kind of magic that had never existed in French cinema in the first place. As they flopped, producers have gone back to their usual fare: derivative farces or the umpteenth self-referential tribute to French New Wave by a former critic from \"Les Cahiers du cinéma\".<br /><br />\"Brocéliande\" could only have been green-lit during\u001b[48;2;67;53;13m this\u001b[0m short window, as it serves no other discernible purpose. It's your by-the-book slasher movie mixed with vague mythological element and horror references and you'll find bimboesque female characters, a French University looking like a US campus and plot twists so lazy you don't even care because you had guessed it by yourself an hour before, even before the movie started.<br /><br />\u001b[48;2;51;40;10mThese\u001b[0m elements make all the fun of a 70's or a 80's B-movie and you expect them in a 70's or 80's movie. However, we're not in the 80's anymore and nobody warned director Doug Headline, as\u001b[48;2;66;51;12m this\u001b[0m tribute to the slasher movie genre is nothing more than a derivative slasher movie. Headline himself is no rookie and has been writing as a critic about\u001b[48;2;70;55;13m this\u001b[0m\u001b[48;2;6;4;1m kind\u001b[0m of pictures since the early 80's but as a first time director he shows a lack of skill and ambition that makes \"Brocéliande\" a bore.<br /><br />When you put together clichés from a movie subcategory and hand them to a skilled and inventive director such as Wes Craven or Quentin Tarantino, you get a \"Scream\" or a \"Death Proof\", movies that are imitations from old guilty pleasures but also magnify\u001b[48;2;33;26;6m these\u001b[0m clichés and add a great deal to them.\u001b[48;2;45;35;8m That\u001b[0m's called \"talent\" and\u001b[48;2;31;24;6m that\u001b[0m's why you can't confuse\u001b[48;2;52;40;10m these\u001b[0m recent movies with their original inspirations shot decades ago.<br /><br />\"Brocéliande\" takes the lazy path and only reproduces the worst elements from past movies (unfortunately for the male viewer, the gratuitous nudity is mostly missing). There are very strong similarities (presumably unintentional) between the plot of \"Brocéliande\" and the reviled \"Halloween 3: Season Of The Witch\", as both deal with supernatural Druidic evil rituals and some silly attempt at taking over the world on Halloween night. As even the plot of \"Halloween 3\" makes more sense than\u001b[48;2;59;46;11m this\u001b[0m one, it means that something seriously wrong went with \"Brocéliande\".\n"
     ]
    }
   ],
   "source": [
    "highlight_feature(positives[11], sorted_indices[40], model, sae, tokenizer)\n",
    "highlight_feature(negatives[11], sorted_indices[40], model, sae, tokenizer)"
   ]
  }
 ],
 "metadata": {
  "kernelspec": {
   "display_name": ".venv",
   "language": "python",
   "name": "python3"
  },
  "language_info": {
   "codemirror_mode": {
    "name": "ipython",
    "version": 3
   },
   "file_extension": ".py",
   "mimetype": "text/x-python",
   "name": "python",
   "nbconvert_exporter": "python",
   "pygments_lexer": "ipython3",
   "version": "3.12.6"
  }
 },
 "nbformat": 4,
 "nbformat_minor": 2
}
